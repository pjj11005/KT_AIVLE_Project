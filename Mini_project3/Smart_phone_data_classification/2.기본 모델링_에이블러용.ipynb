{
 "cells": [
  {
   "cell_type": "markdown",
   "metadata": {
    "id": "NbI_RoQ9AP5r"
   },
   "source": [
    "#**스마트폰 센서 데이터 기반 모션 분류**\n",
    "# 단계2 : 기본 모델링\n"
   ]
  },
  {
   "cell_type": "markdown",
   "metadata": {
    "id": "D67PlTu4JGAY"
   },
   "source": [
    "## 0.미션"
   ]
  },
  {
   "cell_type": "markdown",
   "metadata": {
    "id": "wc1FlP4E09oQ"
   },
   "source": [
    "* 데이터 전처리\n",
    "    * 가변수화, 데이터 분할, NaN 확인 및 조치, 스케일링 등 필요한 전처리 수행\n",
    "* 다양한 알고리즘으로 분류 모델 생성\n",
    "    * 최소 4개 이상의 알고리즘을 적용하여 모델링 수행 \n",
    "    * 성능 비교\n",
    "    * 각 모델의 성능을 저장하는 별도 데이터 프레임을 만들고 비교\n",
    "* 옵션 : 다음 사항은 선택사항입니다. 시간이 허용하는 범위 내에서 수행하세요.\n",
    "    * 상위 N개 변수를 선정하여 모델링 및 성능 비교\n",
    "        * 모델링에 항상 모든 변수가 필요한 것은 아닙니다.\n",
    "        * 변수 중요도 상위 N개를 선정하여 모델링하고 타 모델과 성능을 비교하세요.\n",
    "        * 상위 N개를 선택하는 방법은, 변수를 하나씩 늘려가며 모델링 및 성능 검증을 수행하여 적절한 지점을 찾는 것입니다."
   ]
  },
  {
   "cell_type": "markdown",
   "metadata": {
    "id": "LfH_oDcXSffu"
   },
   "source": [
    "## 1.환경설정"
   ]
  },
  {
   "cell_type": "markdown",
   "metadata": {
    "id": "gynBcDrZSffu"
   },
   "source": [
    "### (1) 라이브러리 불러오기"
   ]
  },
  {
   "cell_type": "markdown",
   "metadata": {
    "id": "I_rCs78QJZmI"
   },
   "source": [
    "* 세부 요구사항\n",
    "    - 기본적으로 필요한 라이브러리를 import 하도록 코드가 작성되어 있습니다.\n",
    "    - 필요하다고 판단되는 라이브러리를 추가하세요."
   ]
  },
  {
   "cell_type": "code",
   "execution_count": 103,
   "metadata": {
    "id": "o60rJAqKSffv"
   },
   "outputs": [],
   "source": [
    "import pandas as pd\n",
    "import numpy as np\n",
    "import matplotlib.pyplot as plt\n",
    "import seaborn as sns\n",
    "import joblib\n",
    "import re\n",
    "\n",
    "# 필요하다고 판단되는 라이브러리를 추가하세요.\n",
    "import warnings\n",
    "warnings.filterwarnings('ignore')\n",
    "\n",
    "from sklearn.ensemble import RandomForestClassifier\n",
    "from xgboost import XGBClassifier\n",
    "from lightgbm import LGBMClassifier\n",
    "from catboost import CatBoostClassifier\n",
    "from sklearn.metrics import *\n",
    "from sklearn.model_selection import train_test_split, GridSearchCV, RandomizedSearchCV, cross_val_score\n",
    "from sklearn.preprocessing import MinMaxScaler, StandardScaler"
   ]
  },
  {
   "cell_type": "markdown",
   "metadata": {
    "id": "FOUr8fa2Sffw"
   },
   "source": [
    "* 함수 생성"
   ]
  },
  {
   "cell_type": "code",
   "execution_count": 3,
   "metadata": {
    "id": "HH5VyFAtSffw"
   },
   "outputs": [],
   "source": [
    "# 변수의 특성 중요도 계산하기\n",
    "def plot_feature_importance(importance, names, result_only = False, topn = 'all'):\n",
    "    feature_importance = np.array(importance)\n",
    "    feature_name = np.array(names)\n",
    "\n",
    "    data={'feature_name':feature_name,'feature_importance':feature_importance}\n",
    "    fi_temp = pd.DataFrame(data)\n",
    "\n",
    "    #변수의 특성 중요도 순으로 정렬하기\n",
    "    fi_temp.sort_values(by=['feature_importance'], ascending=False,inplace=True)\n",
    "    fi_temp.reset_index(drop=True, inplace = True)\n",
    "\n",
    "    if topn == 'all' :\n",
    "        fi_df = fi_temp.copy()\n",
    "    else :\n",
    "        fi_df = fi_temp.iloc[:topn]\n",
    "\n",
    "    #변수의 특성 중요도 그래프로 그리기\n",
    "    if result_only == False :\n",
    "        plt.figure(figsize=(10,20))\n",
    "        sns.barplot(x='feature_importance', y='feature_name', data = fi_df)\n",
    "\n",
    "        plt.xlabel('importance')\n",
    "        plt.ylabel('feature name')\n",
    "        plt.grid()\n",
    "\n",
    "    return fi_df"
   ]
  },
  {
   "cell_type": "markdown",
   "metadata": {
    "id": "dvJRtBwfSffw"
   },
   "source": [
    "### (2) 데이터 불러오기"
   ]
  },
  {
   "attachments": {},
   "cell_type": "markdown",
   "metadata": {
    "id": "9OkifR5rnr2D"
   },
   "source": [
    "* 주어진 데이터셋\n",
    "    * data01_train.csv : 학습 및 검증용\n",
    "* 세부 요구사항\n",
    "    - 전체 데이터 'data01_train.csv' 를 불러와 'data' 이름으로 저장합니다.\n",
    "        - data에서 변수 subject는 삭제합니다.\n",
    "    - 데이터프레임에 대한 기본 정보를 확인합니다.( .head(), .shape 등)"
   ]
  },
  {
   "cell_type": "markdown",
   "metadata": {
    "id": "3GARafZCJBSo"
   },
   "source": [
    "#### 1) 데이터 로딩"
   ]
  },
  {
   "cell_type": "code",
   "execution_count": 104,
   "metadata": {
    "id": "8d43OHYshK_M"
   },
   "outputs": [
    {
     "data": {
      "text/html": [
       "<div>\n",
       "<style scoped>\n",
       "    .dataframe tbody tr th:only-of-type {\n",
       "        vertical-align: middle;\n",
       "    }\n",
       "\n",
       "    .dataframe tbody tr th {\n",
       "        vertical-align: top;\n",
       "    }\n",
       "\n",
       "    .dataframe thead th {\n",
       "        text-align: right;\n",
       "    }\n",
       "</style>\n",
       "<table border=\"1\" class=\"dataframe\">\n",
       "  <thead>\n",
       "    <tr style=\"text-align: right;\">\n",
       "      <th></th>\n",
       "      <th>tBodyAcc-mean()-X</th>\n",
       "      <th>tBodyAcc-mean()-Y</th>\n",
       "      <th>tBodyAcc-mean()-Z</th>\n",
       "      <th>tBodyAcc-std()-X</th>\n",
       "      <th>tBodyAcc-std()-Y</th>\n",
       "      <th>tBodyAcc-std()-Z</th>\n",
       "      <th>tBodyAcc-mad()-X</th>\n",
       "      <th>tBodyAcc-mad()-Y</th>\n",
       "      <th>tBodyAcc-mad()-Z</th>\n",
       "      <th>tBodyAcc-max()-X</th>\n",
       "      <th>...</th>\n",
       "      <th>fBodyBodyGyroJerkMag-skewness()</th>\n",
       "      <th>fBodyBodyGyroJerkMag-kurtosis()</th>\n",
       "      <th>angle(tBodyAccMean,gravity)</th>\n",
       "      <th>angle(tBodyAccJerkMean),gravityMean)</th>\n",
       "      <th>angle(tBodyGyroMean,gravityMean)</th>\n",
       "      <th>angle(tBodyGyroJerkMean,gravityMean)</th>\n",
       "      <th>angle(X,gravityMean)</th>\n",
       "      <th>angle(Y,gravityMean)</th>\n",
       "      <th>angle(Z,gravityMean)</th>\n",
       "      <th>Activity</th>\n",
       "    </tr>\n",
       "  </thead>\n",
       "  <tbody>\n",
       "    <tr>\n",
       "      <th>0</th>\n",
       "      <td>0.288508</td>\n",
       "      <td>-0.009196</td>\n",
       "      <td>-0.103362</td>\n",
       "      <td>-0.988986</td>\n",
       "      <td>-0.962797</td>\n",
       "      <td>-0.967422</td>\n",
       "      <td>-0.989000</td>\n",
       "      <td>-0.962596</td>\n",
       "      <td>-0.965650</td>\n",
       "      <td>-0.929747</td>\n",
       "      <td>...</td>\n",
       "      <td>-0.487737</td>\n",
       "      <td>-0.816696</td>\n",
       "      <td>-0.042494</td>\n",
       "      <td>-0.044218</td>\n",
       "      <td>0.307873</td>\n",
       "      <td>0.072790</td>\n",
       "      <td>-0.601120</td>\n",
       "      <td>0.331298</td>\n",
       "      <td>0.165163</td>\n",
       "      <td>STANDING</td>\n",
       "    </tr>\n",
       "    <tr>\n",
       "      <th>1</th>\n",
       "      <td>0.265757</td>\n",
       "      <td>-0.016576</td>\n",
       "      <td>-0.098163</td>\n",
       "      <td>-0.989551</td>\n",
       "      <td>-0.994636</td>\n",
       "      <td>-0.987435</td>\n",
       "      <td>-0.990189</td>\n",
       "      <td>-0.993870</td>\n",
       "      <td>-0.987558</td>\n",
       "      <td>-0.937337</td>\n",
       "      <td>...</td>\n",
       "      <td>-0.237820</td>\n",
       "      <td>-0.693515</td>\n",
       "      <td>-0.062899</td>\n",
       "      <td>0.388459</td>\n",
       "      <td>-0.765014</td>\n",
       "      <td>0.771524</td>\n",
       "      <td>0.345205</td>\n",
       "      <td>-0.769186</td>\n",
       "      <td>-0.147944</td>\n",
       "      <td>LAYING</td>\n",
       "    </tr>\n",
       "    <tr>\n",
       "      <th>2</th>\n",
       "      <td>0.278709</td>\n",
       "      <td>-0.014511</td>\n",
       "      <td>-0.108717</td>\n",
       "      <td>-0.997720</td>\n",
       "      <td>-0.981088</td>\n",
       "      <td>-0.994008</td>\n",
       "      <td>-0.997934</td>\n",
       "      <td>-0.982187</td>\n",
       "      <td>-0.995017</td>\n",
       "      <td>-0.942584</td>\n",
       "      <td>...</td>\n",
       "      <td>-0.535287</td>\n",
       "      <td>-0.829311</td>\n",
       "      <td>0.000265</td>\n",
       "      <td>-0.525022</td>\n",
       "      <td>-0.891875</td>\n",
       "      <td>0.021528</td>\n",
       "      <td>-0.833564</td>\n",
       "      <td>0.202434</td>\n",
       "      <td>-0.032755</td>\n",
       "      <td>STANDING</td>\n",
       "    </tr>\n",
       "    <tr>\n",
       "      <th>3</th>\n",
       "      <td>0.289795</td>\n",
       "      <td>-0.035536</td>\n",
       "      <td>-0.150354</td>\n",
       "      <td>-0.231727</td>\n",
       "      <td>-0.006412</td>\n",
       "      <td>-0.338117</td>\n",
       "      <td>-0.273557</td>\n",
       "      <td>0.014245</td>\n",
       "      <td>-0.347916</td>\n",
       "      <td>0.008288</td>\n",
       "      <td>...</td>\n",
       "      <td>-0.004012</td>\n",
       "      <td>-0.408956</td>\n",
       "      <td>-0.255125</td>\n",
       "      <td>0.612804</td>\n",
       "      <td>0.747381</td>\n",
       "      <td>-0.072944</td>\n",
       "      <td>-0.695819</td>\n",
       "      <td>0.287154</td>\n",
       "      <td>0.111388</td>\n",
       "      <td>WALKING</td>\n",
       "    </tr>\n",
       "    <tr>\n",
       "      <th>4</th>\n",
       "      <td>0.394807</td>\n",
       "      <td>0.034098</td>\n",
       "      <td>0.091229</td>\n",
       "      <td>0.088489</td>\n",
       "      <td>-0.106636</td>\n",
       "      <td>-0.388502</td>\n",
       "      <td>-0.010469</td>\n",
       "      <td>-0.109680</td>\n",
       "      <td>-0.346372</td>\n",
       "      <td>0.584131</td>\n",
       "      <td>...</td>\n",
       "      <td>-0.157832</td>\n",
       "      <td>-0.563437</td>\n",
       "      <td>-0.044344</td>\n",
       "      <td>-0.845268</td>\n",
       "      <td>-0.974650</td>\n",
       "      <td>-0.887846</td>\n",
       "      <td>-0.705029</td>\n",
       "      <td>0.264952</td>\n",
       "      <td>0.137758</td>\n",
       "      <td>WALKING_DOWNSTAIRS</td>\n",
       "    </tr>\n",
       "  </tbody>\n",
       "</table>\n",
       "<p>5 rows × 562 columns</p>\n",
       "</div>"
      ],
      "text/plain": [
       "   tBodyAcc-mean()-X  tBodyAcc-mean()-Y  tBodyAcc-mean()-Z  tBodyAcc-std()-X  \\\n",
       "0           0.288508          -0.009196          -0.103362         -0.988986   \n",
       "1           0.265757          -0.016576          -0.098163         -0.989551   \n",
       "2           0.278709          -0.014511          -0.108717         -0.997720   \n",
       "3           0.289795          -0.035536          -0.150354         -0.231727   \n",
       "4           0.394807           0.034098           0.091229          0.088489   \n",
       "\n",
       "   tBodyAcc-std()-Y  tBodyAcc-std()-Z  tBodyAcc-mad()-X  tBodyAcc-mad()-Y  \\\n",
       "0         -0.962797         -0.967422         -0.989000         -0.962596   \n",
       "1         -0.994636         -0.987435         -0.990189         -0.993870   \n",
       "2         -0.981088         -0.994008         -0.997934         -0.982187   \n",
       "3         -0.006412         -0.338117         -0.273557          0.014245   \n",
       "4         -0.106636         -0.388502         -0.010469         -0.109680   \n",
       "\n",
       "   tBodyAcc-mad()-Z  tBodyAcc-max()-X  ...  fBodyBodyGyroJerkMag-skewness()  \\\n",
       "0         -0.965650         -0.929747  ...                        -0.487737   \n",
       "1         -0.987558         -0.937337  ...                        -0.237820   \n",
       "2         -0.995017         -0.942584  ...                        -0.535287   \n",
       "3         -0.347916          0.008288  ...                        -0.004012   \n",
       "4         -0.346372          0.584131  ...                        -0.157832   \n",
       "\n",
       "   fBodyBodyGyroJerkMag-kurtosis()  angle(tBodyAccMean,gravity)  \\\n",
       "0                        -0.816696                    -0.042494   \n",
       "1                        -0.693515                    -0.062899   \n",
       "2                        -0.829311                     0.000265   \n",
       "3                        -0.408956                    -0.255125   \n",
       "4                        -0.563437                    -0.044344   \n",
       "\n",
       "   angle(tBodyAccJerkMean),gravityMean)  angle(tBodyGyroMean,gravityMean)  \\\n",
       "0                             -0.044218                          0.307873   \n",
       "1                              0.388459                         -0.765014   \n",
       "2                             -0.525022                         -0.891875   \n",
       "3                              0.612804                          0.747381   \n",
       "4                             -0.845268                         -0.974650   \n",
       "\n",
       "   angle(tBodyGyroJerkMean,gravityMean)  angle(X,gravityMean)  \\\n",
       "0                              0.072790             -0.601120   \n",
       "1                              0.771524              0.345205   \n",
       "2                              0.021528             -0.833564   \n",
       "3                             -0.072944             -0.695819   \n",
       "4                             -0.887846             -0.705029   \n",
       "\n",
       "   angle(Y,gravityMean)  angle(Z,gravityMean)            Activity  \n",
       "0              0.331298              0.165163            STANDING  \n",
       "1             -0.769186             -0.147944              LAYING  \n",
       "2              0.202434             -0.032755            STANDING  \n",
       "3              0.287154              0.111388             WALKING  \n",
       "4              0.264952              0.137758  WALKING_DOWNSTAIRS  \n",
       "\n",
       "[5 rows x 562 columns]"
      ]
     },
     "execution_count": 104,
     "metadata": {},
     "output_type": "execute_result"
    }
   ],
   "source": [
    "data = pd.read_csv('data01_train.csv')\n",
    "data = data.drop('subject', axis = 1)\n",
    "data.head()"
   ]
  },
  {
   "cell_type": "code",
   "execution_count": 5,
   "metadata": {
    "id": "XaXXFw00hK8c"
   },
   "outputs": [
    {
     "data": {
      "text/plain": [
       "(5881, 562)"
      ]
     },
     "execution_count": 5,
     "metadata": {},
     "output_type": "execute_result"
    }
   ],
   "source": [
    "data.shape"
   ]
  },
  {
   "cell_type": "markdown",
   "metadata": {
    "id": "X0BEoVuRSffx"
   },
   "source": [
    "#### 2) 기본 정보 조회"
   ]
  },
  {
   "cell_type": "code",
   "execution_count": 6,
   "metadata": {
    "id": "kR-zBmb5hP8-"
   },
   "outputs": [
    {
     "name": "stdout",
     "output_type": "stream",
     "text": [
      "<class 'pandas.core.frame.DataFrame'>\n",
      "RangeIndex: 5881 entries, 0 to 5880\n",
      "Columns: 562 entries, tBodyAcc-mean()-X to Activity\n",
      "dtypes: float64(561), object(1)\n",
      "memory usage: 25.2+ MB\n"
     ]
    }
   ],
   "source": [
    "data.info()"
   ]
  },
  {
   "cell_type": "code",
   "execution_count": 7,
   "metadata": {
    "id": "OnEBbdiIhP2g"
   },
   "outputs": [
    {
     "data": {
      "text/html": [
       "<div>\n",
       "<style scoped>\n",
       "    .dataframe tbody tr th:only-of-type {\n",
       "        vertical-align: middle;\n",
       "    }\n",
       "\n",
       "    .dataframe tbody tr th {\n",
       "        vertical-align: top;\n",
       "    }\n",
       "\n",
       "    .dataframe thead th {\n",
       "        text-align: right;\n",
       "    }\n",
       "</style>\n",
       "<table border=\"1\" class=\"dataframe\">\n",
       "  <thead>\n",
       "    <tr style=\"text-align: right;\">\n",
       "      <th></th>\n",
       "      <th>count</th>\n",
       "      <th>mean</th>\n",
       "      <th>std</th>\n",
       "      <th>min</th>\n",
       "      <th>25%</th>\n",
       "      <th>50%</th>\n",
       "      <th>75%</th>\n",
       "      <th>max</th>\n",
       "    </tr>\n",
       "  </thead>\n",
       "  <tbody>\n",
       "    <tr>\n",
       "      <th>tBodyAcc-mean()-X</th>\n",
       "      <td>5881.0</td>\n",
       "      <td>0.274811</td>\n",
       "      <td>0.067614</td>\n",
       "      <td>-0.503823</td>\n",
       "      <td>0.262919</td>\n",
       "      <td>0.277154</td>\n",
       "      <td>0.288526</td>\n",
       "      <td>1.000000</td>\n",
       "    </tr>\n",
       "    <tr>\n",
       "      <th>tBodyAcc-mean()-Y</th>\n",
       "      <td>5881.0</td>\n",
       "      <td>-0.017799</td>\n",
       "      <td>0.039422</td>\n",
       "      <td>-0.684893</td>\n",
       "      <td>-0.024877</td>\n",
       "      <td>-0.017221</td>\n",
       "      <td>-0.010920</td>\n",
       "      <td>1.000000</td>\n",
       "    </tr>\n",
       "    <tr>\n",
       "      <th>tBodyAcc-mean()-Z</th>\n",
       "      <td>5881.0</td>\n",
       "      <td>-0.109396</td>\n",
       "      <td>0.058373</td>\n",
       "      <td>-1.000000</td>\n",
       "      <td>-0.121051</td>\n",
       "      <td>-0.108781</td>\n",
       "      <td>-0.098163</td>\n",
       "      <td>1.000000</td>\n",
       "    </tr>\n",
       "    <tr>\n",
       "      <th>tBodyAcc-std()-X</th>\n",
       "      <td>5881.0</td>\n",
       "      <td>-0.603138</td>\n",
       "      <td>0.448807</td>\n",
       "      <td>-1.000000</td>\n",
       "      <td>-0.992774</td>\n",
       "      <td>-0.943933</td>\n",
       "      <td>-0.242130</td>\n",
       "      <td>1.000000</td>\n",
       "    </tr>\n",
       "    <tr>\n",
       "      <th>tBodyAcc-std()-Y</th>\n",
       "      <td>5881.0</td>\n",
       "      <td>-0.509815</td>\n",
       "      <td>0.501815</td>\n",
       "      <td>-0.999844</td>\n",
       "      <td>-0.977680</td>\n",
       "      <td>-0.844575</td>\n",
       "      <td>-0.034499</td>\n",
       "      <td>0.916238</td>\n",
       "    </tr>\n",
       "    <tr>\n",
       "      <th>...</th>\n",
       "      <td>...</td>\n",
       "      <td>...</td>\n",
       "      <td>...</td>\n",
       "      <td>...</td>\n",
       "      <td>...</td>\n",
       "      <td>...</td>\n",
       "      <td>...</td>\n",
       "      <td>...</td>\n",
       "    </tr>\n",
       "    <tr>\n",
       "      <th>angle(tBodyGyroMean,gravityMean)</th>\n",
       "      <td>5881.0</td>\n",
       "      <td>0.009340</td>\n",
       "      <td>0.608190</td>\n",
       "      <td>-1.000000</td>\n",
       "      <td>-0.481718</td>\n",
       "      <td>0.011448</td>\n",
       "      <td>0.499857</td>\n",
       "      <td>0.998702</td>\n",
       "    </tr>\n",
       "    <tr>\n",
       "      <th>angle(tBodyGyroJerkMean,gravityMean)</th>\n",
       "      <td>5881.0</td>\n",
       "      <td>-0.007099</td>\n",
       "      <td>0.476738</td>\n",
       "      <td>-1.000000</td>\n",
       "      <td>-0.373345</td>\n",
       "      <td>-0.000847</td>\n",
       "      <td>0.356236</td>\n",
       "      <td>0.996078</td>\n",
       "    </tr>\n",
       "    <tr>\n",
       "      <th>angle(X,gravityMean)</th>\n",
       "      <td>5881.0</td>\n",
       "      <td>-0.491501</td>\n",
       "      <td>0.509069</td>\n",
       "      <td>-1.000000</td>\n",
       "      <td>-0.811397</td>\n",
       "      <td>-0.709441</td>\n",
       "      <td>-0.511330</td>\n",
       "      <td>0.977344</td>\n",
       "    </tr>\n",
       "    <tr>\n",
       "      <th>angle(Y,gravityMean)</th>\n",
       "      <td>5881.0</td>\n",
       "      <td>0.059299</td>\n",
       "      <td>0.297340</td>\n",
       "      <td>-1.000000</td>\n",
       "      <td>-0.018203</td>\n",
       "      <td>0.182893</td>\n",
       "      <td>0.248435</td>\n",
       "      <td>0.478157</td>\n",
       "    </tr>\n",
       "    <tr>\n",
       "      <th>angle(Z,gravityMean)</th>\n",
       "      <td>5881.0</td>\n",
       "      <td>-0.054594</td>\n",
       "      <td>0.278479</td>\n",
       "      <td>-0.980143</td>\n",
       "      <td>-0.141555</td>\n",
       "      <td>0.003951</td>\n",
       "      <td>0.111932</td>\n",
       "      <td>1.000000</td>\n",
       "    </tr>\n",
       "  </tbody>\n",
       "</table>\n",
       "<p>561 rows × 8 columns</p>\n",
       "</div>"
      ],
      "text/plain": [
       "                                       count      mean       std       min  \\\n",
       "tBodyAcc-mean()-X                     5881.0  0.274811  0.067614 -0.503823   \n",
       "tBodyAcc-mean()-Y                     5881.0 -0.017799  0.039422 -0.684893   \n",
       "tBodyAcc-mean()-Z                     5881.0 -0.109396  0.058373 -1.000000   \n",
       "tBodyAcc-std()-X                      5881.0 -0.603138  0.448807 -1.000000   \n",
       "tBodyAcc-std()-Y                      5881.0 -0.509815  0.501815 -0.999844   \n",
       "...                                      ...       ...       ...       ...   \n",
       "angle(tBodyGyroMean,gravityMean)      5881.0  0.009340  0.608190 -1.000000   \n",
       "angle(tBodyGyroJerkMean,gravityMean)  5881.0 -0.007099  0.476738 -1.000000   \n",
       "angle(X,gravityMean)                  5881.0 -0.491501  0.509069 -1.000000   \n",
       "angle(Y,gravityMean)                  5881.0  0.059299  0.297340 -1.000000   \n",
       "angle(Z,gravityMean)                  5881.0 -0.054594  0.278479 -0.980143   \n",
       "\n",
       "                                           25%       50%       75%       max  \n",
       "tBodyAcc-mean()-X                     0.262919  0.277154  0.288526  1.000000  \n",
       "tBodyAcc-mean()-Y                    -0.024877 -0.017221 -0.010920  1.000000  \n",
       "tBodyAcc-mean()-Z                    -0.121051 -0.108781 -0.098163  1.000000  \n",
       "tBodyAcc-std()-X                     -0.992774 -0.943933 -0.242130  1.000000  \n",
       "tBodyAcc-std()-Y                     -0.977680 -0.844575 -0.034499  0.916238  \n",
       "...                                        ...       ...       ...       ...  \n",
       "angle(tBodyGyroMean,gravityMean)     -0.481718  0.011448  0.499857  0.998702  \n",
       "angle(tBodyGyroJerkMean,gravityMean) -0.373345 -0.000847  0.356236  0.996078  \n",
       "angle(X,gravityMean)                 -0.811397 -0.709441 -0.511330  0.977344  \n",
       "angle(Y,gravityMean)                 -0.018203  0.182893  0.248435  0.478157  \n",
       "angle(Z,gravityMean)                 -0.141555  0.003951  0.111932  1.000000  \n",
       "\n",
       "[561 rows x 8 columns]"
      ]
     },
     "execution_count": 7,
     "metadata": {},
     "output_type": "execute_result"
    }
   ],
   "source": [
    "data.describe().T"
   ]
  },
  {
   "cell_type": "markdown",
   "metadata": {
    "id": "6U3UzQGZAS1o"
   },
   "source": [
    "## **2. 데이터 전처리**\n",
    "\n",
    "* 가변수화, 데이터 분할, NaN 확인 및 조치, 스케일링 등 필요한 전처리를 수행한다. \n"
   ]
  },
  {
   "cell_type": "markdown",
   "metadata": {
    "id": "ZecsiT_DAS1p"
   },
   "source": [
    "### (1) 데이터 분할1 : x, y"
   ]
  },
  {
   "cell_type": "markdown",
   "metadata": {
    "id": "H-DxzcJiJS4W"
   },
   "source": [
    "* 세부 요구사항\n",
    "    - x, y로 분할합니다."
   ]
  },
  {
   "cell_type": "code",
   "execution_count": 105,
   "metadata": {
    "id": "qVqd1JJ6Ajaj"
   },
   "outputs": [],
   "source": [
    "target = 'Activity'\n",
    "X = data.drop(target, axis = 1)\n",
    "y = data.loc[:, target]"
   ]
  },
  {
   "cell_type": "code",
   "execution_count": 107,
   "metadata": {},
   "outputs": [],
   "source": [
    "data2 = data.rename(columns = lambda x:re.sub('[^A-Za-z0-9_]+', '', x))\n",
    "\n",
    "target = 'Activity'\n",
    "X2 = data2.drop(target, axis = 1)\n",
    "y2 = data2.loc[:, target]"
   ]
  },
  {
   "cell_type": "code",
   "execution_count": 108,
   "metadata": {},
   "outputs": [
    {
     "data": {
      "text/plain": [
       "0       2\n",
       "1       0\n",
       "2       2\n",
       "3       3\n",
       "4       4\n",
       "       ..\n",
       "5876    1\n",
       "5877    5\n",
       "5878    0\n",
       "5879    5\n",
       "5880    1\n",
       "Name: Activity, Length: 5881, dtype: int64"
      ]
     },
     "execution_count": 108,
     "metadata": {},
     "output_type": "execute_result"
    }
   ],
   "source": [
    "y3 = y.map({'LAYING' : 0,  'SITTING' : 1, 'STANDING' : 2, 'WALKING' : 3, 'WALKING_DOWNSTAIRS' : 4, 'WALKING_UPSTAIRS' : 5})\n",
    "y3"
   ]
  },
  {
   "cell_type": "markdown",
   "metadata": {
    "id": "A8hxVzM3Agvw"
   },
   "source": [
    "### (2) 스케일링(필요시)\n"
   ]
  },
  {
   "cell_type": "markdown",
   "metadata": {
    "id": "8OHAQJ9HJZP8"
   },
   "source": [
    "* 세부 요구사항\n",
    "    - 스케일링을 필요로 하는 알고리즘 사용을 위해서 코드 수행\n",
    "    - min-max 방식 혹은 standard 방식 중 한가지 사용."
   ]
  },
  {
   "cell_type": "code",
   "execution_count": null,
   "metadata": {
    "id": "egLANGC5BMmk"
   },
   "outputs": [],
   "source": [
    "####"
   ]
  },
  {
   "cell_type": "markdown",
   "metadata": {
    "id": "MpZfnAa4BefE"
   },
   "source": [
    "### (3) 데이터분할2 : train, validation"
   ]
  },
  {
   "cell_type": "markdown",
   "metadata": {
    "id": "YOYncknxWg0E"
   },
   "source": [
    "* 세부 요구사항\n",
    "    - train : val = 8 : 2 혹은 7 : 3\n",
    "    - random_state 옵션을 사용하여 다른 모델과 비교를 위해 성능이 재현되도록 합니다."
   ]
  },
  {
   "cell_type": "code",
   "execution_count": 109,
   "metadata": {
    "id": "1AoCDDpdBeCT"
   },
   "outputs": [],
   "source": [
    "X_train, X_val, y_train, y_val = train_test_split(X, y, test_size = 0.2, random_state = 42) # 기본\n",
    "X_train2, X_val2, y_train2, y_val2 = train_test_split(X2, y2, test_size = 0.2, random_state = 42) # 변수 이름에서 특수기호 제거\n",
    "X_train3, X_val3, y_train3, y_val3 = train_test_split(X, y3, test_size = 0.2, random_state = 42) # target 0 ~ 5로 변경"
   ]
  },
  {
   "cell_type": "markdown",
   "metadata": {
    "id": "RfSZ5O4sBQf3"
   },
   "source": [
    "## **3. 기본 모델링**\n",
    "\n"
   ]
  },
  {
   "cell_type": "markdown",
   "metadata": {
    "id": "WAOal2RuWzNk"
   },
   "source": [
    "* 세부 요구사항\n",
    "    - 최소 4개 이상의 알고리즘을 적용하여 모델링을 수행한다. \n",
    "    - 각 알고리즘별로 전체 변수로 모델링, 상위 N개 변수를 선택하여 모델링을 수행하고 성능 비교를 한다.\n",
    "    - (옵션) 알고리즘 중 1~2개에 대해서, 변수 중요도 상위 N개를 선정하여 모델링하고 타 모델과 성능을 비교.\n",
    "        * 상위 N개를 선택하는 방법은, 변수를 하나씩 늘려가며 모델링 및 성능 검증을 수행하여 적절한 지점을 찾는 것이다."
   ]
  },
  {
   "cell_type": "markdown",
   "metadata": {
    "id": "6JKfabsMB-CK"
   },
   "source": [
    "### (1) 알고리즘1 : RandomForest"
   ]
  },
  {
   "cell_type": "markdown",
   "metadata": {},
   "source": [
    "#### 전체 변수"
   ]
  },
  {
   "cell_type": "code",
   "execution_count": 125,
   "metadata": {
    "id": "TbeDMR9nh_it"
   },
   "outputs": [
    {
     "name": "stdout",
     "output_type": "stream",
     "text": [
      "0.9796091758708582\n",
      "[[231   0   0   0   0   0]\n",
      " [  0 195   5   0   0   0]\n",
      " [  0   9 217   0   0   0]\n",
      " [  0   0   0 194   2   2]\n",
      " [  0   0   0   3 141   1]\n",
      " [  0   0   0   0   2 175]]\n",
      "                    precision    recall  f1-score   support\n",
      "\n",
      "            LAYING       1.00      1.00      1.00       231\n",
      "           SITTING       0.96      0.97      0.97       200\n",
      "          STANDING       0.98      0.96      0.97       226\n",
      "           WALKING       0.98      0.98      0.98       198\n",
      "WALKING_DOWNSTAIRS       0.97      0.97      0.97       145\n",
      "  WALKING_UPSTAIRS       0.98      0.99      0.99       177\n",
      "\n",
      "          accuracy                           0.98      1177\n",
      "         macro avg       0.98      0.98      0.98      1177\n",
      "      weighted avg       0.98      0.98      0.98      1177\n",
      "\n"
     ]
    }
   ],
   "source": [
    "model_rf = RandomForestClassifier(random_state = 42)\n",
    "model_rf.fit(X_train, y_train)\n",
    "p_rf_1 = model_rf.predict(X_val)\n",
    "\n",
    "print(accuracy_score(y_val, p_rf_1))\n",
    "print(confusion_matrix(y_val, p_rf_1))\n",
    "print(classification_report(y_val, p_rf_1))"
   ]
  },
  {
   "cell_type": "code",
   "execution_count": 121,
   "metadata": {},
   "outputs": [
    {
     "data": {
      "text/html": [
       "<div>\n",
       "<style scoped>\n",
       "    .dataframe tbody tr th:only-of-type {\n",
       "        vertical-align: middle;\n",
       "    }\n",
       "\n",
       "    .dataframe tbody tr th {\n",
       "        vertical-align: top;\n",
       "    }\n",
       "\n",
       "    .dataframe thead th {\n",
       "        text-align: right;\n",
       "    }\n",
       "</style>\n",
       "<table border=\"1\" class=\"dataframe\">\n",
       "  <thead>\n",
       "    <tr style=\"text-align: right;\">\n",
       "      <th></th>\n",
       "      <th>feature_name</th>\n",
       "      <th>feature_importance</th>\n",
       "    </tr>\n",
       "  </thead>\n",
       "  <tbody>\n",
       "    <tr>\n",
       "      <th>0</th>\n",
       "      <td>tGravityAcc-mean()-X</td>\n",
       "      <td>0.037706</td>\n",
       "    </tr>\n",
       "    <tr>\n",
       "      <th>1</th>\n",
       "      <td>angle(X,gravityMean)</td>\n",
       "      <td>0.030092</td>\n",
       "    </tr>\n",
       "    <tr>\n",
       "      <th>2</th>\n",
       "      <td>tGravityAcc-max()-X</td>\n",
       "      <td>0.029231</td>\n",
       "    </tr>\n",
       "    <tr>\n",
       "      <th>3</th>\n",
       "      <td>tGravityAcc-mean()-Y</td>\n",
       "      <td>0.025261</td>\n",
       "    </tr>\n",
       "    <tr>\n",
       "      <th>4</th>\n",
       "      <td>tGravityAcc-max()-Y</td>\n",
       "      <td>0.024912</td>\n",
       "    </tr>\n",
       "  </tbody>\n",
       "</table>\n",
       "</div>"
      ],
      "text/plain": [
       "           feature_name  feature_importance\n",
       "0  tGravityAcc-mean()-X            0.037706\n",
       "1  angle(X,gravityMean)            0.030092\n",
       "2   tGravityAcc-max()-X            0.029231\n",
       "3  tGravityAcc-mean()-Y            0.025261\n",
       "4   tGravityAcc-max()-Y            0.024912"
      ]
     },
     "execution_count": 121,
     "metadata": {},
     "output_type": "execute_result"
    }
   ],
   "source": [
    "rf = plot_feature_importance(model_rf.feature_importances_, list(X_train), True)\n",
    "rf.head()"
   ]
  },
  {
   "cell_type": "markdown",
   "metadata": {},
   "source": [
    "#### 상위 변수 n개"
   ]
  },
  {
   "cell_type": "code",
   "execution_count": 122,
   "metadata": {},
   "outputs": [],
   "source": [
    "acc = []\n",
    "for i in range(200) :   # 전체 변수는 561이지만, 200 정도면 충분하다\n",
    "    top_n_feature = rf.loc[:i, 'feature_name']\n",
    "    X_train_n = X_train[top_n_feature]\n",
    "    X_val_n = X_val[top_n_feature]\n",
    "    model_rf.fit(X_train_n, y_train)\n",
    "    pred = model_rf.predict(X_val_n)\n",
    "    acc.append(accuracy_score(y_val, pred))"
   ]
  },
  {
   "cell_type": "code",
   "execution_count": 124,
   "metadata": {},
   "outputs": [
    {
     "data": {
      "image/png": "[encoded data removed]",
      "text/plain": [
       "<Figure size 2000x1200 with 1 Axes>"
      ]
     },
     "metadata": {},
     "output_type": "display_data"
    }
   ],
   "source": [
    "plt.figure(figsize = (20,12))\n",
    "plt.plot(range(200), acc, marker = '.')\n",
    "plt.grid()\n",
    "plt.show()"
   ]
  },
  {
   "cell_type": "code",
   "execution_count": 128,
   "metadata": {},
   "outputs": [
    {
     "name": "stdout",
     "output_type": "stream",
     "text": [
      "Max accuracy :  0.989804587935429\n",
      "best_num_features :  198\n"
     ]
    }
   ],
   "source": [
    "print('Max accuracy : ', max(acc))\n",
    "print('best_num_features : ', acc.index(max(acc)))"
   ]
  },
  {
   "cell_type": "markdown",
   "metadata": {},
   "source": [
    "- 변수 상위 198개 선정"
   ]
  },
  {
   "cell_type": "code",
   "execution_count": 129,
   "metadata": {},
   "outputs": [
    {
     "name": "stdout",
     "output_type": "stream",
     "text": [
      "accuracy : 0.989804587935429\n",
      "============================================================\n",
      "[[231   0   0   0   0   0]\n",
      " [  0 198   2   0   0   0]\n",
      " [  0   4 222   0   0   0]\n",
      " [  0   0   0 194   2   2]\n",
      " [  0   0   0   1 144   0]\n",
      " [  0   0   0   0   1 176]]\n",
      "============================================================\n",
      "                    precision    recall  f1-score   support\n",
      "\n",
      "            LAYING       1.00      1.00      1.00       231\n",
      "           SITTING       0.98      0.99      0.99       200\n",
      "          STANDING       0.99      0.98      0.99       226\n",
      "           WALKING       0.99      0.98      0.99       198\n",
      "WALKING_DOWNSTAIRS       0.98      0.99      0.99       145\n",
      "  WALKING_UPSTAIRS       0.99      0.99      0.99       177\n",
      "\n",
      "          accuracy                           0.99      1177\n",
      "         macro avg       0.99      0.99      0.99      1177\n",
      "      weighted avg       0.99      0.99      0.99      1177\n",
      "\n"
     ]
    }
   ],
   "source": [
    "top_198_feature = rf.loc[:198, 'feature_name']\n",
    "X_train_198 = X_train[top_198_feature]\n",
    "X_val_198 = X_val[top_198_feature]\n",
    "\n",
    "model_rf.fit(X_train_198, y_train)\n",
    "p_rf_2 = model_rf.predict(X_val_198)\n",
    "\n",
    "print('accuracy :',accuracy_score(y_val, p_rf_2))\n",
    "print('='*60)\n",
    "print(confusion_matrix(y_val, p_rf_2))\n",
    "print('='*60)\n",
    "print(classification_report(y_val, p_rf_2))"
   ]
  },
  {
   "cell_type": "markdown",
   "metadata": {
    "id": "rFv7rDSQCDg0"
   },
   "source": [
    "### (2) 알고리즘2 : XGBoost"
   ]
  },
  {
   "cell_type": "markdown",
   "metadata": {},
   "source": [
    "#### 전체 변수"
   ]
  },
  {
   "cell_type": "code",
   "execution_count": 130,
   "metadata": {},
   "outputs": [
    {
     "name": "stdout",
     "output_type": "stream",
     "text": [
      "0.9932030586236194\n",
      "[[231   0   0   0   0   0]\n",
      " [  0 198   2   0   0   0]\n",
      " [  0   3 223   0   0   0]\n",
      " [  0   0   0 195   1   2]\n",
      " [  0   0   0   0 145   0]\n",
      " [  0   0   0   0   0 177]]\n",
      "              precision    recall  f1-score   support\n",
      "\n",
      "           0       1.00      1.00      1.00       231\n",
      "           1       0.99      0.99      0.99       200\n",
      "           2       0.99      0.99      0.99       226\n",
      "           3       1.00      0.98      0.99       198\n",
      "           4       0.99      1.00      1.00       145\n",
      "           5       0.99      1.00      0.99       177\n",
      "\n",
      "    accuracy                           0.99      1177\n",
      "   macro avg       0.99      0.99      0.99      1177\n",
      "weighted avg       0.99      0.99      0.99      1177\n",
      "\n"
     ]
    }
   ],
   "source": [
    "model_xgb = XGBClassifier(random_state = 42, device = 'gpu')\n",
    "model_xgb.fit(X_train3, y_train3)\n",
    "p_xgb_1 = model_xgb.predict(X_val3)\n",
    "\n",
    "print(accuracy_score(y_val3, p_xgb_1))\n",
    "print(confusion_matrix(y_val3, p_xgb_1))\n",
    "print(classification_report(y_val3, p_xgb_1))"
   ]
  },
  {
   "cell_type": "code",
   "execution_count": 131,
   "metadata": {},
   "outputs": [
    {
     "data": {
      "text/html": [
       "<div>\n",
       "<style scoped>\n",
       "    .dataframe tbody tr th:only-of-type {\n",
       "        vertical-align: middle;\n",
       "    }\n",
       "\n",
       "    .dataframe tbody tr th {\n",
       "        vertical-align: top;\n",
       "    }\n",
       "\n",
       "    .dataframe thead th {\n",
       "        text-align: right;\n",
       "    }\n",
       "</style>\n",
       "<table border=\"1\" class=\"dataframe\">\n",
       "  <thead>\n",
       "    <tr style=\"text-align: right;\">\n",
       "      <th></th>\n",
       "      <th>feature_name</th>\n",
       "      <th>feature_importance</th>\n",
       "    </tr>\n",
       "  </thead>\n",
       "  <tbody>\n",
       "    <tr>\n",
       "      <th>0</th>\n",
       "      <td>fBodyAcc-skewness()-X</td>\n",
       "      <td>0.073452</td>\n",
       "    </tr>\n",
       "    <tr>\n",
       "      <th>1</th>\n",
       "      <td>angle(X,gravityMean)</td>\n",
       "      <td>0.066220</td>\n",
       "    </tr>\n",
       "    <tr>\n",
       "      <th>2</th>\n",
       "      <td>tBodyAcc-iqr()-X</td>\n",
       "      <td>0.061089</td>\n",
       "    </tr>\n",
       "    <tr>\n",
       "      <th>3</th>\n",
       "      <td>fBodyAccMag-mad()</td>\n",
       "      <td>0.057470</td>\n",
       "    </tr>\n",
       "    <tr>\n",
       "      <th>4</th>\n",
       "      <td>fBodyBodyAccJerkMag-max()</td>\n",
       "      <td>0.038606</td>\n",
       "    </tr>\n",
       "  </tbody>\n",
       "</table>\n",
       "</div>"
      ],
      "text/plain": [
       "                feature_name  feature_importance\n",
       "0      fBodyAcc-skewness()-X            0.073452\n",
       "1       angle(X,gravityMean)            0.066220\n",
       "2           tBodyAcc-iqr()-X            0.061089\n",
       "3          fBodyAccMag-mad()            0.057470\n",
       "4  fBodyBodyAccJerkMag-max()            0.038606"
      ]
     },
     "execution_count": 131,
     "metadata": {},
     "output_type": "execute_result"
    }
   ],
   "source": [
    "xgb = plot_feature_importance(model_xgb.feature_importances_, list(X_train3), True)\n",
    "xgb.head()"
   ]
  },
  {
   "cell_type": "markdown",
   "metadata": {},
   "source": [
    "#### 상위 변수 n개"
   ]
  },
  {
   "cell_type": "code",
   "execution_count": 133,
   "metadata": {},
   "outputs": [
    {
     "name": "stdout",
     "output_type": "stream",
     "text": [
      "0 \n",
      "1 2 3 4 5 6 7 8 9 10 11 12 13 14 15 16 17 18 19 20 \n",
      "21 22 23 24 25 26 27 28 29 30 31 32 33 34 35 36 37 38 39 40 \n",
      "41 42 43 44 45 46 47 48 49 50 51 52 53 54 55 56 57 58 59 60 \n",
      "61 62 63 64 65 66 67 68 69 70 71 72 73 74 75 76 77 78 79 80 \n",
      "81 82 83 84 85 86 87 88 89 90 91 92 93 94 95 96 97 98 99 100 \n",
      "101 102 103 104 105 106 107 108 109 110 111 112 113 114 115 116 117 118 119 120 \n",
      "121 122 123 124 125 126 127 128 129 130 131 132 133 134 135 136 137 138 139 140 \n",
      "141 142 143 144 145 146 147 148 149 150 151 152 153 154 155 156 157 158 159 160 \n",
      "161 162 163 164 165 166 167 168 169 170 171 172 173 174 175 176 177 178 179 180 \n",
      "181 182 183 184 185 186 187 188 189 190 191 192 193 194 195 196 197 198 199 "
     ]
    }
   ],
   "source": [
    "acc = []\n",
    "for i in range(200) :   # 전체 변수는 561이지만, 200 정도면 충분하다\n",
    "    top_n_feature = xgb.loc[:i, 'feature_name']\n",
    "    X_train_n = X_train3[top_n_feature]\n",
    "    X_val_n = X_val3[top_n_feature]\n",
    "    model_xgb.fit(X_train_n, y_train3)\n",
    "    pred = model_xgb.predict(X_val_n)\n",
    "    acc.append(accuracy_score(y_val3, pred))\n",
    "    print(i, end = ' ')\n",
    "    if i % 20 == 0:\n",
    "        print()"
   ]
  },
  {
   "cell_type": "code",
   "execution_count": 134,
   "metadata": {},
   "outputs": [
    {
     "data": {
      "image/png": "[encoded data removed]",
      "text/plain": [
       "<Figure size 2000x1200 with 1 Axes>"
      ]
     },
     "metadata": {},
     "output_type": "display_data"
    }
   ],
   "source": [
    "plt.figure(figsize = (20,12))\n",
    "plt.plot(range(200), acc, marker = '.')\n",
    "plt.grid()\n",
    "plt.show()"
   ]
  },
  {
   "cell_type": "code",
   "execution_count": 135,
   "metadata": {},
   "outputs": [
    {
     "name": "stdout",
     "output_type": "stream",
     "text": [
      "Max accuracy :  0.9949022939677146\n",
      "best_num_features :  128\n"
     ]
    }
   ],
   "source": [
    "print('Max accuracy : ', max(acc))\n",
    "print('best_num_features : ', acc.index(max(acc)))"
   ]
  },
  {
   "cell_type": "markdown",
   "metadata": {},
   "source": [
    "- 변수 상위 128개 선정"
   ]
  },
  {
   "cell_type": "code",
   "execution_count": 137,
   "metadata": {},
   "outputs": [
    {
     "name": "stdout",
     "output_type": "stream",
     "text": [
      "accuracy : 0.9949022939677146\n",
      "============================================================\n",
      "[[231   0   0   0   0   0]\n",
      " [  0 200   0   0   0   0]\n",
      " [  0   3 223   0   0   0]\n",
      " [  0   0   0 197   0   1]\n",
      " [  0   0   0   1 144   0]\n",
      " [  0   0   0   0   1 176]]\n",
      "============================================================\n",
      "              precision    recall  f1-score   support\n",
      "\n",
      "           0       1.00      1.00      1.00       231\n",
      "           1       0.99      1.00      0.99       200\n",
      "           2       1.00      0.99      0.99       226\n",
      "           3       0.99      0.99      0.99       198\n",
      "           4       0.99      0.99      0.99       145\n",
      "           5       0.99      0.99      0.99       177\n",
      "\n",
      "    accuracy                           0.99      1177\n",
      "   macro avg       0.99      0.99      0.99      1177\n",
      "weighted avg       0.99      0.99      0.99      1177\n",
      "\n"
     ]
    }
   ],
   "source": [
    "top_128_feature = xgb.loc[:128, 'feature_name']\n",
    "X_train_128 = X_train3[top_128_feature]\n",
    "X_val_128 = X_val3[top_128_feature]\n",
    "\n",
    "model_xgb.fit(X_train_128, y_train3)\n",
    "p_xgb_2 = model_xgb.predict(X_val_128)\n",
    "\n",
    "print('accuracy :',accuracy_score(y_val3, p_xgb_2))\n",
    "print('='*60)\n",
    "print(confusion_matrix(y_val3, p_xgb_2))\n",
    "print('='*60)\n",
    "print(classification_report(y_val3, p_xgb_2))"
   ]
  },
  {
   "cell_type": "markdown",
   "metadata": {
    "id": "W8izzKzVhXbb"
   },
   "source": [
    "### (3) 알고리즘3 : LightGBM"
   ]
  },
  {
   "cell_type": "markdown",
   "metadata": {},
   "source": [
    "#### 전체 변수"
   ]
  },
  {
   "cell_type": "code",
   "execution_count": 138,
   "metadata": {
    "id": "GnqH9-fZiHhv"
   },
   "outputs": [
    {
     "name": "stdout",
     "output_type": "stream",
     "text": [
      "0.9949022939677146\n",
      "[[231   0   0   0   0   0]\n",
      " [  0 198   2   0   0   0]\n",
      " [  0   2 224   0   0   0]\n",
      " [  0   0   0 196   0   2]\n",
      " [  0   0   0   0 145   0]\n",
      " [  0   0   0   0   0 177]]\n",
      "                    precision    recall  f1-score   support\n",
      "\n",
      "            LAYING       1.00      1.00      1.00       231\n",
      "           SITTING       0.99      0.99      0.99       200\n",
      "          STANDING       0.99      0.99      0.99       226\n",
      "           WALKING       1.00      0.99      0.99       198\n",
      "WALKING_DOWNSTAIRS       1.00      1.00      1.00       145\n",
      "  WALKING_UPSTAIRS       0.99      1.00      0.99       177\n",
      "\n",
      "          accuracy                           0.99      1177\n",
      "         macro avg       0.99      1.00      1.00      1177\n",
      "      weighted avg       0.99      0.99      0.99      1177\n",
      "\n"
     ]
    }
   ],
   "source": [
    "model_lgb = LGBMClassifier(random_state = 42, verbose = -1, device = 'gpu')\n",
    "model_lgb.fit(X_train2, y_train2)\n",
    "p_lgb_1 = model_lgb.predict(X_val2)\n",
    "\n",
    "print(accuracy_score(y_val2, p_lgb_1))\n",
    "print(confusion_matrix(y_val2, p_lgb_1))\n",
    "print(classification_report(y_val2, p_lgb_1))"
   ]
  },
  {
   "cell_type": "code",
   "execution_count": 139,
   "metadata": {},
   "outputs": [
    {
     "data": {
      "text/html": [
       "<div>\n",
       "<style scoped>\n",
       "    .dataframe tbody tr th:only-of-type {\n",
       "        vertical-align: middle;\n",
       "    }\n",
       "\n",
       "    .dataframe tbody tr th {\n",
       "        vertical-align: top;\n",
       "    }\n",
       "\n",
       "    .dataframe thead th {\n",
       "        text-align: right;\n",
       "    }\n",
       "</style>\n",
       "<table border=\"1\" class=\"dataframe\">\n",
       "  <thead>\n",
       "    <tr style=\"text-align: right;\">\n",
       "      <th></th>\n",
       "      <th>feature_name</th>\n",
       "      <th>feature_importance</th>\n",
       "    </tr>\n",
       "  </thead>\n",
       "  <tbody>\n",
       "    <tr>\n",
       "      <th>0</th>\n",
       "      <td>tGravityAccminY</td>\n",
       "      <td>407</td>\n",
       "    </tr>\n",
       "    <tr>\n",
       "      <th>1</th>\n",
       "      <td>tGravityAccenergyY</td>\n",
       "      <td>394</td>\n",
       "    </tr>\n",
       "    <tr>\n",
       "      <th>2</th>\n",
       "      <td>tBodyAcccorrelationXY</td>\n",
       "      <td>266</td>\n",
       "    </tr>\n",
       "    <tr>\n",
       "      <th>3</th>\n",
       "      <td>tGravityAccmaxY</td>\n",
       "      <td>240</td>\n",
       "    </tr>\n",
       "    <tr>\n",
       "      <th>4</th>\n",
       "      <td>tBodyGyrocorrelationYZ</td>\n",
       "      <td>228</td>\n",
       "    </tr>\n",
       "  </tbody>\n",
       "</table>\n",
       "</div>"
      ],
      "text/plain": [
       "             feature_name  feature_importance\n",
       "0         tGravityAccminY                 407\n",
       "1      tGravityAccenergyY                 394\n",
       "2   tBodyAcccorrelationXY                 266\n",
       "3         tGravityAccmaxY                 240\n",
       "4  tBodyGyrocorrelationYZ                 228"
      ]
     },
     "execution_count": 139,
     "metadata": {},
     "output_type": "execute_result"
    }
   ],
   "source": [
    "lgb = plot_feature_importance(model_lgb.feature_importances_, list(X_train2), True)\n",
    "lgb.head()"
   ]
  },
  {
   "cell_type": "markdown",
   "metadata": {},
   "source": [
    "#### 상위 변수 n개"
   ]
  },
  {
   "cell_type": "code",
   "execution_count": 140,
   "metadata": {},
   "outputs": [
    {
     "name": "stdout",
     "output_type": "stream",
     "text": [
      "0 \n",
      "1 2 3 4 5 6 7 8 9 10 11 12 13 14 15 16 17 18 19 20 \n",
      "21 22 23 24 25 26 27 28 29 30 31 32 33 34 35 36 37 38 39 40 \n",
      "41 42 43 44 45 46 47 48 49 50 51 52 53 54 55 56 57 58 59 60 \n",
      "61 62 63 64 65 66 67 68 69 70 71 72 73 74 75 76 77 78 79 80 \n",
      "81 82 83 84 85 86 87 88 89 90 91 92 93 94 95 96 97 98 99 100 \n",
      "101 102 103 104 105 106 107 108 109 110 111 112 113 114 115 116 117 118 119 120 \n",
      "121 122 123 124 125 126 127 128 129 130 131 132 133 134 135 136 137 138 139 140 \n",
      "141 142 143 144 145 146 147 148 149 150 151 152 153 154 155 156 157 158 159 160 \n",
      "161 162 163 164 165 166 167 168 169 170 171 172 173 174 175 176 177 178 179 180 \n",
      "181 182 183 184 185 186 187 188 189 190 191 192 193 194 195 196 197 198 199 "
     ]
    }
   ],
   "source": [
    "acc = []\n",
    "for i in range(200) :   # 전체 변수는 561이지만, 200 정도면 충분하다\n",
    "    top_n_feature = lgb.loc[:i, 'feature_name']\n",
    "    X_train_n = X_train2[top_n_feature]\n",
    "    X_val_n = X_val2[top_n_feature]\n",
    "    model_lgb.fit(X_train_n, y_train2)\n",
    "    pred = model_lgb.predict(X_val_n)\n",
    "    acc.append(accuracy_score(y_val2, pred))\n",
    "    print(i, end = ' ')\n",
    "    if i % 20 == 0:\n",
    "        print()"
   ]
  },
  {
   "cell_type": "code",
   "execution_count": 141,
   "metadata": {},
   "outputs": [
    {
     "data": {
      "image/png": "[encoded data removed]",
      "text/plain": [
       "<Figure size 2000x1200 with 1 Axes>"
      ]
     },
     "metadata": {},
     "output_type": "display_data"
    }
   ],
   "source": [
    "plt.figure(figsize = (20,12))\n",
    "plt.plot(range(200), acc, marker = '.')\n",
    "plt.grid()\n",
    "plt.show()"
   ]
  },
  {
   "cell_type": "code",
   "execution_count": 142,
   "metadata": {},
   "outputs": [
    {
     "name": "stdout",
     "output_type": "stream",
     "text": [
      "Max accuracy :  0.9983007646559049\n",
      "best_num_features :  74\n"
     ]
    }
   ],
   "source": [
    "print('Max accuracy : ', max(acc))\n",
    "print('best_num_features : ', acc.index(max(acc)))"
   ]
  },
  {
   "cell_type": "markdown",
   "metadata": {},
   "source": [
    "- 변수 상위 74개 선정"
   ]
  },
  {
   "cell_type": "code",
   "execution_count": 145,
   "metadata": {},
   "outputs": [
    {
     "name": "stdout",
     "output_type": "stream",
     "text": [
      "accuracy : 0.9966015293118097\n",
      "============================================================\n",
      "[[231   0   0   0   0   0]\n",
      " [  0 199   1   0   0   0]\n",
      " [  0   2 224   0   0   0]\n",
      " [  0   0   0 197   1   0]\n",
      " [  0   0   0   0 145   0]\n",
      " [  0   0   0   0   0 177]]\n",
      "============================================================\n",
      "                    precision    recall  f1-score   support\n",
      "\n",
      "            LAYING       1.00      1.00      1.00       231\n",
      "           SITTING       0.99      0.99      0.99       200\n",
      "          STANDING       1.00      0.99      0.99       226\n",
      "           WALKING       1.00      0.99      1.00       198\n",
      "WALKING_DOWNSTAIRS       0.99      1.00      1.00       145\n",
      "  WALKING_UPSTAIRS       1.00      1.00      1.00       177\n",
      "\n",
      "          accuracy                           1.00      1177\n",
      "         macro avg       1.00      1.00      1.00      1177\n",
      "      weighted avg       1.00      1.00      1.00      1177\n",
      "\n"
     ]
    }
   ],
   "source": [
    "top_74_feature = lgb.loc[:74, 'feature_name']\n",
    "X_train_74 = X_train2[top_74_feature]\n",
    "X_val_74 = X_val2[top_74_feature]\n",
    "\n",
    "model_lgb.fit(X_train_74, y_train2)\n",
    "p_lgb_2 = model_lgb.predict(X_val_74)\n",
    "\n",
    "print('accuracy :',accuracy_score(y_val2, p_lgb_2))\n",
    "print('='*60)\n",
    "print(confusion_matrix(y_val2, p_lgb_2))\n",
    "print('='*60)\n",
    "print(classification_report(y_val2, p_lgb_2))"
   ]
  },
  {
   "cell_type": "markdown",
   "metadata": {
    "id": "fm3_E_WZCMNG"
   },
   "source": [
    "### (4) 알고리즘4 : CatBoost"
   ]
  },
  {
   "cell_type": "markdown",
   "metadata": {},
   "source": [
    "#### 전체 변수"
   ]
  },
  {
   "cell_type": "code",
   "execution_count": 146,
   "metadata": {
    "id": "Oz8l40xxiLWP"
   },
   "outputs": [
    {
     "name": "stdout",
     "output_type": "stream",
     "text": [
      "0.9932030586236194\n",
      "[[231   0   0   0   0   0]\n",
      " [  0 198   2   0   0   0]\n",
      " [  0   4 222   0   0   0]\n",
      " [  0   0   0 197   0   1]\n",
      " [  0   0   0   1 144   0]\n",
      " [  0   0   0   0   0 177]]\n",
      "                    precision    recall  f1-score   support\n",
      "\n",
      "            LAYING       1.00      1.00      1.00       231\n",
      "           SITTING       0.98      0.99      0.99       200\n",
      "          STANDING       0.99      0.98      0.99       226\n",
      "           WALKING       0.99      0.99      0.99       198\n",
      "WALKING_DOWNSTAIRS       1.00      0.99      1.00       145\n",
      "  WALKING_UPSTAIRS       0.99      1.00      1.00       177\n",
      "\n",
      "          accuracy                           0.99      1177\n",
      "         macro avg       0.99      0.99      0.99      1177\n",
      "      weighted avg       0.99      0.99      0.99      1177\n",
      "\n"
     ]
    }
   ],
   "source": [
    "model_cat = CatBoostClassifier(random_state = 42, task_type = 'GPU', verbose = 0)\n",
    "model_cat.fit(X_train, y_train)\n",
    "p_cat_1 = model_cat.predict(X_val)\n",
    "\n",
    "print(accuracy_score(y_val, p_cat_1))\n",
    "print(confusion_matrix(y_val, p_cat_1))\n",
    "print(classification_report(y_val, p_cat_1))"
   ]
  },
  {
   "cell_type": "code",
   "execution_count": 147,
   "metadata": {},
   "outputs": [
    {
     "data": {
      "text/html": [
       "<div>\n",
       "<style scoped>\n",
       "    .dataframe tbody tr th:only-of-type {\n",
       "        vertical-align: middle;\n",
       "    }\n",
       "\n",
       "    .dataframe tbody tr th {\n",
       "        vertical-align: top;\n",
       "    }\n",
       "\n",
       "    .dataframe thead th {\n",
       "        text-align: right;\n",
       "    }\n",
       "</style>\n",
       "<table border=\"1\" class=\"dataframe\">\n",
       "  <thead>\n",
       "    <tr style=\"text-align: right;\">\n",
       "      <th></th>\n",
       "      <th>feature_name</th>\n",
       "      <th>feature_importance</th>\n",
       "    </tr>\n",
       "  </thead>\n",
       "  <tbody>\n",
       "    <tr>\n",
       "      <th>0</th>\n",
       "      <td>tBodyAccJerk-mad()-X</td>\n",
       "      <td>9.525623</td>\n",
       "    </tr>\n",
       "    <tr>\n",
       "      <th>1</th>\n",
       "      <td>fBodyAccJerk-max()-X</td>\n",
       "      <td>7.495311</td>\n",
       "    </tr>\n",
       "    <tr>\n",
       "      <th>2</th>\n",
       "      <td>tGravityAcc-max()-Y</td>\n",
       "      <td>5.002622</td>\n",
       "    </tr>\n",
       "    <tr>\n",
       "      <th>3</th>\n",
       "      <td>tGravityAcc-energy()-Y</td>\n",
       "      <td>4.796621</td>\n",
       "    </tr>\n",
       "    <tr>\n",
       "      <th>4</th>\n",
       "      <td>tGravityAcc-arCoeff()-Y,1</td>\n",
       "      <td>4.411690</td>\n",
       "    </tr>\n",
       "  </tbody>\n",
       "</table>\n",
       "</div>"
      ],
      "text/plain": [
       "                feature_name  feature_importance\n",
       "0       tBodyAccJerk-mad()-X            9.525623\n",
       "1       fBodyAccJerk-max()-X            7.495311\n",
       "2        tGravityAcc-max()-Y            5.002622\n",
       "3     tGravityAcc-energy()-Y            4.796621\n",
       "4  tGravityAcc-arCoeff()-Y,1            4.411690"
      ]
     },
     "execution_count": 147,
     "metadata": {},
     "output_type": "execute_result"
    }
   ],
   "source": [
    "cat = plot_feature_importance(model_cat.feature_importances_, list(X_train), True)\n",
    "cat.head()"
   ]
  },
  {
   "cell_type": "markdown",
   "metadata": {},
   "source": [
    "#### 상위 변수 n개"
   ]
  },
  {
   "cell_type": "code",
   "execution_count": 148,
   "metadata": {},
   "outputs": [
    {
     "name": "stdout",
     "output_type": "stream",
     "text": [
      "0 \n",
      "1 2 3 4 5 6 7 8 9 10 11 12 13 14 15 16 17 18 19 20 \n",
      "21 22 23 24 25 26 27 28 29 30 31 32 33 34 35 36 37 38 39 40 \n",
      "41 42 43 44 45 46 47 48 49 50 51 52 53 54 55 56 57 58 59 60 \n",
      "61 62 63 64 65 66 67 68 69 70 71 72 73 74 75 76 77 78 79 80 \n",
      "81 82 83 84 85 86 87 88 89 90 91 92 93 94 95 96 97 98 99 100 \n",
      "101 102 103 104 105 106 107 108 109 110 111 112 113 114 115 116 117 118 119 120 \n",
      "121 122 123 124 125 126 127 128 129 130 131 132 133 134 135 136 137 138 139 140 \n",
      "141 142 143 144 145 146 147 148 149 150 151 152 153 154 155 156 157 158 159 160 \n",
      "161 162 163 164 165 166 167 168 169 170 171 172 173 174 175 176 177 178 179 180 \n",
      "181 182 183 184 185 186 187 188 189 190 191 192 193 194 195 196 197 198 199 "
     ]
    }
   ],
   "source": [
    "acc = []\n",
    "for i in range(200) :   # 전체 변수는 561이지만, 200 정도면 충분하다\n",
    "    top_n_feature = cat.loc[:i, 'feature_name']\n",
    "    X_train_n = X_train[top_n_feature]\n",
    "    X_val_n = X_val[top_n_feature]\n",
    "    model_cat.fit(X_train_n, y_train)\n",
    "    pred = model_cat.predict(X_val_n)\n",
    "    acc.append(accuracy_score(y_val, pred))\n",
    "    print(i, end = ' ')\n",
    "    if i % 20 == 0:\n",
    "        print()"
   ]
  },
  {
   "cell_type": "code",
   "execution_count": 149,
   "metadata": {},
   "outputs": [
    {
     "data": {
      "image/png": "[encoded data removed]",
      "text/plain": [
       "<Figure size 2000x1200 with 1 Axes>"
      ]
     },
     "metadata": {},
     "output_type": "display_data"
    }
   ],
   "source": [
    "plt.figure(figsize = (20,12))\n",
    "plt.plot(range(200), acc, marker = '.')\n",
    "plt.grid()\n",
    "plt.show()"
   ]
  },
  {
   "cell_type": "code",
   "execution_count": 150,
   "metadata": {},
   "outputs": [
    {
     "name": "stdout",
     "output_type": "stream",
     "text": [
      "Max accuracy :  0.9949022939677146\n",
      "best_num_features :  87\n"
     ]
    }
   ],
   "source": [
    "print('Max accuracy : ', max(acc))\n",
    "print('best_num_features : ', acc.index(max(acc)))"
   ]
  },
  {
   "cell_type": "markdown",
   "metadata": {},
   "source": [
    "- 변수 상위 87개 선정"
   ]
  },
  {
   "cell_type": "code",
   "execution_count": 152,
   "metadata": {},
   "outputs": [
    {
     "name": "stdout",
     "output_type": "stream",
     "text": [
      "accuracy : 0.9949022939677146\n",
      "============================================================\n",
      "[[231   0   0   0   0   0]\n",
      " [  0 199   1   0   0   0]\n",
      " [  0   3 223   0   0   0]\n",
      " [  0   0   0 197   0   1]\n",
      " [  0   0   0   1 144   0]\n",
      " [  0   0   0   0   0 177]]\n",
      "============================================================\n",
      "                    precision    recall  f1-score   support\n",
      "\n",
      "            LAYING       1.00      1.00      1.00       231\n",
      "           SITTING       0.99      0.99      0.99       200\n",
      "          STANDING       1.00      0.99      0.99       226\n",
      "           WALKING       0.99      0.99      0.99       198\n",
      "WALKING_DOWNSTAIRS       1.00      0.99      1.00       145\n",
      "  WALKING_UPSTAIRS       0.99      1.00      1.00       177\n",
      "\n",
      "          accuracy                           0.99      1177\n",
      "         macro avg       1.00      0.99      0.99      1177\n",
      "      weighted avg       0.99      0.99      0.99      1177\n",
      "\n"
     ]
    }
   ],
   "source": [
    "top_87_feature = cat.loc[:87, 'feature_name']\n",
    "X_train_87 = X_train[top_87_feature]\n",
    "X_val_87 = X_val[top_87_feature]\n",
    "\n",
    "model_cat.fit(X_train_87, y_train)\n",
    "p_cat_2 = model_cat.predict(X_val_87)\n",
    "\n",
    "print('accuracy :',accuracy_score(y_val, p_cat_2))\n",
    "print('='*60)\n",
    "print(confusion_matrix(y_val, p_cat_2))\n",
    "print('='*60)\n",
    "print(classification_report(y_val, p_cat_2))"
   ]
  },
  {
   "cell_type": "markdown",
   "metadata": {},
   "source": [
    "### 5) 성능 비교"
   ]
  },
  {
   "cell_type": "code",
   "execution_count": 154,
   "metadata": {},
   "outputs": [
    {
     "data": {
      "text/html": [
       "<div>\n",
       "<style scoped>\n",
       "    .dataframe tbody tr th:only-of-type {\n",
       "        vertical-align: middle;\n",
       "    }\n",
       "\n",
       "    .dataframe tbody tr th {\n",
       "        vertical-align: top;\n",
       "    }\n",
       "\n",
       "    .dataframe thead th {\n",
       "        text-align: right;\n",
       "    }\n",
       "</style>\n",
       "<table border=\"1\" class=\"dataframe\">\n",
       "  <thead>\n",
       "    <tr style=\"text-align: right;\">\n",
       "      <th></th>\n",
       "      <th>algorithm</th>\n",
       "      <th>accuracy</th>\n",
       "      <th>f1_0</th>\n",
       "      <th>f1_1</th>\n",
       "      <th>f1_2</th>\n",
       "      <th>f1_3</th>\n",
       "      <th>f1_4</th>\n",
       "      <th>f1_5</th>\n",
       "    </tr>\n",
       "  </thead>\n",
       "  <tbody>\n",
       "    <tr>\n",
       "      <th>0</th>\n",
       "      <td>RF</td>\n",
       "      <td>0.979609</td>\n",
       "      <td>1.0</td>\n",
       "      <td>0.965347</td>\n",
       "      <td>0.968750</td>\n",
       "      <td>0.982278</td>\n",
       "      <td>0.972414</td>\n",
       "      <td>0.985915</td>\n",
       "    </tr>\n",
       "    <tr>\n",
       "      <th>1</th>\n",
       "      <td>RF_198</td>\n",
       "      <td>0.989805</td>\n",
       "      <td>1.0</td>\n",
       "      <td>0.985075</td>\n",
       "      <td>0.986667</td>\n",
       "      <td>0.987277</td>\n",
       "      <td>0.986301</td>\n",
       "      <td>0.991549</td>\n",
       "    </tr>\n",
       "    <tr>\n",
       "      <th>2</th>\n",
       "      <td>XGB</td>\n",
       "      <td>0.993203</td>\n",
       "      <td>1.0</td>\n",
       "      <td>0.987531</td>\n",
       "      <td>0.988914</td>\n",
       "      <td>0.992366</td>\n",
       "      <td>0.996564</td>\n",
       "      <td>0.994382</td>\n",
       "    </tr>\n",
       "    <tr>\n",
       "      <th>3</th>\n",
       "      <td>XGB_128</td>\n",
       "      <td>0.994902</td>\n",
       "      <td>1.0</td>\n",
       "      <td>0.992556</td>\n",
       "      <td>0.993318</td>\n",
       "      <td>0.994949</td>\n",
       "      <td>0.993103</td>\n",
       "      <td>0.994350</td>\n",
       "    </tr>\n",
       "    <tr>\n",
       "      <th>4</th>\n",
       "      <td>LGBM</td>\n",
       "      <td>0.994902</td>\n",
       "      <td>1.0</td>\n",
       "      <td>0.990000</td>\n",
       "      <td>0.991150</td>\n",
       "      <td>0.994924</td>\n",
       "      <td>1.000000</td>\n",
       "      <td>0.994382</td>\n",
       "    </tr>\n",
       "    <tr>\n",
       "      <th>5</th>\n",
       "      <td>LGBM_74</td>\n",
       "      <td>0.996602</td>\n",
       "      <td>1.0</td>\n",
       "      <td>0.992519</td>\n",
       "      <td>0.993348</td>\n",
       "      <td>0.997468</td>\n",
       "      <td>0.996564</td>\n",
       "      <td>1.000000</td>\n",
       "    </tr>\n",
       "    <tr>\n",
       "      <th>6</th>\n",
       "      <td>CAT</td>\n",
       "      <td>0.993203</td>\n",
       "      <td>1.0</td>\n",
       "      <td>0.985075</td>\n",
       "      <td>0.986667</td>\n",
       "      <td>0.994949</td>\n",
       "      <td>0.996540</td>\n",
       "      <td>0.997183</td>\n",
       "    </tr>\n",
       "    <tr>\n",
       "      <th>7</th>\n",
       "      <td>CAT_87</td>\n",
       "      <td>0.994902</td>\n",
       "      <td>1.0</td>\n",
       "      <td>0.990050</td>\n",
       "      <td>0.991111</td>\n",
       "      <td>0.994949</td>\n",
       "      <td>0.996540</td>\n",
       "      <td>0.997183</td>\n",
       "    </tr>\n",
       "  </tbody>\n",
       "</table>\n",
       "</div>"
      ],
      "text/plain": [
       "  algorithm  accuracy  f1_0      f1_1      f1_2      f1_3      f1_4      f1_5\n",
       "0        RF  0.979609   1.0  0.965347  0.968750  0.982278  0.972414  0.985915\n",
       "1    RF_198  0.989805   1.0  0.985075  0.986667  0.987277  0.986301  0.991549\n",
       "2       XGB  0.993203   1.0  0.987531  0.988914  0.992366  0.996564  0.994382\n",
       "3   XGB_128  0.994902   1.0  0.992556  0.993318  0.994949  0.993103  0.994350\n",
       "4      LGBM  0.994902   1.0  0.990000  0.991150  0.994924  1.000000  0.994382\n",
       "5   LGBM_74  0.996602   1.0  0.992519  0.993348  0.997468  0.996564  1.000000\n",
       "6       CAT  0.993203   1.0  0.985075  0.986667  0.994949  0.996540  0.997183\n",
       "7    CAT_87  0.994902   1.0  0.990050  0.991111  0.994949  0.996540  0.997183"
      ]
     },
     "execution_count": 154,
     "metadata": {},
     "output_type": "execute_result"
    }
   ],
   "source": [
    "algorithm = ['RF','RF_198', 'XGB', 'XGB_128', 'LGBM', 'LGBM_74', 'CAT', 'CAT_87']\n",
    "pred = [p_rf_1, p_rf_2, p_xgb_1, p_xgb_2, p_lgb_1, p_lgb_2, p_cat_1, p_cat_2]\n",
    "\n",
    "result = pd.DataFrame({'algorithm':[],'accuracy':[],'f1_0':[],'f1_1':[],'f1_2':[],'f1_3':[],'f1_4':[],'f1_5':[]})\n",
    "\n",
    "for i in range(8) :\n",
    "    if i < 2 or i > 5 :\n",
    "        acc = accuracy_score(y_val, pred[i])\n",
    "        f1 = list(f1_score(y_val, pred[i], average = None))\n",
    "    elif 2 <= i <= 3 :\n",
    "        acc = accuracy_score(y_val3, pred[i])\n",
    "        f1 = list(f1_score(y_val3, pred[i], average = None))\n",
    "    else:\n",
    "        acc = accuracy_score(y_val2, pred[i])\n",
    "        f1 = list(f1_score(y_val2, pred[i], average = None))\n",
    "        \n",
    "    row = [algorithm[i], acc]\n",
    "    result.loc[i] = row + f1\n",
    "\n",
    "result"
   ]
  }
 ],
 "metadata": {
  "colab": {
   "provenance": [],
   "toc_visible": true
  },
  "kernelspec": {
   "display_name": "test3.8",
   "language": "python",
   "name": "test3.8"
  },
  "language_info": {
   "codemirror_mode": {
    "name": "ipython",
    "version": 3
   },
   "file_extension": ".py",
   "mimetype": "text/x-python",
   "name": "python",
   "nbconvert_exporter": "python",
   "pygments_lexer": "ipython3",
   "version": "3.8.18"
  }
 },
 "nbformat": 4,
 "nbformat_minor": 4
}
