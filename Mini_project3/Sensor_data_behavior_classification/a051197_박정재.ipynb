{
 "cells": [
  {
   "cell_type": "markdown",
   "id": "62ffdf9b-1149-4e4e-85fe-cabcbd65bad7",
   "metadata": {},
   "source": [
    "# 1. 환경 설정"
   ]
  },
  {
   "cell_type": "code",
   "execution_count": 80,
   "id": "226658d3-ffd8-4960-a074-b83d24d338d4",
   "metadata": {},
   "outputs": [],
   "source": [
    "import pandas as pd\n",
    "import numpy as np\n",
    "import matplotlib.pyplot as plt\n",
    "import seaborn as sns\n",
    "import joblib\n",
    "# 필요하다고 판단되는 라이브러리를 추가하세요.\n",
    "import warnings\n",
    "warnings.filterwarnings('ignore')\n",
    "import re\n",
    "import datetime\n",
    "from sklearn.impute import SimpleImputer\n",
    "from sklearn.pipeline import Pipeline\n",
    "from sklearn.linear_model import LogisticRegression\n",
    "from sklearn.neighbors import KNeighborsClassifier\n",
    "from sklearn.ensemble import RandomForestClassifier\n",
    "from xgboost import XGBClassifier\n",
    "from lightgbm import LGBMClassifier\n",
    "from catboost import CatBoostClassifier\n",
    "from sklearn.metrics import *\n",
    "from sklearn.model_selection import train_test_split, GridSearchCV, RandomizedSearchCV, cross_val_score\n",
    "from sklearn.preprocessing import MinMaxScaler, StandardScaler, LabelEncoder\n",
    "from pycaret.classification import *\n",
    "import optuna"
   ]
  },
  {
   "cell_type": "markdown",
   "id": "4eda9cbe-8e6a-4337-b455-fc80e4187822",
   "metadata": {},
   "source": [
    "## 1) 데이터 로드"
   ]
  },
  {
   "cell_type": "code",
   "execution_count": 75,
   "id": "0a0dae8d-361e-4fdd-bc2a-fad3de33fe8a",
   "metadata": {},
   "outputs": [
    {
     "data": {
      "text/html": [
       "<div>\n",
       "<style scoped>\n",
       "    .dataframe tbody tr th:only-of-type {\n",
       "        vertical-align: middle;\n",
       "    }\n",
       "\n",
       "    .dataframe tbody tr th {\n",
       "        vertical-align: top;\n",
       "    }\n",
       "\n",
       "    .dataframe thead th {\n",
       "        text-align: right;\n",
       "    }\n",
       "</style>\n",
       "<table border=\"1\" class=\"dataframe\">\n",
       "  <thead>\n",
       "    <tr style=\"text-align: right;\">\n",
       "      <th></th>\n",
       "      <th>Unnamed: 0</th>\n",
       "      <th>timestamp</th>\n",
       "      <th>A_x</th>\n",
       "      <th>A_y</th>\n",
       "      <th>A_z</th>\n",
       "      <th>B_x</th>\n",
       "      <th>B_y</th>\n",
       "      <th>B_z</th>\n",
       "      <th>label</th>\n",
       "    </tr>\n",
       "  </thead>\n",
       "  <tbody>\n",
       "    <tr>\n",
       "      <th>0</th>\n",
       "      <td>0</td>\n",
       "      <td>2019-01-12 00:45:54.450</td>\n",
       "      <td>-0.259130</td>\n",
       "      <td>-0.834869</td>\n",
       "      <td>-0.485499</td>\n",
       "      <td>0.196409</td>\n",
       "      <td>NaN</td>\n",
       "      <td>0.384934</td>\n",
       "      <td>8</td>\n",
       "    </tr>\n",
       "    <tr>\n",
       "      <th>1</th>\n",
       "      <td>1</td>\n",
       "      <td>2000-01-01 01:37:06.440</td>\n",
       "      <td>0.370490</td>\n",
       "      <td>0.175042</td>\n",
       "      <td>0.122625</td>\n",
       "      <td>-0.338242</td>\n",
       "      <td>0.358245</td>\n",
       "      <td>0.126491</td>\n",
       "      <td>2</td>\n",
       "    </tr>\n",
       "    <tr>\n",
       "      <th>2</th>\n",
       "      <td>2</td>\n",
       "      <td>2019-01-12 00:45:33.900</td>\n",
       "      <td>-0.257837</td>\n",
       "      <td>-0.881947</td>\n",
       "      <td>-0.391895</td>\n",
       "      <td>0.196027</td>\n",
       "      <td>0.894537</td>\n",
       "      <td>0.411221</td>\n",
       "      <td>8</td>\n",
       "    </tr>\n",
       "    <tr>\n",
       "      <th>3</th>\n",
       "      <td>3</td>\n",
       "      <td>2000-01-01 00:46:22.680</td>\n",
       "      <td>-0.937753</td>\n",
       "      <td>-0.055961</td>\n",
       "      <td>0.362041</td>\n",
       "      <td>-0.929881</td>\n",
       "      <td>0.087673</td>\n",
       "      <td>0.134609</td>\n",
       "      <td>11</td>\n",
       "    </tr>\n",
       "    <tr>\n",
       "      <th>4</th>\n",
       "      <td>4</td>\n",
       "      <td>2000-01-01 00:49:56.620</td>\n",
       "      <td>-0.988320</td>\n",
       "      <td>-0.190390</td>\n",
       "      <td>0.157909</td>\n",
       "      <td>-0.954669</td>\n",
       "      <td>-0.024810</td>\n",
       "      <td>-0.388420</td>\n",
       "      <td>6</td>\n",
       "    </tr>\n",
       "  </tbody>\n",
       "</table>\n",
       "</div>"
      ],
      "text/plain": [
       "   Unnamed: 0                timestamp       A_x       A_y       A_z  \\\n",
       "0           0  2019-01-12 00:45:54.450 -0.259130 -0.834869 -0.485499   \n",
       "1           1  2000-01-01 01:37:06.440  0.370490  0.175042  0.122625   \n",
       "2           2  2019-01-12 00:45:33.900 -0.257837 -0.881947 -0.391895   \n",
       "3           3  2000-01-01 00:46:22.680 -0.937753 -0.055961  0.362041   \n",
       "4           4  2000-01-01 00:49:56.620 -0.988320 -0.190390  0.157909   \n",
       "\n",
       "        B_x       B_y       B_z  label  \n",
       "0  0.196409       NaN  0.384934      8  \n",
       "1 -0.338242  0.358245  0.126491      2  \n",
       "2  0.196027  0.894537  0.411221      8  \n",
       "3 -0.929881  0.087673  0.134609     11  \n",
       "4 -0.954669 -0.024810 -0.388420      6  "
      ]
     },
     "execution_count": 75,
     "metadata": {},
     "output_type": "execute_result"
    }
   ],
   "source": [
    "data = pd.read_csv('data/train.csv')\n",
    "data.head()"
   ]
  },
  {
   "cell_type": "code",
   "execution_count": 76,
   "id": "af60de20-acc7-4578-aeed-6afe5f1fb806",
   "metadata": {
    "scrolled": true
   },
   "outputs": [
    {
     "name": "stdout",
     "output_type": "stream",
     "text": [
      "<class 'pandas.core.frame.DataFrame'>\n",
      "RangeIndex: 100000 entries, 0 to 99999\n",
      "Data columns (total 8 columns):\n",
      " #   Column     Non-Null Count   Dtype  \n",
      "---  ------     --------------   -----  \n",
      " 0   timestamp  100000 non-null  object \n",
      " 1   A_x        90000 non-null   float64\n",
      " 2   A_y        90000 non-null   float64\n",
      " 3   A_z        90000 non-null   float64\n",
      " 4   B_x        90000 non-null   float64\n",
      " 5   B_y        90000 non-null   float64\n",
      " 6   B_z        90000 non-null   float64\n",
      " 7   label      100000 non-null  int64  \n",
      "dtypes: float64(6), int64(1), object(1)\n",
      "memory usage: 6.1+ MB\n"
     ]
    }
   ],
   "source": [
    "drop_cols = ['Unnamed: 0']\n",
    "data.drop(drop_cols, axis = 1, inplace = True)\n",
    "data.info()"
   ]
  },
  {
   "cell_type": "code",
   "execution_count": 4,
   "id": "ec37f55a-fca4-49fc-8356-8b196b03e6eb",
   "metadata": {},
   "outputs": [
    {
     "data": {
      "text/html": [
       "<div>\n",
       "<style scoped>\n",
       "    .dataframe tbody tr th:only-of-type {\n",
       "        vertical-align: middle;\n",
       "    }\n",
       "\n",
       "    .dataframe tbody tr th {\n",
       "        vertical-align: top;\n",
       "    }\n",
       "\n",
       "    .dataframe thead th {\n",
       "        text-align: right;\n",
       "    }\n",
       "</style>\n",
       "<table border=\"1\" class=\"dataframe\">\n",
       "  <thead>\n",
       "    <tr style=\"text-align: right;\">\n",
       "      <th></th>\n",
       "      <th>count</th>\n",
       "      <th>mean</th>\n",
       "      <th>std</th>\n",
       "      <th>min</th>\n",
       "      <th>25%</th>\n",
       "      <th>50%</th>\n",
       "      <th>75%</th>\n",
       "      <th>max</th>\n",
       "    </tr>\n",
       "  </thead>\n",
       "  <tbody>\n",
       "    <tr>\n",
       "      <th>A_x</th>\n",
       "      <td>90000.0</td>\n",
       "      <td>-0.876639</td>\n",
       "      <td>0.464709</td>\n",
       "      <td>-5.132823</td>\n",
       "      <td>-1.016718</td>\n",
       "      <td>-0.958268</td>\n",
       "      <td>-0.764307</td>\n",
       "      <td>1.849398</td>\n",
       "    </tr>\n",
       "    <tr>\n",
       "      <th>A_y</th>\n",
       "      <td>90000.0</td>\n",
       "      <td>-0.110566</td>\n",
       "      <td>0.348463</td>\n",
       "      <td>-1.949310</td>\n",
       "      <td>-0.181035</td>\n",
       "      <td>-0.047425</td>\n",
       "      <td>0.060235</td>\n",
       "      <td>2.413866</td>\n",
       "    </tr>\n",
       "    <tr>\n",
       "      <th>A_z</th>\n",
       "      <td>90000.0</td>\n",
       "      <td>-0.013331</td>\n",
       "      <td>0.361989</td>\n",
       "      <td>-1.284750</td>\n",
       "      <td>-0.281950</td>\n",
       "      <td>-0.063756</td>\n",
       "      <td>0.222074</td>\n",
       "      <td>2.584467</td>\n",
       "    </tr>\n",
       "    <tr>\n",
       "      <th>B_x</th>\n",
       "      <td>90000.0</td>\n",
       "      <td>-0.780543</td>\n",
       "      <td>0.817925</td>\n",
       "      <td>-7.483251</td>\n",
       "      <td>-1.050645</td>\n",
       "      <td>-0.918144</td>\n",
       "      <td>-0.157112</td>\n",
       "      <td>5.372528</td>\n",
       "    </tr>\n",
       "    <tr>\n",
       "      <th>B_y</th>\n",
       "      <td>90000.0</td>\n",
       "      <td>0.116559</td>\n",
       "      <td>0.593224</td>\n",
       "      <td>-5.466767</td>\n",
       "      <td>-0.190546</td>\n",
       "      <td>0.023954</td>\n",
       "      <td>0.319651</td>\n",
       "      <td>7.182237</td>\n",
       "    </tr>\n",
       "    <tr>\n",
       "      <th>B_z</th>\n",
       "      <td>90000.0</td>\n",
       "      <td>0.167377</td>\n",
       "      <td>0.785482</td>\n",
       "      <td>-7.208220</td>\n",
       "      <td>-0.243964</td>\n",
       "      <td>0.113276</td>\n",
       "      <td>0.525970</td>\n",
       "      <td>6.766558</td>\n",
       "    </tr>\n",
       "    <tr>\n",
       "      <th>label</th>\n",
       "      <td>100000.0</td>\n",
       "      <td>5.945630</td>\n",
       "      <td>3.333515</td>\n",
       "      <td>1.000000</td>\n",
       "      <td>3.000000</td>\n",
       "      <td>7.000000</td>\n",
       "      <td>9.000000</td>\n",
       "      <td>11.000000</td>\n",
       "    </tr>\n",
       "  </tbody>\n",
       "</table>\n",
       "</div>"
      ],
      "text/plain": [
       "          count      mean       std       min       25%       50%       75%  \\\n",
       "A_x     90000.0 -0.876639  0.464709 -5.132823 -1.016718 -0.958268 -0.764307   \n",
       "A_y     90000.0 -0.110566  0.348463 -1.949310 -0.181035 -0.047425  0.060235   \n",
       "A_z     90000.0 -0.013331  0.361989 -1.284750 -0.281950 -0.063756  0.222074   \n",
       "B_x     90000.0 -0.780543  0.817925 -7.483251 -1.050645 -0.918144 -0.157112   \n",
       "B_y     90000.0  0.116559  0.593224 -5.466767 -0.190546  0.023954  0.319651   \n",
       "B_z     90000.0  0.167377  0.785482 -7.208220 -0.243964  0.113276  0.525970   \n",
       "label  100000.0  5.945630  3.333515  1.000000  3.000000  7.000000  9.000000   \n",
       "\n",
       "             max  \n",
       "A_x     1.849398  \n",
       "A_y     2.413866  \n",
       "A_z     2.584467  \n",
       "B_x     5.372528  \n",
       "B_y     7.182237  \n",
       "B_z     6.766558  \n",
       "label  11.000000  "
      ]
     },
     "execution_count": 4,
     "metadata": {},
     "output_type": "execute_result"
    }
   ],
   "source": [
    "data.describe().T"
   ]
  },
  {
   "cell_type": "code",
   "execution_count": 77,
   "id": "3e681e80-f4b1-4fbc-9f93-b8c23ff2084d",
   "metadata": {},
   "outputs": [
    {
     "data": {
      "text/html": [
       "<div>\n",
       "<style scoped>\n",
       "    .dataframe tbody tr th:only-of-type {\n",
       "        vertical-align: middle;\n",
       "    }\n",
       "\n",
       "    .dataframe tbody tr th {\n",
       "        vertical-align: top;\n",
       "    }\n",
       "\n",
       "    .dataframe thead th {\n",
       "        text-align: right;\n",
       "    }\n",
       "</style>\n",
       "<table border=\"1\" class=\"dataframe\">\n",
       "  <thead>\n",
       "    <tr style=\"text-align: right;\">\n",
       "      <th></th>\n",
       "      <th>timestamp</th>\n",
       "      <th>A_x</th>\n",
       "      <th>A_y</th>\n",
       "      <th>A_z</th>\n",
       "      <th>B_x</th>\n",
       "      <th>B_y</th>\n",
       "      <th>B_z</th>\n",
       "      <th>label</th>\n",
       "    </tr>\n",
       "  </thead>\n",
       "  <tbody>\n",
       "    <tr>\n",
       "      <th>78632</th>\n",
       "      <td>2000-01-01 00:00:00.000</td>\n",
       "      <td>-0.988758</td>\n",
       "      <td>-0.144844</td>\n",
       "      <td>0.183325</td>\n",
       "      <td>-0.991851</td>\n",
       "      <td>-0.022659</td>\n",
       "      <td>-0.306466</td>\n",
       "      <td>6</td>\n",
       "    </tr>\n",
       "    <tr>\n",
       "      <th>78653</th>\n",
       "      <td>2000-01-01 00:00:00.020</td>\n",
       "      <td>-1.008465</td>\n",
       "      <td>NaN</td>\n",
       "      <td>0.156743</td>\n",
       "      <td>-0.976224</td>\n",
       "      <td>-0.040058</td>\n",
       "      <td>-0.277258</td>\n",
       "      <td>6</td>\n",
       "    </tr>\n",
       "    <tr>\n",
       "      <th>46005</th>\n",
       "      <td>2000-01-01 00:00:00.040</td>\n",
       "      <td>-0.991936</td>\n",
       "      <td>-0.143049</td>\n",
       "      <td>0.156618</td>\n",
       "      <td>-0.949758</td>\n",
       "      <td>-0.035796</td>\n",
       "      <td>-0.299548</td>\n",
       "      <td>6</td>\n",
       "    </tr>\n",
       "    <tr>\n",
       "      <th>92967</th>\n",
       "      <td>2000-01-01 00:00:00.060</td>\n",
       "      <td>-1.007975</td>\n",
       "      <td>-0.140831</td>\n",
       "      <td>0.155302</td>\n",
       "      <td>-1.006806</td>\n",
       "      <td>-0.013057</td>\n",
       "      <td>-0.289020</td>\n",
       "      <td>6</td>\n",
       "    </tr>\n",
       "    <tr>\n",
       "      <th>37258</th>\n",
       "      <td>2000-01-01 00:00:00.080</td>\n",
       "      <td>-0.991991</td>\n",
       "      <td>-0.159979</td>\n",
       "      <td>0.166965</td>\n",
       "      <td>NaN</td>\n",
       "      <td>0.015054</td>\n",
       "      <td>-0.293883</td>\n",
       "      <td>6</td>\n",
       "    </tr>\n",
       "  </tbody>\n",
       "</table>\n",
       "</div>"
      ],
      "text/plain": [
       "                     timestamp       A_x       A_y       A_z       B_x  \\\n",
       "78632  2000-01-01 00:00:00.000 -0.988758 -0.144844  0.183325 -0.991851   \n",
       "78653  2000-01-01 00:00:00.020 -1.008465       NaN  0.156743 -0.976224   \n",
       "46005  2000-01-01 00:00:00.040 -0.991936 -0.143049  0.156618 -0.949758   \n",
       "92967  2000-01-01 00:00:00.060 -1.007975 -0.140831  0.155302 -1.006806   \n",
       "37258  2000-01-01 00:00:00.080 -0.991991 -0.159979  0.166965       NaN   \n",
       "\n",
       "            B_y       B_z  label  \n",
       "78632 -0.022659 -0.306466      6  \n",
       "78653 -0.040058 -0.277258      6  \n",
       "46005 -0.035796 -0.299548      6  \n",
       "92967 -0.013057 -0.289020      6  \n",
       "37258  0.015054 -0.293883      6  "
      ]
     },
     "execution_count": 77,
     "metadata": {},
     "output_type": "execute_result"
    }
   ],
   "source": [
    "data.sort_values('timestamp', inplace = True)\n",
    "data.head()"
   ]
  },
  {
   "cell_type": "code",
   "execution_count": 81,
   "id": "2cfb4b55-ae05-446b-ae9d-3d88e9d7bb40",
   "metadata": {},
   "outputs": [
    {
     "data": {
      "text/html": [
       "<div>\n",
       "<style scoped>\n",
       "    .dataframe tbody tr th:only-of-type {\n",
       "        vertical-align: middle;\n",
       "    }\n",
       "\n",
       "    .dataframe tbody tr th {\n",
       "        vertical-align: top;\n",
       "    }\n",
       "\n",
       "    .dataframe thead th {\n",
       "        text-align: right;\n",
       "    }\n",
       "</style>\n",
       "<table border=\"1\" class=\"dataframe\">\n",
       "  <thead>\n",
       "    <tr style=\"text-align: right;\">\n",
       "      <th></th>\n",
       "      <th>timestamp</th>\n",
       "      <th>A_x</th>\n",
       "      <th>A_y</th>\n",
       "      <th>A_z</th>\n",
       "      <th>B_x</th>\n",
       "      <th>B_y</th>\n",
       "      <th>B_z</th>\n",
       "      <th>label</th>\n",
       "      <th>year</th>\n",
       "      <th>month</th>\n",
       "      <th>day</th>\n",
       "      <th>hour</th>\n",
       "      <th>minute</th>\n",
       "      <th>second</th>\n",
       "      <th>millisecond</th>\n",
       "    </tr>\n",
       "  </thead>\n",
       "  <tbody>\n",
       "    <tr>\n",
       "      <th>78632</th>\n",
       "      <td>2000-01-01 00:00:00.000</td>\n",
       "      <td>-0.988758</td>\n",
       "      <td>-0.144844</td>\n",
       "      <td>0.183325</td>\n",
       "      <td>-0.991851</td>\n",
       "      <td>-0.022659</td>\n",
       "      <td>-0.306466</td>\n",
       "      <td>6</td>\n",
       "      <td>2000</td>\n",
       "      <td>1</td>\n",
       "      <td>1</td>\n",
       "      <td>0</td>\n",
       "      <td>0</td>\n",
       "      <td>0</td>\n",
       "      <td>0</td>\n",
       "    </tr>\n",
       "    <tr>\n",
       "      <th>78653</th>\n",
       "      <td>2000-01-01 00:00:00.020</td>\n",
       "      <td>-1.008465</td>\n",
       "      <td>NaN</td>\n",
       "      <td>0.156743</td>\n",
       "      <td>-0.976224</td>\n",
       "      <td>-0.040058</td>\n",
       "      <td>-0.277258</td>\n",
       "      <td>6</td>\n",
       "      <td>2000</td>\n",
       "      <td>1</td>\n",
       "      <td>1</td>\n",
       "      <td>0</td>\n",
       "      <td>0</td>\n",
       "      <td>0</td>\n",
       "      <td>20</td>\n",
       "    </tr>\n",
       "    <tr>\n",
       "      <th>46005</th>\n",
       "      <td>2000-01-01 00:00:00.040</td>\n",
       "      <td>-0.991936</td>\n",
       "      <td>-0.143049</td>\n",
       "      <td>0.156618</td>\n",
       "      <td>-0.949758</td>\n",
       "      <td>-0.035796</td>\n",
       "      <td>-0.299548</td>\n",
       "      <td>6</td>\n",
       "      <td>2000</td>\n",
       "      <td>1</td>\n",
       "      <td>1</td>\n",
       "      <td>0</td>\n",
       "      <td>0</td>\n",
       "      <td>0</td>\n",
       "      <td>40</td>\n",
       "    </tr>\n",
       "    <tr>\n",
       "      <th>92967</th>\n",
       "      <td>2000-01-01 00:00:00.060</td>\n",
       "      <td>-1.007975</td>\n",
       "      <td>-0.140831</td>\n",
       "      <td>0.155302</td>\n",
       "      <td>-1.006806</td>\n",
       "      <td>-0.013057</td>\n",
       "      <td>-0.289020</td>\n",
       "      <td>6</td>\n",
       "      <td>2000</td>\n",
       "      <td>1</td>\n",
       "      <td>1</td>\n",
       "      <td>0</td>\n",
       "      <td>0</td>\n",
       "      <td>0</td>\n",
       "      <td>60</td>\n",
       "    </tr>\n",
       "    <tr>\n",
       "      <th>37258</th>\n",
       "      <td>2000-01-01 00:00:00.080</td>\n",
       "      <td>-0.991991</td>\n",
       "      <td>-0.159979</td>\n",
       "      <td>0.166965</td>\n",
       "      <td>NaN</td>\n",
       "      <td>0.015054</td>\n",
       "      <td>-0.293883</td>\n",
       "      <td>6</td>\n",
       "      <td>2000</td>\n",
       "      <td>1</td>\n",
       "      <td>1</td>\n",
       "      <td>0</td>\n",
       "      <td>0</td>\n",
       "      <td>0</td>\n",
       "      <td>80</td>\n",
       "    </tr>\n",
       "  </tbody>\n",
       "</table>\n",
       "</div>"
      ],
      "text/plain": [
       "                    timestamp       A_x       A_y       A_z       B_x  \\\n",
       "78632 2000-01-01 00:00:00.000 -0.988758 -0.144844  0.183325 -0.991851   \n",
       "78653 2000-01-01 00:00:00.020 -1.008465       NaN  0.156743 -0.976224   \n",
       "46005 2000-01-01 00:00:00.040 -0.991936 -0.143049  0.156618 -0.949758   \n",
       "92967 2000-01-01 00:00:00.060 -1.007975 -0.140831  0.155302 -1.006806   \n",
       "37258 2000-01-01 00:00:00.080 -0.991991 -0.159979  0.166965       NaN   \n",
       "\n",
       "            B_y       B_z  label  year  month  day  hour  minute  second  \\\n",
       "78632 -0.022659 -0.306466      6  2000      1    1     0       0       0   \n",
       "78653 -0.040058 -0.277258      6  2000      1    1     0       0       0   \n",
       "46005 -0.035796 -0.299548      6  2000      1    1     0       0       0   \n",
       "92967 -0.013057 -0.289020      6  2000      1    1     0       0       0   \n",
       "37258  0.015054 -0.293883      6  2000      1    1     0       0       0   \n",
       "\n",
       "       millisecond  \n",
       "78632            0  \n",
       "78653           20  \n",
       "46005           40  \n",
       "92967           60  \n",
       "37258           80  "
      ]
     },
     "execution_count": 81,
     "metadata": {},
     "output_type": "execute_result"
    }
   ],
   "source": [
    "# 주어진 데이터프레임에서 timestamp 열을 datetime 형식으로 변환\n",
    "data['timestamp'] = pd.to_datetime(data['timestamp'])\n",
    "\n",
    "# 날짜 변수 생성 (년, 월, 일)\n",
    "data['year'] = data['timestamp'].dt.year\n",
    "data['month'] = data['timestamp'].dt.month\n",
    "data['day'] = data['timestamp'].dt.day\n",
    "\n",
    "# 시간 변수 생성 (시, 분, 초, 밀리초)\n",
    "data['hour'] = data['timestamp'].dt.hour\n",
    "data['minute'] = data['timestamp'].dt.minute\n",
    "data['second'] = data['timestamp'].dt.second\n",
    "data['millisecond'] = data['timestamp'].dt.microsecond // 1000  # 밀리초 단위로 변환\n",
    "\n",
    "data.head()"
   ]
  },
  {
   "cell_type": "markdown",
   "id": "321ca647-00b7-49d0-861d-723180fc4226",
   "metadata": {},
   "source": [
    "- 인덱스와 timestamp 삭제\n",
    "- 변수들의 결측치 10000개 채워야함"
   ]
  },
  {
   "cell_type": "markdown",
   "id": "86c0fbac-3a52-48a9-a35f-3395f41ec0cf",
   "metadata": {},
   "source": [
    "# 2. 데이터 분석"
   ]
  },
  {
   "cell_type": "markdown",
   "id": "3b24db11-cc29-41cf-a31c-17a4b6113ffa",
   "metadata": {},
   "source": [
    "## 1) 단변량 분석"
   ]
  },
  {
   "cell_type": "markdown",
   "id": "8abe59f2-496c-475a-9563-0028b4fde214",
   "metadata": {},
   "source": [
    "### 1) Target"
   ]
  },
  {
   "cell_type": "code",
   "execution_count": 273,
   "id": "cc0dacb6-7d14-41c3-b575-ae8571f7d6e8",
   "metadata": {},
   "outputs": [
    {
     "name": "stdout",
     "output_type": "stream",
     "text": [
      "label\n",
      "2     12170\n",
      "8     11497\n",
      "1     11465\n",
      "7     10594\n",
      "10     9579\n",
      "9      9282\n",
      "11     9112\n",
      "3      8305\n",
      "4      7208\n",
      "5      5411\n",
      "6      5377\n",
      "Name: count, dtype: int64\n",
      "==============================\n",
      "label\n",
      "2     0.12170\n",
      "8     0.11497\n",
      "1     0.11465\n",
      "7     0.10594\n",
      "10    0.09579\n",
      "9     0.09282\n",
      "11    0.09112\n",
      "3     0.08305\n",
      "4     0.07208\n",
      "5     0.05411\n",
      "6     0.05377\n",
      "Name: proportion, dtype: float64\n",
      "==============================\n"
     ]
    },
    {
     "data": {
      "image/png": "[encoded data removed]",
      "text/plain": [
       "<Figure size 1200x800 with 1 Axes>"
      ]
     },
     "metadata": {},
     "output_type": "display_data"
    }
   ],
   "source": [
    "target = 'label'\n",
    "\n",
    "print(data[target].value_counts())\n",
    "print('=' * 30)\n",
    "print(data[target].value_counts(normalize = True))\n",
    "print('=' * 30)\n",
    "\n",
    "plt.figure(figsize = (12, 8))\n",
    "sns.countplot(x = data[target])\n",
    "plt.show()"
   ]
  },
  {
   "cell_type": "markdown",
   "id": "b560b2fb-11f1-43d8-bbad-eb2217c3c195",
   "metadata": {},
   "source": [
    "- 천천히 걷기, 계단 오르내리기, 서있기 의 수가 상대적으로 적다\n",
    "- 걷기, 뛰기, 앉기, 누워있기 상대적으로 많다"
   ]
  },
  {
   "cell_type": "markdown",
   "id": "fbe13b2a-35c3-4790-853e-bd81f3894345",
   "metadata": {},
   "source": [
    "### 2) 수치형 변수들"
   ]
  },
  {
   "cell_type": "code",
   "execution_count": 274,
   "id": "89f32dc4-0327-4c30-a7f1-fd77255c2c51",
   "metadata": {},
   "outputs": [],
   "source": [
    "def eda_num(features, data):\n",
    "    print(data[features].describe().T)\n",
    "    plt.figure(figsize = (12, 12))\n",
    "    for i in range(len(features)):\n",
    "        plt.subplot(6, 2, (2 * i) + 1)\n",
    "        sns.histplot(x = features[i], data = data, kde = True)\n",
    "        plt.subplot(6, 2, (2 * i) + 2)\n",
    "        sns.boxplot(x = features[i], data = data)\n",
    "    plt.tight_layout()\n",
    "    plt.show()"
   ]
  },
  {
   "cell_type": "code",
   "execution_count": 275,
   "id": "ef5f039d-a29d-48c9-8d4f-51ce5e43b388",
   "metadata": {},
   "outputs": [
    {
     "name": "stdout",
     "output_type": "stream",
     "text": [
      "       count      mean       std       min       25%       50%       75%  \\\n",
      "A_x  90000.0 -0.876639  0.464709 -5.132823 -1.016718 -0.958268 -0.764307   \n",
      "A_y  90000.0 -0.110566  0.348463 -1.949310 -0.181035 -0.047425  0.060235   \n",
      "A_z  90000.0 -0.013331  0.361989 -1.284750 -0.281950 -0.063756  0.222074   \n",
      "B_x  90000.0 -0.780543  0.817925 -7.483251 -1.050645 -0.918144 -0.157112   \n",
      "B_y  90000.0  0.116559  0.593224 -5.466767 -0.190546  0.023954  0.319651   \n",
      "B_z  90000.0  0.167377  0.785482 -7.208220 -0.243964  0.113276  0.525970   \n",
      "\n",
      "          max  \n",
      "A_x  1.849398  \n",
      "A_y  2.413866  \n",
      "A_z  2.584467  \n",
      "B_x  5.372528  \n",
      "B_y  7.182237  \n",
      "B_z  6.766558  \n"
     ]
    },
    {
     "data": {
      "image/png": "[encoded data removed]",
      "text/plain": [
       "<Figure size 1200x1200 with 12 Axes>"
      ]
     },
     "metadata": {},
     "output_type": "display_data"
    }
   ],
   "source": [
    "features = ['A_x', 'A_y', 'A_z', 'B_x', 'B_y', 'B_z']\n",
    "eda_num(features, data)"
   ]
  },
  {
   "cell_type": "markdown",
   "id": "5a217548-1fc8-4c63-8805-3dbca68376a7",
   "metadata": {},
   "source": [
    "- A 신체 부위는 활동에 따라 B 부위보다 더 많이 움직인다"
   ]
  },
  {
   "cell_type": "markdown",
   "id": "713549cf-1e93-470b-87be-dea8b9e661de",
   "metadata": {},
   "source": [
    "## 2) 이변량 분석"
   ]
  },
  {
   "cell_type": "code",
   "execution_count": 276,
   "id": "babb3265-48ec-48fe-a3d8-b21000ba7115",
   "metadata": {},
   "outputs": [],
   "source": [
    "def eda_num_cat(features, target, data):\n",
    "    plt.figure(figsize=(15, 9))\n",
    "    for i in range(len(features)):\n",
    "        plt.subplot(2, 3, i + 1)\n",
    "        sns.kdeplot(x=features[i], data=data, hue=target, common_norm=False, palette=\"Set2\")\n",
    "    plt.show()\n"
   ]
  },
  {
   "cell_type": "code",
   "execution_count": 277,
   "id": "ce0b5beb-87e8-4492-b871-e9363dff502d",
   "metadata": {},
   "outputs": [
    {
     "data": {
      "image/png": "[encoded data removed]",
      "text/plain": [
       "<Figure size 1500x900 with 6 Axes>"
      ]
     },
     "metadata": {},
     "output_type": "display_data"
    }
   ],
   "source": [
    "target = 'label'\n",
    "features = ['A_x', 'A_y', 'A_z', 'B_x', 'B_y', 'B_z']\n",
    "eda_num_cat(features, target, data)"
   ]
  },
  {
   "cell_type": "markdown",
   "id": "6ea4be06-596a-4325-a486-0a813bf4bb10",
   "metadata": {},
   "source": [
    "- 대체로 앞뒤로 움직이는 활동들이다\n",
    "- 행동에 따른 데이터 값들이 0의 주변이다"
   ]
  },
  {
   "cell_type": "markdown",
   "id": "32a4201c-c829-4bf5-85b6-e383736fb7cb",
   "metadata": {},
   "source": [
    "## 3) 결측치 처리"
   ]
  },
  {
   "cell_type": "code",
   "execution_count": 82,
   "id": "585b2c81-2b45-4262-8b27-872119309f45",
   "metadata": {},
   "outputs": [],
   "source": [
    "def na_check_modeling(data):\n",
    "    target = 'label'\n",
    "    X = data.drop(target, axis = 1)\n",
    "    y = data.loc[:, target]\n",
    "    \n",
    "    X_train, X_val, y_train, y_val = train_test_split(X, y, test_size = 0.2, random_state = 42)\n",
    "    \n",
    "    pipeline = Pipeline([\n",
    "        ('imputer', SimpleImputer()),  \n",
    "        ('classifier', RandomForestClassifier(random_state = 42))  \n",
    "    ])\n",
    "    \n",
    "    param_grid = {\n",
    "        'imputer__strategy': ['mean', 'median'], \n",
    "    }\n",
    "    \n",
    "    grid_search = GridSearchCV(pipeline, param_grid, cv=5, scoring='accuracy')\n",
    "    grid_search.fit(X_train, y_train)\n",
    "    \n",
    "    print(\"Best param : \", grid_search.best_params_)\n",
    "    print(\"Best accuracy: \", grid_search.best_score_)"
   ]
  },
  {
   "cell_type": "code",
   "execution_count": 85,
   "id": "e781e0a5-c539-415a-90b7-38b0c66005c4",
   "metadata": {},
   "outputs": [],
   "source": [
    "target = 'label'\n",
    "X = data.drop([target, 'timestamp'], axis = 1)\n",
    "y = data.loc[:, target]    "
   ]
  },
  {
   "cell_type": "code",
   "execution_count": 88,
   "id": "e2eb6676-230a-47d9-98a4-5b98759d3f55",
   "metadata": {},
   "outputs": [
    {
     "data": {
      "text/html": [
       "<div>\n",
       "<style scoped>\n",
       "    .dataframe tbody tr th:only-of-type {\n",
       "        vertical-align: middle;\n",
       "    }\n",
       "\n",
       "    .dataframe tbody tr th {\n",
       "        vertical-align: top;\n",
       "    }\n",
       "\n",
       "    .dataframe thead th {\n",
       "        text-align: right;\n",
       "    }\n",
       "</style>\n",
       "<table border=\"1\" class=\"dataframe\">\n",
       "  <thead>\n",
       "    <tr style=\"text-align: right;\">\n",
       "      <th></th>\n",
       "      <th>A_x</th>\n",
       "      <th>A_y</th>\n",
       "      <th>A_z</th>\n",
       "      <th>B_x</th>\n",
       "      <th>B_y</th>\n",
       "      <th>B_z</th>\n",
       "      <th>year</th>\n",
       "      <th>month</th>\n",
       "      <th>day</th>\n",
       "      <th>hour</th>\n",
       "      <th>minute</th>\n",
       "      <th>second</th>\n",
       "      <th>millisecond</th>\n",
       "    </tr>\n",
       "  </thead>\n",
       "  <tbody>\n",
       "    <tr>\n",
       "      <th>78632</th>\n",
       "      <td>-0.988758</td>\n",
       "      <td>-0.144844</td>\n",
       "      <td>0.183325</td>\n",
       "      <td>-0.991851</td>\n",
       "      <td>-0.022659</td>\n",
       "      <td>-0.306466</td>\n",
       "      <td>2000</td>\n",
       "      <td>1</td>\n",
       "      <td>1</td>\n",
       "      <td>0</td>\n",
       "      <td>0</td>\n",
       "      <td>0</td>\n",
       "      <td>0</td>\n",
       "    </tr>\n",
       "    <tr>\n",
       "      <th>78653</th>\n",
       "      <td>-1.008465</td>\n",
       "      <td>NaN</td>\n",
       "      <td>0.156743</td>\n",
       "      <td>-0.976224</td>\n",
       "      <td>-0.040058</td>\n",
       "      <td>-0.277258</td>\n",
       "      <td>2000</td>\n",
       "      <td>1</td>\n",
       "      <td>1</td>\n",
       "      <td>0</td>\n",
       "      <td>0</td>\n",
       "      <td>0</td>\n",
       "      <td>20</td>\n",
       "    </tr>\n",
       "    <tr>\n",
       "      <th>46005</th>\n",
       "      <td>-0.991936</td>\n",
       "      <td>-0.143049</td>\n",
       "      <td>0.156618</td>\n",
       "      <td>-0.949758</td>\n",
       "      <td>-0.035796</td>\n",
       "      <td>-0.299548</td>\n",
       "      <td>2000</td>\n",
       "      <td>1</td>\n",
       "      <td>1</td>\n",
       "      <td>0</td>\n",
       "      <td>0</td>\n",
       "      <td>0</td>\n",
       "      <td>40</td>\n",
       "    </tr>\n",
       "    <tr>\n",
       "      <th>92967</th>\n",
       "      <td>-1.007975</td>\n",
       "      <td>-0.140831</td>\n",
       "      <td>0.155302</td>\n",
       "      <td>-1.006806</td>\n",
       "      <td>-0.013057</td>\n",
       "      <td>-0.289020</td>\n",
       "      <td>2000</td>\n",
       "      <td>1</td>\n",
       "      <td>1</td>\n",
       "      <td>0</td>\n",
       "      <td>0</td>\n",
       "      <td>0</td>\n",
       "      <td>60</td>\n",
       "    </tr>\n",
       "    <tr>\n",
       "      <th>37258</th>\n",
       "      <td>-0.991991</td>\n",
       "      <td>-0.159979</td>\n",
       "      <td>0.166965</td>\n",
       "      <td>NaN</td>\n",
       "      <td>0.015054</td>\n",
       "      <td>-0.293883</td>\n",
       "      <td>2000</td>\n",
       "      <td>1</td>\n",
       "      <td>1</td>\n",
       "      <td>0</td>\n",
       "      <td>0</td>\n",
       "      <td>0</td>\n",
       "      <td>80</td>\n",
       "    </tr>\n",
       "  </tbody>\n",
       "</table>\n",
       "</div>"
      ],
      "text/plain": [
       "            A_x       A_y       A_z       B_x       B_y       B_z  year  \\\n",
       "78632 -0.988758 -0.144844  0.183325 -0.991851 -0.022659 -0.306466  2000   \n",
       "78653 -1.008465       NaN  0.156743 -0.976224 -0.040058 -0.277258  2000   \n",
       "46005 -0.991936 -0.143049  0.156618 -0.949758 -0.035796 -0.299548  2000   \n",
       "92967 -1.007975 -0.140831  0.155302 -1.006806 -0.013057 -0.289020  2000   \n",
       "37258 -0.991991 -0.159979  0.166965       NaN  0.015054 -0.293883  2000   \n",
       "\n",
       "       month  day  hour  minute  second  millisecond  \n",
       "78632      1    1     0       0       0            0  \n",
       "78653      1    1     0       0       0           20  \n",
       "46005      1    1     0       0       0           40  \n",
       "92967      1    1     0       0       0           60  \n",
       "37258      1    1     0       0       0           80  "
      ]
     },
     "execution_count": 88,
     "metadata": {},
     "output_type": "execute_result"
    }
   ],
   "source": [
    "X.head()"
   ]
  },
  {
   "cell_type": "code",
   "execution_count": 90,
   "id": "2e470964-bc5d-43b0-b595-2c1ac5e99ac2",
   "metadata": {},
   "outputs": [
    {
     "data": {
      "text/plain": [
       "Index(['timestamp', 'A_x', 'A_y', 'A_z', 'B_x', 'B_y', 'B_z', 'label', 'year',\n",
       "       'month', 'day', 'hour', 'minute', 'second', 'millisecond'],\n",
       "      dtype='object')"
      ]
     },
     "execution_count": 90,
     "metadata": {},
     "output_type": "execute_result"
    }
   ],
   "source": [
    "data.columns"
   ]
  },
  {
   "cell_type": "code",
   "execution_count": 91,
   "id": "813ea278-ffdd-4415-a7ae-56dbe84287b2",
   "metadata": {},
   "outputs": [
    {
     "data": {
      "text/plain": [
       "timestamp      0\n",
       "A_x            0\n",
       "A_y            0\n",
       "A_z            0\n",
       "B_x            0\n",
       "B_y            0\n",
       "B_z            0\n",
       "label          0\n",
       "year           0\n",
       "month          0\n",
       "day            0\n",
       "hour           0\n",
       "minute         0\n",
       "second         0\n",
       "millisecond    0\n",
       "dtype: int64"
      ]
     },
     "execution_count": 91,
     "metadata": {},
     "output_type": "execute_result"
    }
   ],
   "source": [
    "data.interpolate(method='linear', inplace=True)\n",
    "data.isna().sum()"
   ]
  },
  {
   "cell_type": "code",
   "execution_count": 92,
   "id": "41988f09-d612-42ba-9ab4-f64b0ec01328",
   "metadata": {},
   "outputs": [
    {
     "name": "stdout",
     "output_type": "stream",
     "text": [
      "[[1072   21    3   10    0    0    0    0    0   19    2]\n",
      " [  22 1170    0    2    0    0    0    0    0   21    6]\n",
      " [   5    5  734   27   35    1    0    0    0    0    1]\n",
      " [  10    0    2  724    0    0    0    0    0    0    0]\n",
      " [   0    1    1    0  515    0    0    0    0    0    0]\n",
      " [   2    1    0    0    0  555    0    0    0    5    2]\n",
      " [   0    0    0    0    0    0 1060    0    0    0    0]\n",
      " [   0    0    0    0    0    0    0 1158    0    0    0]\n",
      " [   0    0    0    0    0    0    0    0  895    0    0]\n",
      " [  10   12    0    0    0    0    0    0    0  944   18]\n",
      " [   6    1    0    1    0    0    0    0    0   15  906]]\n",
      "              precision    recall  f1-score   support\n",
      "\n",
      "           1       0.95      0.95      0.95      1127\n",
      "           2       0.97      0.96      0.96      1221\n",
      "           3       0.99      0.91      0.95       808\n",
      "           4       0.95      0.98      0.97       736\n",
      "           5       0.94      1.00      0.97       517\n",
      "           6       1.00      0.98      0.99       565\n",
      "           7       1.00      1.00      1.00      1060\n",
      "           8       1.00      1.00      1.00      1158\n",
      "           9       1.00      1.00      1.00       895\n",
      "          10       0.94      0.96      0.95       984\n",
      "          11       0.97      0.98      0.97       929\n",
      "\n",
      "    accuracy                           0.97     10000\n",
      "   macro avg       0.97      0.97      0.97     10000\n",
      "weighted avg       0.97      0.97      0.97     10000\n",
      "\n"
     ]
    }
   ],
   "source": [
    "target = 'label'\n",
    "X = data.drop([target, 'timestamp'], axis = 1)\n",
    "y = data.loc[:, target]    \n",
    "\n",
    "X_train, X_val, y_train, y_val = train_test_split(X_median, y, test_size = 0.1, random_state = 42)\n",
    "\n",
    "model_rf = RandomForestClassifier(random_state = 42)\n",
    "model_rf.fit(X_train, y_train)\n",
    "pred = model_rf.predict(X_val)\n",
    "\n",
    "print(confusion_matrix(y_val, pred))\n",
    "print(classification_report(y_val, pred))"
   ]
  },
  {
   "cell_type": "markdown",
   "id": "50cd96b6-aca9-4cfb-bc64-a41eb6a9013e",
   "metadata": {},
   "source": [
    "## 4) 변수 중요도 분석"
   ]
  },
  {
   "cell_type": "markdown",
   "id": "53662c00-17d6-45ed-b9e1-489579768184",
   "metadata": {},
   "source": [
    "### 1) 전체 세부 행동"
   ]
  },
  {
   "cell_type": "code",
   "execution_count": 68,
   "id": "b9981eca-d231-49c6-82f6-4fc494e7a8ea",
   "metadata": {},
   "outputs": [],
   "source": [
    "# 변수의 특성 중요도 계산하기\n",
    "def plot_feature_importance(importance, names, result_only = False, topn = 'all'):\n",
    "    feature_importance = np.array(importance)\n",
    "    feature_name = np.array(names)\n",
    "\n",
    "    data={'feature_name':feature_name,'feature_importance':feature_importance}\n",
    "    fi_temp = pd.DataFrame(data)\n",
    "\n",
    "    #변수의 특성 중요도 순으로 정렬하기\n",
    "    fi_temp.sort_values(by=['feature_importance'], ascending=False,inplace=True)\n",
    "    fi_temp.reset_index(drop=True, inplace = True)\n",
    "\n",
    "    if topn == 'all' :\n",
    "        fi_df = fi_temp.copy()\n",
    "    else :\n",
    "        fi_df = fi_temp.iloc[:topn]\n",
    "\n",
    "    #변수의 특성 중요도 그래프로 그리기\n",
    "    if result_only == False :\n",
    "        plt.figure(figsize=(10,20))\n",
    "        sns.barplot(x='feature_importance', y='feature_name', data = fi_df)\n",
    "\n",
    "        plt.xlabel('importance')\n",
    "        plt.ylabel('feature name')\n",
    "        plt.grid()\n",
    "\n",
    "    return fi_df"
   ]
  },
  {
   "cell_type": "code",
   "execution_count": 283,
   "id": "69400ad8-c577-4d44-a51e-cbdfa738f0ac",
   "metadata": {},
   "outputs": [
    {
     "data": {
      "text/html": [
       "<style>#sk-container-id-6 {color: black;background-color: white;}#sk-container-id-6 pre{padding: 0;}#sk-container-id-6 div.sk-toggleable {background-color: white;}#sk-container-id-6 label.sk-toggleable__label {cursor: pointer;display: block;width: 100%;margin-bottom: 0;padding: 0.3em;box-sizing: border-box;text-align: center;}#sk-container-id-6 label.sk-toggleable__label-arrow:before {content: \"▸\";float: left;margin-right: 0.25em;color: #696969;}#sk-container-id-6 label.sk-toggleable__label-arrow:hover:before {color: black;}#sk-container-id-6 div.sk-estimator:hover label.sk-toggleable__label-arrow:before {color: black;}#sk-container-id-6 div.sk-toggleable__content {max-height: 0;max-width: 0;overflow: hidden;text-align: left;background-color: #f0f8ff;}#sk-container-id-6 div.sk-toggleable__content pre {margin: 0.2em;color: black;border-radius: 0.25em;background-color: #f0f8ff;}#sk-container-id-6 input.sk-toggleable__control:checked~div.sk-toggleable__content {max-height: 200px;max-width: 100%;overflow: auto;}#sk-container-id-6 input.sk-toggleable__control:checked~label.sk-toggleable__label-arrow:before {content: \"▾\";}#sk-container-id-6 div.sk-estimator input.sk-toggleable__control:checked~label.sk-toggleable__label {background-color: #d4ebff;}#sk-container-id-6 div.sk-label input.sk-toggleable__control:checked~label.sk-toggleable__label {background-color: #d4ebff;}#sk-container-id-6 input.sk-hidden--visually {border: 0;clip: rect(1px 1px 1px 1px);clip: rect(1px, 1px, 1px, 1px);height: 1px;margin: -1px;overflow: hidden;padding: 0;position: absolute;width: 1px;}#sk-container-id-6 div.sk-estimator {font-family: monospace;background-color: #f0f8ff;border: 1px dotted black;border-radius: 0.25em;box-sizing: border-box;margin-bottom: 0.5em;}#sk-container-id-6 div.sk-estimator:hover {background-color: #d4ebff;}#sk-container-id-6 div.sk-parallel-item::after {content: \"\";width: 100%;border-bottom: 1px solid gray;flex-grow: 1;}#sk-container-id-6 div.sk-label:hover label.sk-toggleable__label {background-color: #d4ebff;}#sk-container-id-6 div.sk-serial::before {content: \"\";position: absolute;border-left: 1px solid gray;box-sizing: border-box;top: 0;bottom: 0;left: 50%;z-index: 0;}#sk-container-id-6 div.sk-serial {display: flex;flex-direction: column;align-items: center;background-color: white;padding-right: 0.2em;padding-left: 0.2em;position: relative;}#sk-container-id-6 div.sk-item {position: relative;z-index: 1;}#sk-container-id-6 div.sk-parallel {display: flex;align-items: stretch;justify-content: center;background-color: white;position: relative;}#sk-container-id-6 div.sk-item::before, #sk-container-id-6 div.sk-parallel-item::before {content: \"\";position: absolute;border-left: 1px solid gray;box-sizing: border-box;top: 0;bottom: 0;left: 50%;z-index: -1;}#sk-container-id-6 div.sk-parallel-item {display: flex;flex-direction: column;z-index: 1;position: relative;background-color: white;}#sk-container-id-6 div.sk-parallel-item:first-child::after {align-self: flex-end;width: 50%;}#sk-container-id-6 div.sk-parallel-item:last-child::after {align-self: flex-start;width: 50%;}#sk-container-id-6 div.sk-parallel-item:only-child::after {width: 0;}#sk-container-id-6 div.sk-dashed-wrapped {border: 1px dashed gray;margin: 0 0.4em 0.5em 0.4em;box-sizing: border-box;padding-bottom: 0.4em;background-color: white;}#sk-container-id-6 div.sk-label label {font-family: monospace;font-weight: bold;display: inline-block;line-height: 1.2em;}#sk-container-id-6 div.sk-label-container {text-align: center;}#sk-container-id-6 div.sk-container {/* jupyter's `normalize.less` sets `[hidden] { display: none; }` but bootstrap.min.css set `[hidden] { display: none !important; }` so we also need the `!important` here to be able to override the default hidden behavior on the sphinx rendered scikit-learn.org. See: https://github.com/scikit-learn/scikit-learn/issues/21755 */display: inline-block !important;position: relative;}#sk-container-id-6 div.sk-text-repr-fallback {display: none;}</style><div id=\"sk-container-id-6\" class=\"sk-top-container\"><div class=\"sk-text-repr-fallback\"><pre>RandomForestClassifier(bootstrap=True, ccp_alpha=0.0, class_weight=None,\n",
       "                       criterion=&#x27;gini&#x27;, max_depth=None, max_features=&#x27;sqrt&#x27;,\n",
       "                       max_leaf_nodes=None, max_samples=None,\n",
       "                       min_impurity_decrease=0.0, min_samples_leaf=1,\n",
       "                       min_samples_split=2, min_weight_fraction_leaf=0.0,\n",
       "                       n_estimators=100, n_jobs=None, oob_score=False,\n",
       "                       random_state=42, verbose=0, warm_start=False)</pre><b>In a Jupyter environment, please rerun this cell to show the HTML representation or trust the notebook. <br />On GitHub, the HTML representation is unable to render, please try loading this page with nbviewer.org.</b></div><div class=\"sk-container\" hidden><div class=\"sk-item\"><div class=\"sk-estimator sk-toggleable\"><input class=\"sk-toggleable__control sk-hidden--visually\" id=\"sk-estimator-id-6\" type=\"checkbox\" checked><label for=\"sk-estimator-id-6\" class=\"sk-toggleable__label sk-toggleable__label-arrow\">RandomForestClassifier</label><div class=\"sk-toggleable__content\"><pre>RandomForestClassifier(bootstrap=True, ccp_alpha=0.0, class_weight=None,\n",
       "                       criterion=&#x27;gini&#x27;, max_depth=None, max_features=&#x27;sqrt&#x27;,\n",
       "                       max_leaf_nodes=None, max_samples=None,\n",
       "                       min_impurity_decrease=0.0, min_samples_leaf=1,\n",
       "                       min_samples_split=2, min_weight_fraction_leaf=0.0,\n",
       "                       n_estimators=100, n_jobs=None, oob_score=False,\n",
       "                       random_state=42, verbose=0, warm_start=False)</pre></div></div></div></div></div>"
      ],
      "text/plain": [
       "RandomForestClassifier(bootstrap=True, ccp_alpha=0.0, class_weight=None,\n",
       "                       criterion='gini', max_depth=None, max_features='sqrt',\n",
       "                       max_leaf_nodes=None, max_samples=None,\n",
       "                       min_impurity_decrease=0.0, min_samples_leaf=1,\n",
       "                       min_samples_split=2, min_weight_fraction_leaf=0.0,\n",
       "                       n_estimators=100, n_jobs=None, oob_score=False,\n",
       "                       random_state=42, verbose=0, warm_start=False)"
      ]
     },
     "execution_count": 283,
     "metadata": {},
     "output_type": "execute_result"
    }
   ],
   "source": [
    "imputer = SimpleImputer(strategy = 'median')\n",
    "X_median=imputer.fit_transform(X)\n",
    "X_train, X_val, y_train, y_val = train_test_split(X_median, y, test_size = 0.2, random_state = 42)\n",
    "model_rf = RandomForestClassifier(random_state = 42)\n",
    "model_rf.fit(X_train, y_train)"
   ]
  },
  {
   "cell_type": "code",
   "execution_count": 284,
   "id": "5128e179-52f5-48e2-a4e7-083f40cc1a04",
   "metadata": {},
   "outputs": [
    {
     "data": {
      "text/html": [
       "<div>\n",
       "<style scoped>\n",
       "    .dataframe tbody tr th:only-of-type {\n",
       "        vertical-align: middle;\n",
       "    }\n",
       "\n",
       "    .dataframe tbody tr th {\n",
       "        vertical-align: top;\n",
       "    }\n",
       "\n",
       "    .dataframe thead th {\n",
       "        text-align: right;\n",
       "    }\n",
       "</style>\n",
       "<table border=\"1\" class=\"dataframe\">\n",
       "  <thead>\n",
       "    <tr style=\"text-align: right;\">\n",
       "      <th></th>\n",
       "      <th>feature_name</th>\n",
       "      <th>feature_importance</th>\n",
       "    </tr>\n",
       "  </thead>\n",
       "  <tbody>\n",
       "    <tr>\n",
       "      <th>0</th>\n",
       "      <td>A_z</td>\n",
       "      <td>0.213232</td>\n",
       "    </tr>\n",
       "    <tr>\n",
       "      <th>1</th>\n",
       "      <td>B_x</td>\n",
       "      <td>0.185962</td>\n",
       "    </tr>\n",
       "    <tr>\n",
       "      <th>2</th>\n",
       "      <td>B_z</td>\n",
       "      <td>0.172930</td>\n",
       "    </tr>\n",
       "    <tr>\n",
       "      <th>3</th>\n",
       "      <td>A_x</td>\n",
       "      <td>0.162025</td>\n",
       "    </tr>\n",
       "    <tr>\n",
       "      <th>4</th>\n",
       "      <td>A_y</td>\n",
       "      <td>0.136128</td>\n",
       "    </tr>\n",
       "    <tr>\n",
       "      <th>5</th>\n",
       "      <td>B_y</td>\n",
       "      <td>0.129722</td>\n",
       "    </tr>\n",
       "  </tbody>\n",
       "</table>\n",
       "</div>"
      ],
      "text/plain": [
       "  feature_name  feature_importance\n",
       "0          A_z            0.213232\n",
       "1          B_x            0.185962\n",
       "2          B_z            0.172930\n",
       "3          A_x            0.162025\n",
       "4          A_y            0.136128\n",
       "5          B_y            0.129722"
      ]
     },
     "execution_count": 284,
     "metadata": {},
     "output_type": "execute_result"
    }
   ],
   "source": [
    "feature_importances = plot_feature_importance(model_rf.feature_importances_, X.columns, result_only = True)\n",
    "feature_importances"
   ]
  },
  {
   "cell_type": "markdown",
   "id": "bebfb06f-cbe2-4a20-8538-d006729f79ae",
   "metadata": {},
   "source": [
    "- A 부위의 위아래 움직임이 가장 중요\n",
    "- y축 데이터가 덜 중요하다"
   ]
  },
  {
   "cell_type": "markdown",
   "id": "24ccf699-e809-41d5-8ea5-a12afd274ac1",
   "metadata": {},
   "source": [
    "### 2) 정적 동적 유무"
   ]
  },
  {
   "cell_type": "code",
   "execution_count": 63,
   "id": "34cb2e56-c12d-461d-b346-4396e4c080df",
   "metadata": {},
   "outputs": [
    {
     "data": {
      "text/html": [
       "<div>\n",
       "<style scoped>\n",
       "    .dataframe tbody tr th:only-of-type {\n",
       "        vertical-align: middle;\n",
       "    }\n",
       "\n",
       "    .dataframe tbody tr th {\n",
       "        vertical-align: top;\n",
       "    }\n",
       "\n",
       "    .dataframe thead th {\n",
       "        text-align: right;\n",
       "    }\n",
       "</style>\n",
       "<table border=\"1\" class=\"dataframe\">\n",
       "  <thead>\n",
       "    <tr style=\"text-align: right;\">\n",
       "      <th></th>\n",
       "      <th>A_x</th>\n",
       "      <th>A_y</th>\n",
       "      <th>A_z</th>\n",
       "      <th>B_x</th>\n",
       "      <th>B_y</th>\n",
       "      <th>B_z</th>\n",
       "      <th>label</th>\n",
       "      <th>is_dynamic</th>\n",
       "    </tr>\n",
       "  </thead>\n",
       "  <tbody>\n",
       "    <tr>\n",
       "      <th>0</th>\n",
       "      <td>-0.259130</td>\n",
       "      <td>-0.834869</td>\n",
       "      <td>-0.485499</td>\n",
       "      <td>0.196409</td>\n",
       "      <td>0.023954</td>\n",
       "      <td>0.384934</td>\n",
       "      <td>8</td>\n",
       "      <td>0</td>\n",
       "    </tr>\n",
       "    <tr>\n",
       "      <th>1</th>\n",
       "      <td>0.370490</td>\n",
       "      <td>0.175042</td>\n",
       "      <td>0.122625</td>\n",
       "      <td>-0.338242</td>\n",
       "      <td>0.358245</td>\n",
       "      <td>0.126491</td>\n",
       "      <td>2</td>\n",
       "      <td>1</td>\n",
       "    </tr>\n",
       "    <tr>\n",
       "      <th>2</th>\n",
       "      <td>-0.257837</td>\n",
       "      <td>-0.881947</td>\n",
       "      <td>-0.391895</td>\n",
       "      <td>0.196027</td>\n",
       "      <td>0.894537</td>\n",
       "      <td>0.411221</td>\n",
       "      <td>8</td>\n",
       "      <td>0</td>\n",
       "    </tr>\n",
       "    <tr>\n",
       "      <th>3</th>\n",
       "      <td>-0.937753</td>\n",
       "      <td>-0.055961</td>\n",
       "      <td>0.362041</td>\n",
       "      <td>-0.929881</td>\n",
       "      <td>0.087673</td>\n",
       "      <td>0.134609</td>\n",
       "      <td>11</td>\n",
       "      <td>3</td>\n",
       "    </tr>\n",
       "    <tr>\n",
       "      <th>4</th>\n",
       "      <td>-0.988320</td>\n",
       "      <td>-0.190390</td>\n",
       "      <td>0.157909</td>\n",
       "      <td>-0.954669</td>\n",
       "      <td>-0.024810</td>\n",
       "      <td>-0.388420</td>\n",
       "      <td>6</td>\n",
       "      <td>0</td>\n",
       "    </tr>\n",
       "  </tbody>\n",
       "</table>\n",
       "</div>"
      ],
      "text/plain": [
       "        A_x       A_y       A_z       B_x       B_y       B_z  label  \\\n",
       "0 -0.259130 -0.834869 -0.485499  0.196409  0.023954  0.384934      8   \n",
       "1  0.370490  0.175042  0.122625 -0.338242  0.358245  0.126491      2   \n",
       "2 -0.257837 -0.881947 -0.391895  0.196027  0.894537  0.411221      8   \n",
       "3 -0.937753 -0.055961  0.362041 -0.929881  0.087673  0.134609     11   \n",
       "4 -0.988320 -0.190390  0.157909 -0.954669 -0.024810 -0.388420      6   \n",
       "\n",
       "   is_dynamic  \n",
       "0           0  \n",
       "1           1  \n",
       "2           0  \n",
       "3           3  \n",
       "4           0  "
      ]
     },
     "execution_count": 63,
     "metadata": {},
     "output_type": "execute_result"
    }
   ],
   "source": [
    "data['is_dynamic'] = np.where(data['label'].isin([1, 2, 3]), 1, np.where(data['label'].isin([4, 5]), 2, np.where(data['label'].isin([9, 10, 11]), 3, 0)))\n",
    "data.head()"
   ]
  },
  {
   "cell_type": "code",
   "execution_count": 64,
   "id": "706817cd-3096-46c7-a5c3-6bbee02988b4",
   "metadata": {},
   "outputs": [],
   "source": [
    "target = 'is_dynamic'\n",
    "X = data.drop([target, 'label'], axis = 1)\n",
    "y = data.loc[:, target]    "
   ]
  },
  {
   "cell_type": "code",
   "execution_count": 65,
   "id": "c4ddaf68-a433-45b1-87ca-92296d31e4c4",
   "metadata": {},
   "outputs": [
    {
     "data": {
      "text/html": [
       "<style>#sk-container-id-1 {color: black;background-color: white;}#sk-container-id-1 pre{padding: 0;}#sk-container-id-1 div.sk-toggleable {background-color: white;}#sk-container-id-1 label.sk-toggleable__label {cursor: pointer;display: block;width: 100%;margin-bottom: 0;padding: 0.3em;box-sizing: border-box;text-align: center;}#sk-container-id-1 label.sk-toggleable__label-arrow:before {content: \"▸\";float: left;margin-right: 0.25em;color: #696969;}#sk-container-id-1 label.sk-toggleable__label-arrow:hover:before {color: black;}#sk-container-id-1 div.sk-estimator:hover label.sk-toggleable__label-arrow:before {color: black;}#sk-container-id-1 div.sk-toggleable__content {max-height: 0;max-width: 0;overflow: hidden;text-align: left;background-color: #f0f8ff;}#sk-container-id-1 div.sk-toggleable__content pre {margin: 0.2em;color: black;border-radius: 0.25em;background-color: #f0f8ff;}#sk-container-id-1 input.sk-toggleable__control:checked~div.sk-toggleable__content {max-height: 200px;max-width: 100%;overflow: auto;}#sk-container-id-1 input.sk-toggleable__control:checked~label.sk-toggleable__label-arrow:before {content: \"▾\";}#sk-container-id-1 div.sk-estimator input.sk-toggleable__control:checked~label.sk-toggleable__label {background-color: #d4ebff;}#sk-container-id-1 div.sk-label input.sk-toggleable__control:checked~label.sk-toggleable__label {background-color: #d4ebff;}#sk-container-id-1 input.sk-hidden--visually {border: 0;clip: rect(1px 1px 1px 1px);clip: rect(1px, 1px, 1px, 1px);height: 1px;margin: -1px;overflow: hidden;padding: 0;position: absolute;width: 1px;}#sk-container-id-1 div.sk-estimator {font-family: monospace;background-color: #f0f8ff;border: 1px dotted black;border-radius: 0.25em;box-sizing: border-box;margin-bottom: 0.5em;}#sk-container-id-1 div.sk-estimator:hover {background-color: #d4ebff;}#sk-container-id-1 div.sk-parallel-item::after {content: \"\";width: 100%;border-bottom: 1px solid gray;flex-grow: 1;}#sk-container-id-1 div.sk-label:hover label.sk-toggleable__label {background-color: #d4ebff;}#sk-container-id-1 div.sk-serial::before {content: \"\";position: absolute;border-left: 1px solid gray;box-sizing: border-box;top: 0;bottom: 0;left: 50%;z-index: 0;}#sk-container-id-1 div.sk-serial {display: flex;flex-direction: column;align-items: center;background-color: white;padding-right: 0.2em;padding-left: 0.2em;position: relative;}#sk-container-id-1 div.sk-item {position: relative;z-index: 1;}#sk-container-id-1 div.sk-parallel {display: flex;align-items: stretch;justify-content: center;background-color: white;position: relative;}#sk-container-id-1 div.sk-item::before, #sk-container-id-1 div.sk-parallel-item::before {content: \"\";position: absolute;border-left: 1px solid gray;box-sizing: border-box;top: 0;bottom: 0;left: 50%;z-index: -1;}#sk-container-id-1 div.sk-parallel-item {display: flex;flex-direction: column;z-index: 1;position: relative;background-color: white;}#sk-container-id-1 div.sk-parallel-item:first-child::after {align-self: flex-end;width: 50%;}#sk-container-id-1 div.sk-parallel-item:last-child::after {align-self: flex-start;width: 50%;}#sk-container-id-1 div.sk-parallel-item:only-child::after {width: 0;}#sk-container-id-1 div.sk-dashed-wrapped {border: 1px dashed gray;margin: 0 0.4em 0.5em 0.4em;box-sizing: border-box;padding-bottom: 0.4em;background-color: white;}#sk-container-id-1 div.sk-label label {font-family: monospace;font-weight: bold;display: inline-block;line-height: 1.2em;}#sk-container-id-1 div.sk-label-container {text-align: center;}#sk-container-id-1 div.sk-container {/* jupyter's `normalize.less` sets `[hidden] { display: none; }` but bootstrap.min.css set `[hidden] { display: none !important; }` so we also need the `!important` here to be able to override the default hidden behavior on the sphinx rendered scikit-learn.org. See: https://github.com/scikit-learn/scikit-learn/issues/21755 */display: inline-block !important;position: relative;}#sk-container-id-1 div.sk-text-repr-fallback {display: none;}</style><div id=\"sk-container-id-1\" class=\"sk-top-container\"><div class=\"sk-text-repr-fallback\"><pre>RandomForestClassifier(random_state=42)</pre><b>In a Jupyter environment, please rerun this cell to show the HTML representation or trust the notebook. <br />On GitHub, the HTML representation is unable to render, please try loading this page with nbviewer.org.</b></div><div class=\"sk-container\" hidden><div class=\"sk-item\"><div class=\"sk-estimator sk-toggleable\"><input class=\"sk-toggleable__control sk-hidden--visually\" id=\"sk-estimator-id-1\" type=\"checkbox\" checked><label for=\"sk-estimator-id-1\" class=\"sk-toggleable__label sk-toggleable__label-arrow\">RandomForestClassifier</label><div class=\"sk-toggleable__content\"><pre>RandomForestClassifier(random_state=42)</pre></div></div></div></div></div>"
      ],
      "text/plain": [
       "RandomForestClassifier(random_state=42)"
      ]
     },
     "execution_count": 65,
     "metadata": {},
     "output_type": "execute_result"
    }
   ],
   "source": [
    "imputer = SimpleImputer(strategy = 'median')\n",
    "X_median=imputer.fit_transform(X)\n",
    "X_train, X_val, y_train, y_val = train_test_split(X_median, y, test_size = 0.1, random_state = 42)\n",
    "model_rf = RandomForestClassifier(random_state = 42)\n",
    "model_rf.fit(X_train, y_train)"
   ]
  },
  {
   "cell_type": "code",
   "execution_count": 66,
   "id": "12f8e7ec-ddc1-48c8-b70a-c7ff9a99d01f",
   "metadata": {},
   "outputs": [
    {
     "name": "stdout",
     "output_type": "stream",
     "text": [
      "0.9112\n",
      "[[2686   30    1   41]\n",
      " [   9 2896  236  120]\n",
      " [   3  287  941   20]\n",
      " [  10  118   13 2589]]\n",
      "              precision    recall  f1-score   support\n",
      "\n",
      "           0       0.99      0.97      0.98      2758\n",
      "           1       0.87      0.89      0.88      3261\n",
      "           2       0.79      0.75      0.77      1251\n",
      "           3       0.93      0.95      0.94      2730\n",
      "\n",
      "    accuracy                           0.91     10000\n",
      "   macro avg       0.90      0.89      0.89     10000\n",
      "weighted avg       0.91      0.91      0.91     10000\n",
      "\n"
     ]
    }
   ],
   "source": [
    "pred = model_rf.predict(X_val)\n",
    "\n",
    "print(accuracy_score(y_val, pred))\n",
    "print(confusion_matrix(y_val, pred))\n",
    "print(classification_report(y_val, pred))"
   ]
  },
  {
   "cell_type": "code",
   "execution_count": 69,
   "id": "effa376d-8fb6-41de-b144-a976bd4e637e",
   "metadata": {},
   "outputs": [
    {
     "data": {
      "text/html": [
       "<div>\n",
       "<style scoped>\n",
       "    .dataframe tbody tr th:only-of-type {\n",
       "        vertical-align: middle;\n",
       "    }\n",
       "\n",
       "    .dataframe tbody tr th {\n",
       "        vertical-align: top;\n",
       "    }\n",
       "\n",
       "    .dataframe thead th {\n",
       "        text-align: right;\n",
       "    }\n",
       "</style>\n",
       "<table border=\"1\" class=\"dataframe\">\n",
       "  <thead>\n",
       "    <tr style=\"text-align: right;\">\n",
       "      <th></th>\n",
       "      <th>feature_name</th>\n",
       "      <th>feature_importance</th>\n",
       "    </tr>\n",
       "  </thead>\n",
       "  <tbody>\n",
       "    <tr>\n",
       "      <th>0</th>\n",
       "      <td>A_z</td>\n",
       "      <td>0.261219</td>\n",
       "    </tr>\n",
       "    <tr>\n",
       "      <th>1</th>\n",
       "      <td>B_x</td>\n",
       "      <td>0.206825</td>\n",
       "    </tr>\n",
       "    <tr>\n",
       "      <th>2</th>\n",
       "      <td>B_z</td>\n",
       "      <td>0.175017</td>\n",
       "    </tr>\n",
       "    <tr>\n",
       "      <th>3</th>\n",
       "      <td>A_x</td>\n",
       "      <td>0.125821</td>\n",
       "    </tr>\n",
       "    <tr>\n",
       "      <th>4</th>\n",
       "      <td>A_y</td>\n",
       "      <td>0.125761</td>\n",
       "    </tr>\n",
       "    <tr>\n",
       "      <th>5</th>\n",
       "      <td>B_y</td>\n",
       "      <td>0.105357</td>\n",
       "    </tr>\n",
       "  </tbody>\n",
       "</table>\n",
       "</div>"
      ],
      "text/plain": [
       "  feature_name  feature_importance\n",
       "0          A_z            0.261219\n",
       "1          B_x            0.206825\n",
       "2          B_z            0.175017\n",
       "3          A_x            0.125821\n",
       "4          A_y            0.125761\n",
       "5          B_y            0.105357"
      ]
     },
     "execution_count": 69,
     "metadata": {},
     "output_type": "execute_result"
    }
   ],
   "source": [
    "feature_importances = plot_feature_importance(model_rf.feature_importances_, X.columns, result_only = True)\n",
    "feature_importances"
   ]
  },
  {
   "cell_type": "markdown",
   "id": "0ca97323-8efc-455a-9f01-c031bf0321d0",
   "metadata": {},
   "source": [
    "- 정적, 동적 유무에서는 A부위의 X축 데이터가 별로 중요하지 않았다\n",
    "- 세부 활동에서보다 A_z, B_x의 변수 중요도가 더 중요했다"
   ]
  },
  {
   "cell_type": "markdown",
   "id": "20d73566-77e1-4fff-8040-cf651b69c50e",
   "metadata": {},
   "source": [
    "# 3. 모델링"
   ]
  },
  {
   "cell_type": "code",
   "execution_count": 70,
   "id": "ed8370a8-ee23-4ea6-91f1-a895dfce002c",
   "metadata": {},
   "outputs": [
    {
     "data": {
      "text/plain": [
       "A_x           0\n",
       "A_y           0\n",
       "A_z           0\n",
       "B_x           0\n",
       "B_y           0\n",
       "B_z           0\n",
       "label         0\n",
       "is_dynamic    0\n",
       "dtype: int64"
      ]
     },
     "execution_count": 70,
     "metadata": {},
     "output_type": "execute_result"
    }
   ],
   "source": [
    "medians = data.median()\n",
    "data = data.fillna(medians)\n",
    "data.isna().sum()"
   ]
  },
  {
   "cell_type": "markdown",
   "id": "a69805d3-caf5-4f14-836f-7f11ca5dec9b",
   "metadata": {
    "collapsed": true,
    "jupyter": {
     "outputs_hidden": true
    }
   },
   "source": [
    "### 1) 정적, 동적 유무 분류"
   ]
  },
  {
   "cell_type": "code",
   "execution_count": null,
   "id": "8a0c2a64-2495-4f83-863a-47f58c8aa72f",
   "metadata": {},
   "outputs": [],
   "source": [
    "def modeling(data, target, models):\n",
    "    result = {}\n",
    "    X = data.drop([list(data)[]6:], axis = 1)\n",
    "    y = data.loc[:, target]\n",
    "    le = LabelEncoder()\n",
    "    y2 = le.fit_transform(y)\n",
    "    X_train, X_val, y_train, y_val = train_test_split(X, y, test_size = 0.1, random_state = 42)\n",
    "    X_train2, X_val2, y_train2, y_val2 = train_test_split(X, y2, test_size = 0.1, random_state = 42) # XGB 위해서\n",
    "\n",
    "    for model_name, model in models.items():\n",
    "        if model_name == 'XGBoost':\n",
    "            model.fit(X_train2, y_train2)\n",
    "            pred = model.predict(X_val2)\n",
    "            print(model_name)\n",
    "            print(accuracy_score(y_val2, pred))\n",
    "            print(confusion_matrix(y_val2, pred))\n",
    "            print(classification_report(y_val2, pred))\n",
    "            print('=' * 60)\n",
    "        else:\n",
    "            model.fit(X_train, y_train)\n",
    "            pred = model.predict(X_val)\n",
    "            print(model_name)\n",
    "            print(accuracy_score(y_val, pred))\n",
    "            print(confusion_matrix(y_val, pred))\n",
    "            print(classification_report(y_val, pred))\n",
    "            print('=' * 60)"
   ]
  },
  {
   "cell_type": "code",
   "execution_count": null,
   "id": "53cf75d1-e630-4afd-95ca-41a334feef42",
   "metadata": {},
   "outputs": [],
   "source": [
    "models = {\n",
    "    'Random Forest' :  RandomForestClassifier(random_state = 42), \n",
    "    'XGBoost' : XGBClassifier(random_state = 42, device = 'gpu'), \n",
    "    'LightGBM' : LGBMClassifier(random_state = 42, verbose = -1, device = 'gpu'), \n",
    "    'CatBoost' : CatBoostClassifier(random_state = 42, task_type = 'GPU', verbose = 0)\n",
    "}\n",
    "\n",
    "modeling(data, target, models)"
   ]
  },
  {
   "cell_type": "code",
   "execution_count": 71,
   "id": "5246782a-9873-4aa5-aea1-758a3d25eddb",
   "metadata": {},
   "outputs": [],
   "source": [
    "target = 'is_dynamic'\n",
    "X = data.drop([target, 'label'], axis = 1)\n",
    "y = data.loc[:, target]\n",
    "\n",
    "X_train, X_val, y_train, y_val = train_test_split(X, y, test_size = 0.1, random_state = 42)"
   ]
  },
  {
   "cell_type": "code",
   "execution_count": null,
   "id": "b7d98c91-15b8-4e86-af16-69f9b1c48ace",
   "metadata": {},
   "outputs": [],
   "source": [
    "for "
   ]
  },
  {
   "cell_type": "markdown",
   "id": "27180bd1-5399-47ef-ad6e-1c25261d166e",
   "metadata": {},
   "source": [
    "#### 1) Random Forest"
   ]
  },
  {
   "cell_type": "code",
   "execution_count": 72,
   "id": "d793c898-42ba-4a97-b9fc-f1d3c3a8aae2",
   "metadata": {},
   "outputs": [
    {
     "name": "stdout",
     "output_type": "stream",
     "text": [
      "0.9112\n",
      "[[2686   30    1   41]\n",
      " [   9 2896  236  120]\n",
      " [   3  287  941   20]\n",
      " [  10  118   13 2589]]\n",
      "              precision    recall  f1-score   support\n",
      "\n",
      "           0       0.99      0.97      0.98      2758\n",
      "           1       0.87      0.89      0.88      3261\n",
      "           2       0.79      0.75      0.77      1251\n",
      "           3       0.93      0.95      0.94      2730\n",
      "\n",
      "    accuracy                           0.91     10000\n",
      "   macro avg       0.90      0.89      0.89     10000\n",
      "weighted avg       0.91      0.91      0.91     10000\n",
      "\n"
     ]
    }
   ],
   "source": [
    "model_rf = RandomForestClassifier(random_state = 42)\n",
    "model_rf.fit(X_train, y_train)\n",
    "p_rf_1 = model_rf.predict(X_val)\n",
    "\n",
    "print(accuracy_score(y_val, p_rf_1))\n",
    "print(confusion_matrix(y_val, p_rf_1))\n",
    "print(classification_report(y_val, p_rf_1))"
   ]
  },
  {
   "cell_type": "code",
   "execution_count": 430,
   "id": "0fe562b3-3a86-47e3-8173-6f490b753831",
   "metadata": {
    "scrolled": true
   },
   "outputs": [
    {
     "data": {
      "text/html": [
       "<div>\n",
       "<style scoped>\n",
       "    .dataframe tbody tr th:only-of-type {\n",
       "        vertical-align: middle;\n",
       "    }\n",
       "\n",
       "    .dataframe tbody tr th {\n",
       "        vertical-align: top;\n",
       "    }\n",
       "\n",
       "    .dataframe thead th {\n",
       "        text-align: right;\n",
       "    }\n",
       "</style>\n",
       "<table border=\"1\" class=\"dataframe\">\n",
       "  <thead>\n",
       "    <tr style=\"text-align: right;\">\n",
       "      <th></th>\n",
       "      <th>feature_name</th>\n",
       "      <th>feature_importance</th>\n",
       "    </tr>\n",
       "  </thead>\n",
       "  <tbody>\n",
       "    <tr>\n",
       "      <th>0</th>\n",
       "      <td>B_x</td>\n",
       "      <td>0.345872</td>\n",
       "    </tr>\n",
       "    <tr>\n",
       "      <th>1</th>\n",
       "      <td>B_z</td>\n",
       "      <td>0.186641</td>\n",
       "    </tr>\n",
       "    <tr>\n",
       "      <th>2</th>\n",
       "      <td>A_y</td>\n",
       "      <td>0.155304</td>\n",
       "    </tr>\n",
       "    <tr>\n",
       "      <th>3</th>\n",
       "      <td>A_z</td>\n",
       "      <td>0.149865</td>\n",
       "    </tr>\n",
       "    <tr>\n",
       "      <th>4</th>\n",
       "      <td>B_y</td>\n",
       "      <td>0.094245</td>\n",
       "    </tr>\n",
       "    <tr>\n",
       "      <th>5</th>\n",
       "      <td>A_x</td>\n",
       "      <td>0.068072</td>\n",
       "    </tr>\n",
       "  </tbody>\n",
       "</table>\n",
       "</div>"
      ],
      "text/plain": [
       "  feature_name  feature_importance\n",
       "0          B_x            0.345872\n",
       "1          B_z            0.186641\n",
       "2          A_y            0.155304\n",
       "3          A_z            0.149865\n",
       "4          B_y            0.094245\n",
       "5          A_x            0.068072"
      ]
     },
     "execution_count": 430,
     "metadata": {},
     "output_type": "execute_result"
    }
   ],
   "source": [
    "rf = plot_feature_importance(model_rf.feature_importances_, list(X_train), True)\n",
    "rf.head(6)"
   ]
  },
  {
   "cell_type": "markdown",
   "id": "52cf578c-a572-4756-b9ed-24b127d5a1eb",
   "metadata": {},
   "source": [
    "#### 2) XGBoost"
   ]
  },
  {
   "cell_type": "code",
   "execution_count": 457,
   "id": "44c8b90a-e5aa-441e-97a8-ae1cdc806f24",
   "metadata": {},
   "outputs": [
    {
     "name": "stdout",
     "output_type": "stream",
     "text": [
      "0.9884\n",
      "[[2676   82]\n",
      " [  34 7208]]\n",
      "              precision    recall  f1-score   support\n",
      "\n",
      "           0       0.99      0.97      0.98      2758\n",
      "           1       0.99      1.00      0.99      7242\n",
      "\n",
      "    accuracy                           0.99     10000\n",
      "   macro avg       0.99      0.98      0.99     10000\n",
      "weighted avg       0.99      0.99      0.99     10000\n",
      "\n"
     ]
    }
   ],
   "source": [
    "model_xgb = XGBClassifier(random_state = 42, device = 'gpu')\n",
    "model_xgb.fit(X_train, y_train)\n",
    "p_xgb_1 = model_xgb.predict(X_val)\n",
    "\n",
    "print(accuracy_score(y_val, p_xgb_1))\n",
    "print(confusion_matrix(y_val, p_xgb_1))\n",
    "print(classification_report(y_val, p_xgb_1))"
   ]
  },
  {
   "cell_type": "code",
   "execution_count": 458,
   "id": "5c163f92-ef33-4821-9e71-9574c529a46b",
   "metadata": {},
   "outputs": [
    {
     "data": {
      "text/html": [
       "<div>\n",
       "<style scoped>\n",
       "    .dataframe tbody tr th:only-of-type {\n",
       "        vertical-align: middle;\n",
       "    }\n",
       "\n",
       "    .dataframe tbody tr th {\n",
       "        vertical-align: top;\n",
       "    }\n",
       "\n",
       "    .dataframe thead th {\n",
       "        text-align: right;\n",
       "    }\n",
       "</style>\n",
       "<table border=\"1\" class=\"dataframe\">\n",
       "  <thead>\n",
       "    <tr style=\"text-align: right;\">\n",
       "      <th></th>\n",
       "      <th>feature_name</th>\n",
       "      <th>feature_importance</th>\n",
       "    </tr>\n",
       "  </thead>\n",
       "  <tbody>\n",
       "    <tr>\n",
       "      <th>0</th>\n",
       "      <td>B_x</td>\n",
       "      <td>0.518487</td>\n",
       "    </tr>\n",
       "    <tr>\n",
       "      <th>1</th>\n",
       "      <td>A_z</td>\n",
       "      <td>0.179429</td>\n",
       "    </tr>\n",
       "    <tr>\n",
       "      <th>2</th>\n",
       "      <td>B_z</td>\n",
       "      <td>0.120351</td>\n",
       "    </tr>\n",
       "    <tr>\n",
       "      <th>3</th>\n",
       "      <td>A_y</td>\n",
       "      <td>0.080393</td>\n",
       "    </tr>\n",
       "    <tr>\n",
       "      <th>4</th>\n",
       "      <td>B_y</td>\n",
       "      <td>0.051063</td>\n",
       "    </tr>\n",
       "    <tr>\n",
       "      <th>5</th>\n",
       "      <td>A_x</td>\n",
       "      <td>0.050277</td>\n",
       "    </tr>\n",
       "  </tbody>\n",
       "</table>\n",
       "</div>"
      ],
      "text/plain": [
       "  feature_name  feature_importance\n",
       "0          B_x            0.518487\n",
       "1          A_z            0.179429\n",
       "2          B_z            0.120351\n",
       "3          A_y            0.080393\n",
       "4          B_y            0.051063\n",
       "5          A_x            0.050277"
      ]
     },
     "execution_count": 458,
     "metadata": {},
     "output_type": "execute_result"
    }
   ],
   "source": [
    "xgb = plot_feature_importance(model_xgb.feature_importances_, list(X_train), True)\n",
    "xgb.head(6)"
   ]
  },
  {
   "cell_type": "code",
   "execution_count": 459,
   "id": "ee199436-6c37-47e2-b0e6-fd6a716239c1",
   "metadata": {},
   "outputs": [
    {
     "data": {
      "text/plain": [
       "['model1.pkl']"
      ]
     },
     "execution_count": 459,
     "metadata": {},
     "output_type": "execute_result"
    }
   ],
   "source": [
    "joblib.dump(model_xgb, 'model1.pkl')"
   ]
  },
  {
   "cell_type": "markdown",
   "id": "ad6bfe46-52b4-4c0d-aade-3b9bc8185779",
   "metadata": {},
   "source": [
    "#### 3) Light GBM"
   ]
  },
  {
   "cell_type": "code",
   "execution_count": 433,
   "id": "60674e09-6803-4b31-b6dc-493009285585",
   "metadata": {},
   "outputs": [
    {
     "name": "stdout",
     "output_type": "stream",
     "text": [
      "0.9872\n",
      "[[2672   86]\n",
      " [  42 7200]]\n",
      "              precision    recall  f1-score   support\n",
      "\n",
      "           0       0.98      0.97      0.98      2758\n",
      "           1       0.99      0.99      0.99      7242\n",
      "\n",
      "    accuracy                           0.99     10000\n",
      "   macro avg       0.99      0.98      0.98     10000\n",
      "weighted avg       0.99      0.99      0.99     10000\n",
      "\n"
     ]
    }
   ],
   "source": [
    "model_lgb = LGBMClassifier(random_state = 42, verbose = -1, device = 'gpu')\n",
    "model_lgb.fit(X_train, y_train)\n",
    "p_lgb_1 = model_lgb.predict(X_val)\n",
    "\n",
    "print(accuracy_score(y_val, p_lgb_1))\n",
    "print(confusion_matrix(y_val, p_lgb_1))\n",
    "print(classification_report(y_val, p_lgb_1))"
   ]
  },
  {
   "cell_type": "code",
   "execution_count": 434,
   "id": "2d596498-7194-4e44-ad8e-2261c59dc00b",
   "metadata": {},
   "outputs": [
    {
     "data": {
      "text/html": [
       "<div>\n",
       "<style scoped>\n",
       "    .dataframe tbody tr th:only-of-type {\n",
       "        vertical-align: middle;\n",
       "    }\n",
       "\n",
       "    .dataframe tbody tr th {\n",
       "        vertical-align: top;\n",
       "    }\n",
       "\n",
       "    .dataframe thead th {\n",
       "        text-align: right;\n",
       "    }\n",
       "</style>\n",
       "<table border=\"1\" class=\"dataframe\">\n",
       "  <thead>\n",
       "    <tr style=\"text-align: right;\">\n",
       "      <th></th>\n",
       "      <th>feature_name</th>\n",
       "      <th>feature_importance</th>\n",
       "    </tr>\n",
       "  </thead>\n",
       "  <tbody>\n",
       "    <tr>\n",
       "      <th>0</th>\n",
       "      <td>B_z</td>\n",
       "      <td>606</td>\n",
       "    </tr>\n",
       "    <tr>\n",
       "      <th>1</th>\n",
       "      <td>A_z</td>\n",
       "      <td>588</td>\n",
       "    </tr>\n",
       "    <tr>\n",
       "      <th>2</th>\n",
       "      <td>B_x</td>\n",
       "      <td>536</td>\n",
       "    </tr>\n",
       "    <tr>\n",
       "      <th>3</th>\n",
       "      <td>A_y</td>\n",
       "      <td>495</td>\n",
       "    </tr>\n",
       "    <tr>\n",
       "      <th>4</th>\n",
       "      <td>A_x</td>\n",
       "      <td>395</td>\n",
       "    </tr>\n",
       "    <tr>\n",
       "      <th>5</th>\n",
       "      <td>B_y</td>\n",
       "      <td>380</td>\n",
       "    </tr>\n",
       "  </tbody>\n",
       "</table>\n",
       "</div>"
      ],
      "text/plain": [
       "  feature_name  feature_importance\n",
       "0          B_z                 606\n",
       "1          A_z                 588\n",
       "2          B_x                 536\n",
       "3          A_y                 495\n",
       "4          A_x                 395\n",
       "5          B_y                 380"
      ]
     },
     "execution_count": 434,
     "metadata": {},
     "output_type": "execute_result"
    }
   ],
   "source": [
    "lgb = plot_feature_importance(model_lgb.feature_importances_, list(X_train), True)\n",
    "lgb.head(6)"
   ]
  },
  {
   "cell_type": "markdown",
   "id": "d95eb5e9-63ff-4ed0-82ad-3c2a63938fc2",
   "metadata": {},
   "source": [
    "#### 4) CatBoost"
   ]
  },
  {
   "cell_type": "code",
   "execution_count": 435,
   "id": "d822787b-2030-4fd4-aced-738d819c95f8",
   "metadata": {
    "scrolled": true
   },
   "outputs": [
    {
     "name": "stdout",
     "output_type": "stream",
     "text": [
      "0.9876\n",
      "[[2670   88]\n",
      " [  36 7206]]\n",
      "              precision    recall  f1-score   support\n",
      "\n",
      "           0       0.99      0.97      0.98      2758\n",
      "           1       0.99      1.00      0.99      7242\n",
      "\n",
      "    accuracy                           0.99     10000\n",
      "   macro avg       0.99      0.98      0.98     10000\n",
      "weighted avg       0.99      0.99      0.99     10000\n",
      "\n"
     ]
    }
   ],
   "source": [
    "model_cat = CatBoostClassifier(random_state = 42, task_type = 'GPU', verbose = 0)\n",
    "model_cat.fit(X_train, y_train)\n",
    "p_cat_1 = model_cat.predict(X_val)\n",
    "\n",
    "print(accuracy_score(y_val, p_cat_1))\n",
    "print(confusion_matrix(y_val, p_cat_1))\n",
    "print(classification_report(y_val, p_cat_1))"
   ]
  },
  {
   "cell_type": "code",
   "execution_count": 436,
   "id": "4ba9629a-1507-415c-85c2-14a03c189a12",
   "metadata": {},
   "outputs": [
    {
     "data": {
      "text/html": [
       "<div>\n",
       "<style scoped>\n",
       "    .dataframe tbody tr th:only-of-type {\n",
       "        vertical-align: middle;\n",
       "    }\n",
       "\n",
       "    .dataframe tbody tr th {\n",
       "        vertical-align: top;\n",
       "    }\n",
       "\n",
       "    .dataframe thead th {\n",
       "        text-align: right;\n",
       "    }\n",
       "</style>\n",
       "<table border=\"1\" class=\"dataframe\">\n",
       "  <thead>\n",
       "    <tr style=\"text-align: right;\">\n",
       "      <th></th>\n",
       "      <th>feature_name</th>\n",
       "      <th>feature_importance</th>\n",
       "    </tr>\n",
       "  </thead>\n",
       "  <tbody>\n",
       "    <tr>\n",
       "      <th>0</th>\n",
       "      <td>B_x</td>\n",
       "      <td>23.932424</td>\n",
       "    </tr>\n",
       "    <tr>\n",
       "      <th>1</th>\n",
       "      <td>A_z</td>\n",
       "      <td>22.571602</td>\n",
       "    </tr>\n",
       "    <tr>\n",
       "      <th>2</th>\n",
       "      <td>B_z</td>\n",
       "      <td>19.190188</td>\n",
       "    </tr>\n",
       "    <tr>\n",
       "      <th>3</th>\n",
       "      <td>A_y</td>\n",
       "      <td>14.507457</td>\n",
       "    </tr>\n",
       "    <tr>\n",
       "      <th>4</th>\n",
       "      <td>A_x</td>\n",
       "      <td>9.998508</td>\n",
       "    </tr>\n",
       "    <tr>\n",
       "      <th>5</th>\n",
       "      <td>B_y</td>\n",
       "      <td>9.799822</td>\n",
       "    </tr>\n",
       "  </tbody>\n",
       "</table>\n",
       "</div>"
      ],
      "text/plain": [
       "  feature_name  feature_importance\n",
       "0          B_x           23.932424\n",
       "1          A_z           22.571602\n",
       "2          B_z           19.190188\n",
       "3          A_y           14.507457\n",
       "4          A_x            9.998508\n",
       "5          B_y            9.799822"
      ]
     },
     "execution_count": 436,
     "metadata": {},
     "output_type": "execute_result"
    }
   ],
   "source": [
    "cat = plot_feature_importance(model_cat.feature_importances_, list(X_train), True)\n",
    "cat.head(6)"
   ]
  },
  {
   "cell_type": "markdown",
   "id": "57f5646e-e0b8-4190-a922-0c2d6db11d91",
   "metadata": {
    "collapsed": true,
    "jupyter": {
     "outputs_hidden": true
    }
   },
   "source": [
    "### 2) 정적 세부 분류"
   ]
  },
  {
   "cell_type": "code",
   "execution_count": 437,
   "id": "e130ccbf-32c4-4acf-992c-d9927bc85288",
   "metadata": {},
   "outputs": [
    {
     "data": {
      "text/html": [
       "<div>\n",
       "<style scoped>\n",
       "    .dataframe tbody tr th:only-of-type {\n",
       "        vertical-align: middle;\n",
       "    }\n",
       "\n",
       "    .dataframe tbody tr th {\n",
       "        vertical-align: top;\n",
       "    }\n",
       "\n",
       "    .dataframe thead th {\n",
       "        text-align: right;\n",
       "    }\n",
       "</style>\n",
       "<table border=\"1\" class=\"dataframe\">\n",
       "  <thead>\n",
       "    <tr style=\"text-align: right;\">\n",
       "      <th></th>\n",
       "      <th>A_x</th>\n",
       "      <th>A_y</th>\n",
       "      <th>A_z</th>\n",
       "      <th>B_x</th>\n",
       "      <th>B_y</th>\n",
       "      <th>B_z</th>\n",
       "      <th>label</th>\n",
       "      <th>is_dynamic</th>\n",
       "    </tr>\n",
       "  </thead>\n",
       "  <tbody>\n",
       "    <tr>\n",
       "      <th>0</th>\n",
       "      <td>-0.259130</td>\n",
       "      <td>-0.834869</td>\n",
       "      <td>-0.485499</td>\n",
       "      <td>0.196409</td>\n",
       "      <td>0.023954</td>\n",
       "      <td>0.384934</td>\n",
       "      <td>8</td>\n",
       "      <td>0</td>\n",
       "    </tr>\n",
       "    <tr>\n",
       "      <th>2</th>\n",
       "      <td>-0.257837</td>\n",
       "      <td>-0.881947</td>\n",
       "      <td>-0.391895</td>\n",
       "      <td>0.196027</td>\n",
       "      <td>0.894537</td>\n",
       "      <td>0.411221</td>\n",
       "      <td>8</td>\n",
       "      <td>0</td>\n",
       "    </tr>\n",
       "    <tr>\n",
       "      <th>4</th>\n",
       "      <td>-0.988320</td>\n",
       "      <td>-0.190390</td>\n",
       "      <td>0.157909</td>\n",
       "      <td>-0.954669</td>\n",
       "      <td>-0.024810</td>\n",
       "      <td>-0.388420</td>\n",
       "      <td>6</td>\n",
       "      <td>0</td>\n",
       "    </tr>\n",
       "    <tr>\n",
       "      <th>7</th>\n",
       "      <td>-0.958268</td>\n",
       "      <td>0.984155</td>\n",
       "      <td>-0.231787</td>\n",
       "      <td>-0.114444</td>\n",
       "      <td>-0.973016</td>\n",
       "      <td>0.227619</td>\n",
       "      <td>8</td>\n",
       "      <td>0</td>\n",
       "    </tr>\n",
       "    <tr>\n",
       "      <th>8</th>\n",
       "      <td>-0.257591</td>\n",
       "      <td>-0.851943</td>\n",
       "      <td>-0.438682</td>\n",
       "      <td>0.195110</td>\n",
       "      <td>0.901728</td>\n",
       "      <td>0.379608</td>\n",
       "      <td>8</td>\n",
       "      <td>0</td>\n",
       "    </tr>\n",
       "  </tbody>\n",
       "</table>\n",
       "</div>"
      ],
      "text/plain": [
       "        A_x       A_y       A_z       B_x       B_y       B_z  label  \\\n",
       "0 -0.259130 -0.834869 -0.485499  0.196409  0.023954  0.384934      8   \n",
       "2 -0.257837 -0.881947 -0.391895  0.196027  0.894537  0.411221      8   \n",
       "4 -0.988320 -0.190390  0.157909 -0.954669 -0.024810 -0.388420      6   \n",
       "7 -0.958268  0.984155 -0.231787 -0.114444 -0.973016  0.227619      8   \n",
       "8 -0.257591 -0.851943 -0.438682  0.195110  0.901728  0.379608      8   \n",
       "\n",
       "   is_dynamic  \n",
       "0           0  \n",
       "2           0  \n",
       "4           0  \n",
       "7           0  \n",
       "8           0  "
      ]
     },
     "execution_count": 437,
     "metadata": {},
     "output_type": "execute_result"
    }
   ],
   "source": [
    "data_nd = data.loc[data['is_dynamic'] == 0]\n",
    "data_nd.head()"
   ]
  },
  {
   "cell_type": "code",
   "execution_count": 438,
   "id": "66abdb3f-7a20-4024-9867-97a00e23ce0f",
   "metadata": {},
   "outputs": [],
   "source": [
    "target = 'label'\n",
    "X2 = data_nd.drop([target, 'is_dynamic'], axis = 1)\n",
    "y2 = data_nd.loc[:, target]\n",
    "y2_2 = y2.map({6 : 0, 7 : 1, 8 : 2})\n",
    "\n",
    "X_train2, X_val2, y_train2, y_val2 = train_test_split(X2, y2, test_size = 0.1, random_state = 42)\n",
    "X_train2_2, X_val2_2, y_train2_2, y_val2_2 = train_test_split(X2, y2_2, test_size = 0.1, random_state = 42) # XGB 위해서"
   ]
  },
  {
   "cell_type": "markdown",
   "id": "026eefb0-0c9a-45ab-b222-74b150645ba6",
   "metadata": {},
   "source": [
    "#### 1) Random Forest"
   ]
  },
  {
   "cell_type": "code",
   "execution_count": 439,
   "id": "e6c07a46-dfde-4328-98a1-6821b1d1a3e8",
   "metadata": {},
   "outputs": [
    {
     "name": "stdout",
     "output_type": "stream",
     "text": [
      "0.9989078995267565\n",
      "[[ 522    0    1]\n",
      " [   1 1053    0]\n",
      " [   1    0 1169]]\n",
      "              precision    recall  f1-score   support\n",
      "\n",
      "           6       1.00      1.00      1.00       523\n",
      "           7       1.00      1.00      1.00      1054\n",
      "           8       1.00      1.00      1.00      1170\n",
      "\n",
      "    accuracy                           1.00      2747\n",
      "   macro avg       1.00      1.00      1.00      2747\n",
      "weighted avg       1.00      1.00      1.00      2747\n",
      "\n"
     ]
    }
   ],
   "source": [
    "model_rf = RandomForestClassifier(random_state = 42)\n",
    "model_rf.fit(X_train2, y_train2)\n",
    "p_rf_2 = model_rf.predict(X_val2)\n",
    "\n",
    "print(accuracy_score(y_val2, p_rf_2))\n",
    "print(confusion_matrix(y_val2, p_rf_2))\n",
    "print(classification_report(y_val2, p_rf_2))"
   ]
  },
  {
   "cell_type": "code",
   "execution_count": 440,
   "id": "0c1a9e20-c5d4-496b-af20-2089e296603d",
   "metadata": {},
   "outputs": [
    {
     "data": {
      "text/html": [
       "<div>\n",
       "<style scoped>\n",
       "    .dataframe tbody tr th:only-of-type {\n",
       "        vertical-align: middle;\n",
       "    }\n",
       "\n",
       "    .dataframe tbody tr th {\n",
       "        vertical-align: top;\n",
       "    }\n",
       "\n",
       "    .dataframe thead th {\n",
       "        text-align: right;\n",
       "    }\n",
       "</style>\n",
       "<table border=\"1\" class=\"dataframe\">\n",
       "  <thead>\n",
       "    <tr style=\"text-align: right;\">\n",
       "      <th></th>\n",
       "      <th>feature_name</th>\n",
       "      <th>feature_importance</th>\n",
       "    </tr>\n",
       "  </thead>\n",
       "  <tbody>\n",
       "    <tr>\n",
       "      <th>0</th>\n",
       "      <td>B_z</td>\n",
       "      <td>0.249724</td>\n",
       "    </tr>\n",
       "    <tr>\n",
       "      <th>1</th>\n",
       "      <td>A_x</td>\n",
       "      <td>0.217431</td>\n",
       "    </tr>\n",
       "    <tr>\n",
       "      <th>2</th>\n",
       "      <td>B_x</td>\n",
       "      <td>0.160979</td>\n",
       "    </tr>\n",
       "    <tr>\n",
       "      <th>3</th>\n",
       "      <td>A_z</td>\n",
       "      <td>0.128730</td>\n",
       "    </tr>\n",
       "    <tr>\n",
       "      <th>4</th>\n",
       "      <td>A_y</td>\n",
       "      <td>0.124674</td>\n",
       "    </tr>\n",
       "    <tr>\n",
       "      <th>5</th>\n",
       "      <td>B_y</td>\n",
       "      <td>0.118462</td>\n",
       "    </tr>\n",
       "  </tbody>\n",
       "</table>\n",
       "</div>"
      ],
      "text/plain": [
       "  feature_name  feature_importance\n",
       "0          B_z            0.249724\n",
       "1          A_x            0.217431\n",
       "2          B_x            0.160979\n",
       "3          A_z            0.128730\n",
       "4          A_y            0.124674\n",
       "5          B_y            0.118462"
      ]
     },
     "execution_count": 440,
     "metadata": {},
     "output_type": "execute_result"
    }
   ],
   "source": [
    "rf = plot_feature_importance(model_rf.feature_importances_, list(X_train), True)\n",
    "rf.head(6)"
   ]
  },
  {
   "cell_type": "markdown",
   "id": "01cae95a-6abb-4bff-891a-504dd98f0afc",
   "metadata": {},
   "source": [
    "#### 2) XGBoost"
   ]
  },
  {
   "cell_type": "code",
   "execution_count": 441,
   "id": "8a99fb53-9f11-416a-8474-16b2903c686c",
   "metadata": {},
   "outputs": [
    {
     "name": "stdout",
     "output_type": "stream",
     "text": [
      "0.9992719330178377\n",
      "[[ 521    1    1]\n",
      " [   0 1054    0]\n",
      " [   0    0 1170]]\n",
      "              precision    recall  f1-score   support\n",
      "\n",
      "           0       1.00      1.00      1.00       523\n",
      "           1       1.00      1.00      1.00      1054\n",
      "           2       1.00      1.00      1.00      1170\n",
      "\n",
      "    accuracy                           1.00      2747\n",
      "   macro avg       1.00      1.00      1.00      2747\n",
      "weighted avg       1.00      1.00      1.00      2747\n",
      "\n"
     ]
    }
   ],
   "source": [
    "model_xgb = XGBClassifier(random_state = 42, device = 'gpu')\n",
    "model_xgb.fit(X_train2_2, y_train2_2)\n",
    "p_xgb_2 = model_xgb.predict(X_val2_2)\n",
    "\n",
    "print(accuracy_score(y_val2_2, p_xgb_2))\n",
    "print(confusion_matrix(y_val2_2, p_xgb_2))\n",
    "print(classification_report(y_val2_2, p_xgb_2))"
   ]
  },
  {
   "cell_type": "code",
   "execution_count": 442,
   "id": "ff5685e6-db40-4613-a4cd-cad5bb567a25",
   "metadata": {},
   "outputs": [
    {
     "data": {
      "text/html": [
       "<div>\n",
       "<style scoped>\n",
       "    .dataframe tbody tr th:only-of-type {\n",
       "        vertical-align: middle;\n",
       "    }\n",
       "\n",
       "    .dataframe tbody tr th {\n",
       "        vertical-align: top;\n",
       "    }\n",
       "\n",
       "    .dataframe thead th {\n",
       "        text-align: right;\n",
       "    }\n",
       "</style>\n",
       "<table border=\"1\" class=\"dataframe\">\n",
       "  <thead>\n",
       "    <tr style=\"text-align: right;\">\n",
       "      <th></th>\n",
       "      <th>feature_name</th>\n",
       "      <th>feature_importance</th>\n",
       "    </tr>\n",
       "  </thead>\n",
       "  <tbody>\n",
       "    <tr>\n",
       "      <th>0</th>\n",
       "      <td>A_x</td>\n",
       "      <td>0.377674</td>\n",
       "    </tr>\n",
       "    <tr>\n",
       "      <th>1</th>\n",
       "      <td>B_z</td>\n",
       "      <td>0.278160</td>\n",
       "    </tr>\n",
       "    <tr>\n",
       "      <th>2</th>\n",
       "      <td>A_z</td>\n",
       "      <td>0.219102</td>\n",
       "    </tr>\n",
       "    <tr>\n",
       "      <th>3</th>\n",
       "      <td>B_y</td>\n",
       "      <td>0.056233</td>\n",
       "    </tr>\n",
       "    <tr>\n",
       "      <th>4</th>\n",
       "      <td>A_y</td>\n",
       "      <td>0.043614</td>\n",
       "    </tr>\n",
       "    <tr>\n",
       "      <th>5</th>\n",
       "      <td>B_x</td>\n",
       "      <td>0.025218</td>\n",
       "    </tr>\n",
       "  </tbody>\n",
       "</table>\n",
       "</div>"
      ],
      "text/plain": [
       "  feature_name  feature_importance\n",
       "0          A_x            0.377674\n",
       "1          B_z            0.278160\n",
       "2          A_z            0.219102\n",
       "3          B_y            0.056233\n",
       "4          A_y            0.043614\n",
       "5          B_x            0.025218"
      ]
     },
     "execution_count": 442,
     "metadata": {},
     "output_type": "execute_result"
    }
   ],
   "source": [
    "xgb = plot_feature_importance(model_xgb.feature_importances_, list(X_train), True)\n",
    "xgb.head(6)"
   ]
  },
  {
   "cell_type": "markdown",
   "id": "0cd95b2f-e8aa-44cd-9075-b76c3245f67d",
   "metadata": {},
   "source": [
    "#### 3) Light GBM"
   ]
  },
  {
   "cell_type": "code",
   "execution_count": 460,
   "id": "fa734359-847a-4279-b678-71b723f52dce",
   "metadata": {},
   "outputs": [
    {
     "name": "stdout",
     "output_type": "stream",
     "text": [
      "0.9996359665089188\n",
      "[[ 522    0    1]\n",
      " [   0 1054    0]\n",
      " [   0    0 1170]]\n",
      "              precision    recall  f1-score   support\n",
      "\n",
      "           6       1.00      1.00      1.00       523\n",
      "           7       1.00      1.00      1.00      1054\n",
      "           8       1.00      1.00      1.00      1170\n",
      "\n",
      "    accuracy                           1.00      2747\n",
      "   macro avg       1.00      1.00      1.00      2747\n",
      "weighted avg       1.00      1.00      1.00      2747\n",
      "\n"
     ]
    }
   ],
   "source": [
    "model_lgb = LGBMClassifier(random_state = 42, verbose = -1, device = 'gpu')\n",
    "model_lgb.fit(X_train2, y_train2)\n",
    "p_lgb_2 = model_lgb.predict(X_val2)\n",
    "\n",
    "print(accuracy_score(y_val2, p_lgb_2))\n",
    "print(confusion_matrix(y_val2, p_lgb_2))\n",
    "print(classification_report(y_val2, p_lgb_2))"
   ]
  },
  {
   "cell_type": "code",
   "execution_count": 461,
   "id": "8896a97f-c696-4b96-b9ac-0089794b4871",
   "metadata": {},
   "outputs": [
    {
     "data": {
      "text/html": [
       "<div>\n",
       "<style scoped>\n",
       "    .dataframe tbody tr th:only-of-type {\n",
       "        vertical-align: middle;\n",
       "    }\n",
       "\n",
       "    .dataframe tbody tr th {\n",
       "        vertical-align: top;\n",
       "    }\n",
       "\n",
       "    .dataframe thead th {\n",
       "        text-align: right;\n",
       "    }\n",
       "</style>\n",
       "<table border=\"1\" class=\"dataframe\">\n",
       "  <thead>\n",
       "    <tr style=\"text-align: right;\">\n",
       "      <th></th>\n",
       "      <th>feature_name</th>\n",
       "      <th>feature_importance</th>\n",
       "    </tr>\n",
       "  </thead>\n",
       "  <tbody>\n",
       "    <tr>\n",
       "      <th>0</th>\n",
       "      <td>B_z</td>\n",
       "      <td>1674</td>\n",
       "    </tr>\n",
       "    <tr>\n",
       "      <th>1</th>\n",
       "      <td>A_z</td>\n",
       "      <td>1621</td>\n",
       "    </tr>\n",
       "    <tr>\n",
       "      <th>2</th>\n",
       "      <td>B_y</td>\n",
       "      <td>1611</td>\n",
       "    </tr>\n",
       "    <tr>\n",
       "      <th>3</th>\n",
       "      <td>A_y</td>\n",
       "      <td>1486</td>\n",
       "    </tr>\n",
       "    <tr>\n",
       "      <th>4</th>\n",
       "      <td>B_x</td>\n",
       "      <td>1416</td>\n",
       "    </tr>\n",
       "    <tr>\n",
       "      <th>5</th>\n",
       "      <td>A_x</td>\n",
       "      <td>1192</td>\n",
       "    </tr>\n",
       "  </tbody>\n",
       "</table>\n",
       "</div>"
      ],
      "text/plain": [
       "  feature_name  feature_importance\n",
       "0          B_z                1674\n",
       "1          A_z                1621\n",
       "2          B_y                1611\n",
       "3          A_y                1486\n",
       "4          B_x                1416\n",
       "5          A_x                1192"
      ]
     },
     "execution_count": 461,
     "metadata": {},
     "output_type": "execute_result"
    }
   ],
   "source": [
    "lgb = plot_feature_importance(model_lgb.feature_importances_, list(X_train), True)\n",
    "lgb.head(6)"
   ]
  },
  {
   "cell_type": "code",
   "execution_count": 462,
   "id": "8a45ceef-51bd-484f-b058-44884bfd0c10",
   "metadata": {},
   "outputs": [
    {
     "data": {
      "text/plain": [
       "['model2_1.pkl']"
      ]
     },
     "execution_count": 462,
     "metadata": {},
     "output_type": "execute_result"
    }
   ],
   "source": [
    "joblib.dump(model_lgb, 'model2_1.pkl')"
   ]
  },
  {
   "cell_type": "markdown",
   "id": "ce19e9a2-192b-4c0b-af15-8fbec8ad402a",
   "metadata": {},
   "source": [
    "#### 4) CatBoost"
   ]
  },
  {
   "cell_type": "code",
   "execution_count": 445,
   "id": "2599acf1-88b8-4571-a24c-2f3f92001e78",
   "metadata": {
    "scrolled": true
   },
   "outputs": [
    {
     "name": "stdout",
     "output_type": "stream",
     "text": [
      "0.9992719330178377\n",
      "[[ 521    0    2]\n",
      " [   0 1054    0]\n",
      " [   0    0 1170]]\n",
      "              precision    recall  f1-score   support\n",
      "\n",
      "           6       1.00      1.00      1.00       523\n",
      "           7       1.00      1.00      1.00      1054\n",
      "           8       1.00      1.00      1.00      1170\n",
      "\n",
      "    accuracy                           1.00      2747\n",
      "   macro avg       1.00      1.00      1.00      2747\n",
      "weighted avg       1.00      1.00      1.00      2747\n",
      "\n"
     ]
    }
   ],
   "source": [
    "model_cat = CatBoostClassifier(random_state = 42, task_type = 'GPU', verbose = 0)\n",
    "model_cat.fit(X_train2, y_train2)\n",
    "p_cat_2 = model_cat.predict(X_val2)\n",
    "\n",
    "print(accuracy_score(y_val2, p_cat_2))\n",
    "print(confusion_matrix(y_val2, p_cat_2))\n",
    "print(classification_report(y_val2, p_cat_2))"
   ]
  },
  {
   "cell_type": "code",
   "execution_count": 446,
   "id": "d9dedba8-ac51-45b8-8d23-9d8237be67fb",
   "metadata": {},
   "outputs": [
    {
     "data": {
      "text/html": [
       "<div>\n",
       "<style scoped>\n",
       "    .dataframe tbody tr th:only-of-type {\n",
       "        vertical-align: middle;\n",
       "    }\n",
       "\n",
       "    .dataframe tbody tr th {\n",
       "        vertical-align: top;\n",
       "    }\n",
       "\n",
       "    .dataframe thead th {\n",
       "        text-align: right;\n",
       "    }\n",
       "</style>\n",
       "<table border=\"1\" class=\"dataframe\">\n",
       "  <thead>\n",
       "    <tr style=\"text-align: right;\">\n",
       "      <th></th>\n",
       "      <th>feature_name</th>\n",
       "      <th>feature_importance</th>\n",
       "    </tr>\n",
       "  </thead>\n",
       "  <tbody>\n",
       "    <tr>\n",
       "      <th>0</th>\n",
       "      <td>A_x</td>\n",
       "      <td>23.261268</td>\n",
       "    </tr>\n",
       "    <tr>\n",
       "      <th>1</th>\n",
       "      <td>B_y</td>\n",
       "      <td>18.230001</td>\n",
       "    </tr>\n",
       "    <tr>\n",
       "      <th>2</th>\n",
       "      <td>A_y</td>\n",
       "      <td>16.707951</td>\n",
       "    </tr>\n",
       "    <tr>\n",
       "      <th>3</th>\n",
       "      <td>B_z</td>\n",
       "      <td>16.491474</td>\n",
       "    </tr>\n",
       "    <tr>\n",
       "      <th>4</th>\n",
       "      <td>B_x</td>\n",
       "      <td>15.370448</td>\n",
       "    </tr>\n",
       "    <tr>\n",
       "      <th>5</th>\n",
       "      <td>A_z</td>\n",
       "      <td>9.938859</td>\n",
       "    </tr>\n",
       "  </tbody>\n",
       "</table>\n",
       "</div>"
      ],
      "text/plain": [
       "  feature_name  feature_importance\n",
       "0          A_x           23.261268\n",
       "1          B_y           18.230001\n",
       "2          A_y           16.707951\n",
       "3          B_z           16.491474\n",
       "4          B_x           15.370448\n",
       "5          A_z            9.938859"
      ]
     },
     "execution_count": 446,
     "metadata": {},
     "output_type": "execute_result"
    }
   ],
   "source": [
    "cat = plot_feature_importance(model_cat.feature_importances_, list(X_train), True)\n",
    "cat.head(6)"
   ]
  },
  {
   "cell_type": "markdown",
   "id": "e7985d9e-5835-4982-8f60-b91880133efa",
   "metadata": {
    "collapsed": true,
    "jupyter": {
     "outputs_hidden": true
    }
   },
   "source": [
    "### 3) 동적 세부 분류"
   ]
  },
  {
   "cell_type": "code",
   "execution_count": 447,
   "id": "7ba18181-bc4a-480c-8797-16cafa438423",
   "metadata": {},
   "outputs": [
    {
     "data": {
      "text/html": [
       "<div>\n",
       "<style scoped>\n",
       "    .dataframe tbody tr th:only-of-type {\n",
       "        vertical-align: middle;\n",
       "    }\n",
       "\n",
       "    .dataframe tbody tr th {\n",
       "        vertical-align: top;\n",
       "    }\n",
       "\n",
       "    .dataframe thead th {\n",
       "        text-align: right;\n",
       "    }\n",
       "</style>\n",
       "<table border=\"1\" class=\"dataframe\">\n",
       "  <thead>\n",
       "    <tr style=\"text-align: right;\">\n",
       "      <th></th>\n",
       "      <th>A_x</th>\n",
       "      <th>A_y</th>\n",
       "      <th>A_z</th>\n",
       "      <th>B_x</th>\n",
       "      <th>B_y</th>\n",
       "      <th>B_z</th>\n",
       "      <th>label</th>\n",
       "      <th>is_dynamic</th>\n",
       "    </tr>\n",
       "  </thead>\n",
       "  <tbody>\n",
       "    <tr>\n",
       "      <th>1</th>\n",
       "      <td>0.370490</td>\n",
       "      <td>0.175042</td>\n",
       "      <td>0.122625</td>\n",
       "      <td>-0.338242</td>\n",
       "      <td>0.358245</td>\n",
       "      <td>0.126491</td>\n",
       "      <td>2</td>\n",
       "      <td>1</td>\n",
       "    </tr>\n",
       "    <tr>\n",
       "      <th>3</th>\n",
       "      <td>-0.937753</td>\n",
       "      <td>-0.055961</td>\n",
       "      <td>0.362041</td>\n",
       "      <td>-0.929881</td>\n",
       "      <td>0.087673</td>\n",
       "      <td>0.134609</td>\n",
       "      <td>11</td>\n",
       "      <td>1</td>\n",
       "    </tr>\n",
       "    <tr>\n",
       "      <th>5</th>\n",
       "      <td>-0.654583</td>\n",
       "      <td>0.068285</td>\n",
       "      <td>-0.029109</td>\n",
       "      <td>-0.176341</td>\n",
       "      <td>-0.256252</td>\n",
       "      <td>-0.510816</td>\n",
       "      <td>2</td>\n",
       "      <td>1</td>\n",
       "    </tr>\n",
       "    <tr>\n",
       "      <th>6</th>\n",
       "      <td>-1.009269</td>\n",
       "      <td>0.003985</td>\n",
       "      <td>-0.263406</td>\n",
       "      <td>-0.918144</td>\n",
       "      <td>-0.325362</td>\n",
       "      <td>-0.131165</td>\n",
       "      <td>3</td>\n",
       "      <td>1</td>\n",
       "    </tr>\n",
       "    <tr>\n",
       "      <th>9</th>\n",
       "      <td>-0.984360</td>\n",
       "      <td>-0.182248</td>\n",
       "      <td>0.630760</td>\n",
       "      <td>-0.918144</td>\n",
       "      <td>0.044664</td>\n",
       "      <td>0.484233</td>\n",
       "      <td>10</td>\n",
       "      <td>1</td>\n",
       "    </tr>\n",
       "  </tbody>\n",
       "</table>\n",
       "</div>"
      ],
      "text/plain": [
       "        A_x       A_y       A_z       B_x       B_y       B_z  label  \\\n",
       "1  0.370490  0.175042  0.122625 -0.338242  0.358245  0.126491      2   \n",
       "3 -0.937753 -0.055961  0.362041 -0.929881  0.087673  0.134609     11   \n",
       "5 -0.654583  0.068285 -0.029109 -0.176341 -0.256252 -0.510816      2   \n",
       "6 -1.009269  0.003985 -0.263406 -0.918144 -0.325362 -0.131165      3   \n",
       "9 -0.984360 -0.182248  0.630760 -0.918144  0.044664  0.484233     10   \n",
       "\n",
       "   is_dynamic  \n",
       "1           1  \n",
       "3           1  \n",
       "5           1  \n",
       "6           1  \n",
       "9           1  "
      ]
     },
     "execution_count": 447,
     "metadata": {},
     "output_type": "execute_result"
    }
   ],
   "source": [
    "data_bd = data.loc[data['is_dynamic'] == 1]\n",
    "data_bd.head()"
   ]
  },
  {
   "cell_type": "code",
   "execution_count": 62,
   "id": "6e93ed4c-a5c5-482b-9fb3-24a71e8dd632",
   "metadata": {},
   "outputs": [
    {
     "data": {
      "text/html": [
       "<div>\n",
       "<style scoped>\n",
       "    .dataframe tbody tr th:only-of-type {\n",
       "        vertical-align: middle;\n",
       "    }\n",
       "\n",
       "    .dataframe tbody tr th {\n",
       "        vertical-align: top;\n",
       "    }\n",
       "\n",
       "    .dataframe thead th {\n",
       "        text-align: right;\n",
       "    }\n",
       "</style>\n",
       "<table border=\"1\" class=\"dataframe\">\n",
       "  <thead>\n",
       "    <tr style=\"text-align: right;\">\n",
       "      <th></th>\n",
       "      <th>A_x</th>\n",
       "      <th>A_y</th>\n",
       "      <th>A_z</th>\n",
       "      <th>B_x</th>\n",
       "      <th>B_y</th>\n",
       "      <th>B_z</th>\n",
       "      <th>label</th>\n",
       "      <th>is_dynamic</th>\n",
       "    </tr>\n",
       "  </thead>\n",
       "  <tbody>\n",
       "    <tr>\n",
       "      <th>0</th>\n",
       "      <td>-0.259130</td>\n",
       "      <td>-0.834869</td>\n",
       "      <td>-0.485499</td>\n",
       "      <td>0.196409</td>\n",
       "      <td>0.023954</td>\n",
       "      <td>0.384934</td>\n",
       "      <td>8</td>\n",
       "      <td>0</td>\n",
       "    </tr>\n",
       "    <tr>\n",
       "      <th>1</th>\n",
       "      <td>0.370490</td>\n",
       "      <td>0.175042</td>\n",
       "      <td>0.122625</td>\n",
       "      <td>-0.338242</td>\n",
       "      <td>0.358245</td>\n",
       "      <td>0.126491</td>\n",
       "      <td>2</td>\n",
       "      <td>1</td>\n",
       "    </tr>\n",
       "    <tr>\n",
       "      <th>2</th>\n",
       "      <td>-0.257837</td>\n",
       "      <td>-0.881947</td>\n",
       "      <td>-0.391895</td>\n",
       "      <td>0.196027</td>\n",
       "      <td>0.894537</td>\n",
       "      <td>0.411221</td>\n",
       "      <td>8</td>\n",
       "      <td>0</td>\n",
       "    </tr>\n",
       "    <tr>\n",
       "      <th>3</th>\n",
       "      <td>-0.937753</td>\n",
       "      <td>-0.055961</td>\n",
       "      <td>0.362041</td>\n",
       "      <td>-0.929881</td>\n",
       "      <td>0.087673</td>\n",
       "      <td>0.134609</td>\n",
       "      <td>11</td>\n",
       "      <td>3</td>\n",
       "    </tr>\n",
       "    <tr>\n",
       "      <th>4</th>\n",
       "      <td>-0.988320</td>\n",
       "      <td>-0.190390</td>\n",
       "      <td>0.157909</td>\n",
       "      <td>-0.954669</td>\n",
       "      <td>-0.024810</td>\n",
       "      <td>-0.388420</td>\n",
       "      <td>6</td>\n",
       "      <td>0</td>\n",
       "    </tr>\n",
       "  </tbody>\n",
       "</table>\n",
       "</div>"
      ],
      "text/plain": [
       "        A_x       A_y       A_z       B_x       B_y       B_z  label  \\\n",
       "0 -0.259130 -0.834869 -0.485499  0.196409  0.023954  0.384934      8   \n",
       "1  0.370490  0.175042  0.122625 -0.338242  0.358245  0.126491      2   \n",
       "2 -0.257837 -0.881947 -0.391895  0.196027  0.894537  0.411221      8   \n",
       "3 -0.937753 -0.055961  0.362041 -0.929881  0.087673  0.134609     11   \n",
       "4 -0.988320 -0.190390  0.157909 -0.954669 -0.024810 -0.388420      6   \n",
       "\n",
       "   is_dynamic  \n",
       "0           0  \n",
       "1           1  \n",
       "2           0  \n",
       "3           3  \n",
       "4           0  "
      ]
     },
     "execution_count": 62,
     "metadata": {},
     "output_type": "execute_result"
    }
   ],
   "source": [
    "data['is_dynamic'] = np.where(data['label'].isin([1, 2, 3]), 1, np.where(data['label'].isin([4, 5]), 2, np.where(data['label'].isin([9, 10, 11]), 3, 0)))\n",
    "data.head()"
   ]
  },
  {
   "cell_type": "code",
   "execution_count": 61,
   "id": "ad19d47b-c2c2-4642-8ce5-35be89dd6c98",
   "metadata": {},
   "outputs": [],
   "source": [
    "data.drop('dynamic', axis = 1,  inplace = True)"
   ]
  },
  {
   "cell_type": "code",
   "execution_count": 48,
   "id": "e9185505-2a72-4064-b4f8-79243db68689",
   "metadata": {},
   "outputs": [],
   "source": [
    "data_t1 = data.loc[data['is_dynamic'] == 1]\n",
    "data_t2 = data.loc[data['is_dynamic'] == 2]\n",
    "data_t3 = data.loc[data['is_dynamic'] == 3]"
   ]
  },
  {
   "cell_type": "code",
   "execution_count": 50,
   "id": "82a82f80-825a-4e82-b7d9-a4c8e32164da",
   "metadata": {},
   "outputs": [],
   "source": [
    "target = 'label'\n",
    "X3 = data_t0.drop([target, 'is_dynamic', 'dynamic'], axis = 1)\n",
    "y3 = data_t0.loc[:, target]\n",
    "\n",
    "X_train3, X_val3, y_train3, y_val3 = train_test_split(X3, y3, test_size = 0.1, random_state = 42)"
   ]
  },
  {
   "cell_type": "code",
   "execution_count": 51,
   "id": "2a265558-99cb-4101-85a3-ebb315ad61c0",
   "metadata": {},
   "outputs": [],
   "source": [
    "target = 'label'\n",
    "X4 = data_t1.drop([target, 'is_dynamic', 'dynamic'], axis = 1)\n",
    "y4 = data_t1.loc[:, target]\n",
    "\n",
    "X_train4, X_val4, y_train4, y_val4 = train_test_split(X4, y4, test_size = 0.1, random_state = 42)"
   ]
  },
  {
   "cell_type": "code",
   "execution_count": 52,
   "id": "06411c04-b266-424d-9498-ced54a4ce41f",
   "metadata": {},
   "outputs": [],
   "source": [
    "target = 'label'\n",
    "X5 = data_t2.drop([target, 'is_dynamic', 'dynamic'], axis = 1)\n",
    "y5 = data_t2.loc[:, target]\n",
    "\n",
    "X_train5, X_val5, y_train5, y_val5 = train_test_split(X5, y5, test_size = 0.1, random_state = 42)"
   ]
  },
  {
   "cell_type": "markdown",
   "id": "7e528d03-c011-4951-b4b7-0d424614586b",
   "metadata": {},
   "source": [
    "#### 1) Random Forest"
   ]
  },
  {
   "cell_type": "code",
   "execution_count": 53,
   "id": "8fd40a25-a57d-470c-bcbb-0714bb0ec563",
   "metadata": {},
   "outputs": [
    {
     "name": "stdout",
     "output_type": "stream",
     "text": [
      "0.8951158422041328\n",
      "[[1005   61   50]\n",
      " [ 101 1132   12]\n",
      " [ 100   11  722]]\n",
      "              precision    recall  f1-score   support\n",
      "\n",
      "           1       0.83      0.90      0.87      1116\n",
      "           2       0.94      0.91      0.92      1245\n",
      "           3       0.92      0.87      0.89       833\n",
      "\n",
      "    accuracy                           0.90      3194\n",
      "   macro avg       0.90      0.89      0.89      3194\n",
      "weighted avg       0.90      0.90      0.90      3194\n",
      "\n"
     ]
    }
   ],
   "source": [
    "model_rf = RandomForestClassifier(random_state = 42)\n",
    "model_rf.fit(X_train3, y_train3)\n",
    "p_rf_3 = model_rf.predict(X_val3)\n",
    "\n",
    "print(accuracy_score(y_val3, p_rf_3))\n",
    "print(confusion_matrix(y_val3, p_rf_3))\n",
    "print(classification_report(y_val3, p_rf_3))"
   ]
  },
  {
   "cell_type": "code",
   "execution_count": 54,
   "id": "a3226d88-6dd2-4629-8d03-bdb52fdb5d2c",
   "metadata": {},
   "outputs": [
    {
     "data": {
      "text/plain": [
       "['model2_2_1.pkl']"
      ]
     },
     "execution_count": 54,
     "metadata": {},
     "output_type": "execute_result"
    }
   ],
   "source": [
    "joblib.dump(model_rf, 'model2_2_1.pkl')"
   ]
  },
  {
   "cell_type": "code",
   "execution_count": 55,
   "id": "d590a9cc-c310-405c-9481-00e39aa2d0e0",
   "metadata": {},
   "outputs": [
    {
     "name": "stdout",
     "output_type": "stream",
     "text": [
      "0.8882725832012678\n",
      "[[644  60]\n",
      " [ 81 477]]\n",
      "              precision    recall  f1-score   support\n",
      "\n",
      "           4       0.89      0.91      0.90       704\n",
      "           5       0.89      0.85      0.87       558\n",
      "\n",
      "    accuracy                           0.89      1262\n",
      "   macro avg       0.89      0.88      0.89      1262\n",
      "weighted avg       0.89      0.89      0.89      1262\n",
      "\n"
     ]
    }
   ],
   "source": [
    "model_rf = RandomForestClassifier(random_state = 42)\n",
    "model_rf.fit(X_train4, y_train4)\n",
    "p_rf_4 = model_rf.predict(X_val4)\n",
    "\n",
    "print(accuracy_score(y_val4, p_rf_4))\n",
    "print(confusion_matrix(y_val4, p_rf_4))\n",
    "print(classification_report(y_val4, p_rf_4))"
   ]
  },
  {
   "cell_type": "code",
   "execution_count": 56,
   "id": "f34c4a44-4458-4f7e-a52e-47c7b544f91d",
   "metadata": {},
   "outputs": [
    {
     "data": {
      "text/plain": [
       "['model2_2_2.pkl']"
      ]
     },
     "execution_count": 56,
     "metadata": {},
     "output_type": "execute_result"
    }
   ],
   "source": [
    "joblib.dump(model_rf, 'model2_2_2.pkl')"
   ]
  },
  {
   "cell_type": "code",
   "execution_count": 57,
   "id": "dab53b50-d2d4-46d2-832e-7e12c89711ee",
   "metadata": {},
   "outputs": [
    {
     "name": "stdout",
     "output_type": "stream",
     "text": [
      "0.9378127233738385\n",
      "[[899  12  19]\n",
      " [ 11 867  55]\n",
      " [ 10  67 858]]\n",
      "              precision    recall  f1-score   support\n",
      "\n",
      "           9       0.98      0.97      0.97       930\n",
      "          10       0.92      0.93      0.92       933\n",
      "          11       0.92      0.92      0.92       935\n",
      "\n",
      "    accuracy                           0.94      2798\n",
      "   macro avg       0.94      0.94      0.94      2798\n",
      "weighted avg       0.94      0.94      0.94      2798\n",
      "\n"
     ]
    }
   ],
   "source": [
    "model_rf = RandomForestClassifier(random_state = 42)\n",
    "model_rf.fit(X_train5, y_train5)\n",
    "p_rf_5 = model_rf.predict(X_val5)\n",
    "\n",
    "print(accuracy_score(y_val5, p_rf_5))\n",
    "print(confusion_matrix(y_val5, p_rf_5))\n",
    "print(classification_report(y_val5, p_rf_5))"
   ]
  },
  {
   "cell_type": "code",
   "execution_count": 58,
   "id": "249206ea-aade-4342-bb21-2a273ca2ba82",
   "metadata": {},
   "outputs": [
    {
     "data": {
      "text/plain": [
       "['model2_2_3.pkl']"
      ]
     },
     "execution_count": 58,
     "metadata": {},
     "output_type": "execute_result"
    }
   ],
   "source": [
    "joblib.dump(model_rf, 'model2_2_3.pkl')"
   ]
  },
  {
   "cell_type": "markdown",
   "id": "1ddc80a6-e58e-4fdf-b39a-29731340fe36",
   "metadata": {},
   "source": [
    "#### 2) XGBoost"
   ]
  },
  {
   "cell_type": "code",
   "execution_count": 24,
   "id": "d81851b5-c5db-42ad-9e19-dde4fda8eb2b",
   "metadata": {},
   "outputs": [
    {
     "name": "stdout",
     "output_type": "stream",
     "text": [
      "0.797576301615799\n",
      "[[ 994   58   22   25   41]\n",
      " [  90 1090    5    4   10]\n",
      " [  60   10  616   97   81]\n",
      " [  44    0   62  580   26]\n",
      " [ 130   26   65   46  274]]\n",
      "              precision    recall  f1-score   support\n",
      "\n",
      "           0       0.75      0.87      0.81      1140\n",
      "           1       0.92      0.91      0.91      1199\n",
      "           2       0.80      0.71      0.75       864\n",
      "           3       0.77      0.81      0.79       712\n",
      "           4       0.63      0.51      0.56       541\n",
      "\n",
      "    accuracy                           0.80      4456\n",
      "   macro avg       0.78      0.76      0.77      4456\n",
      "weighted avg       0.80      0.80      0.79      4456\n",
      "\n"
     ]
    }
   ],
   "source": [
    "model_xgb = XGBClassifier(random_state = 42, device = 'gpu')\n",
    "model_xgb.fit(X_train3_2, y_train3_2)\n",
    "p_xgb_3 = model_xgb.predict(X_val3_2)\n",
    "\n",
    "print(accuracy_score(y_val3_2, p_xgb_3))\n",
    "print(confusion_matrix(y_val3_2, p_xgb_3))\n",
    "print(classification_report(y_val3_2, p_xgb_3))"
   ]
  },
  {
   "cell_type": "code",
   "execution_count": 452,
   "id": "e8cfb35a-f427-4c5d-9b63-afc9e53f1aed",
   "metadata": {},
   "outputs": [
    {
     "data": {
      "text/html": [
       "<div>\n",
       "<style scoped>\n",
       "    .dataframe tbody tr th:only-of-type {\n",
       "        vertical-align: middle;\n",
       "    }\n",
       "\n",
       "    .dataframe tbody tr th {\n",
       "        vertical-align: top;\n",
       "    }\n",
       "\n",
       "    .dataframe thead th {\n",
       "        text-align: right;\n",
       "    }\n",
       "</style>\n",
       "<table border=\"1\" class=\"dataframe\">\n",
       "  <thead>\n",
       "    <tr style=\"text-align: right;\">\n",
       "      <th></th>\n",
       "      <th>feature_name</th>\n",
       "      <th>feature_importance</th>\n",
       "    </tr>\n",
       "  </thead>\n",
       "  <tbody>\n",
       "    <tr>\n",
       "      <th>0</th>\n",
       "      <td>A_z</td>\n",
       "      <td>0.351336</td>\n",
       "    </tr>\n",
       "    <tr>\n",
       "      <th>1</th>\n",
       "      <td>A_x</td>\n",
       "      <td>0.202686</td>\n",
       "    </tr>\n",
       "    <tr>\n",
       "      <th>2</th>\n",
       "      <td>B_z</td>\n",
       "      <td>0.150808</td>\n",
       "    </tr>\n",
       "    <tr>\n",
       "      <th>3</th>\n",
       "      <td>B_x</td>\n",
       "      <td>0.119562</td>\n",
       "    </tr>\n",
       "    <tr>\n",
       "      <th>4</th>\n",
       "      <td>B_y</td>\n",
       "      <td>0.101606</td>\n",
       "    </tr>\n",
       "    <tr>\n",
       "      <th>5</th>\n",
       "      <td>A_y</td>\n",
       "      <td>0.074002</td>\n",
       "    </tr>\n",
       "  </tbody>\n",
       "</table>\n",
       "</div>"
      ],
      "text/plain": [
       "  feature_name  feature_importance\n",
       "0          A_z            0.351336\n",
       "1          A_x            0.202686\n",
       "2          B_z            0.150808\n",
       "3          B_x            0.119562\n",
       "4          B_y            0.101606\n",
       "5          A_y            0.074002"
      ]
     },
     "execution_count": 452,
     "metadata": {},
     "output_type": "execute_result"
    }
   ],
   "source": [
    "xgb = plot_feature_importance(model_xgb.feature_importances_, list(X_train), True)\n",
    "xgb.head(6)"
   ]
  },
  {
   "cell_type": "markdown",
   "id": "35275e5a-11e7-441e-b868-919513e0195a",
   "metadata": {},
   "source": [
    "#### 3) Light GBM"
   ]
  },
  {
   "cell_type": "code",
   "execution_count": 25,
   "id": "f5e21b5c-110e-4678-a922-53ba1dd2d4ef",
   "metadata": {},
   "outputs": [
    {
     "name": "stdout",
     "output_type": "stream",
     "text": [
      "0.8779714738510301\n",
      "[[645  59]\n",
      " [ 95 463]]\n",
      "              precision    recall  f1-score   support\n",
      "\n",
      "           4       0.87      0.92      0.89       704\n",
      "           5       0.89      0.83      0.86       558\n",
      "\n",
      "    accuracy                           0.88      1262\n",
      "   macro avg       0.88      0.87      0.88      1262\n",
      "weighted avg       0.88      0.88      0.88      1262\n",
      "\n"
     ]
    }
   ],
   "source": [
    "model_lgb = LGBMClassifier(random_state = 42, verbose = -1, device = 'gpu')\n",
    "model_lgb.fit(X_train3, y_train3)\n",
    "p_lgb_3 = model_lgb.predict(X_val3)\n",
    "\n",
    "print(accuracy_score(y_val3, p_lgb_3))\n",
    "print(confusion_matrix(y_val3, p_lgb_3))\n",
    "print(classification_report(y_val3, p_lgb_3))"
   ]
  },
  {
   "cell_type": "code",
   "execution_count": 454,
   "id": "d90a4f76-4609-48ca-8772-d682e2258f7d",
   "metadata": {},
   "outputs": [
    {
     "data": {
      "text/html": [
       "<div>\n",
       "<style scoped>\n",
       "    .dataframe tbody tr th:only-of-type {\n",
       "        vertical-align: middle;\n",
       "    }\n",
       "\n",
       "    .dataframe tbody tr th {\n",
       "        vertical-align: top;\n",
       "    }\n",
       "\n",
       "    .dataframe thead th {\n",
       "        text-align: right;\n",
       "    }\n",
       "</style>\n",
       "<table border=\"1\" class=\"dataframe\">\n",
       "  <thead>\n",
       "    <tr style=\"text-align: right;\">\n",
       "      <th></th>\n",
       "      <th>feature_name</th>\n",
       "      <th>feature_importance</th>\n",
       "    </tr>\n",
       "  </thead>\n",
       "  <tbody>\n",
       "    <tr>\n",
       "      <th>0</th>\n",
       "      <td>A_z</td>\n",
       "      <td>4316</td>\n",
       "    </tr>\n",
       "    <tr>\n",
       "      <th>1</th>\n",
       "      <td>B_z</td>\n",
       "      <td>4264</td>\n",
       "    </tr>\n",
       "    <tr>\n",
       "      <th>2</th>\n",
       "      <td>B_x</td>\n",
       "      <td>4124</td>\n",
       "    </tr>\n",
       "    <tr>\n",
       "      <th>3</th>\n",
       "      <td>A_x</td>\n",
       "      <td>3984</td>\n",
       "    </tr>\n",
       "    <tr>\n",
       "      <th>4</th>\n",
       "      <td>A_y</td>\n",
       "      <td>3735</td>\n",
       "    </tr>\n",
       "    <tr>\n",
       "      <th>5</th>\n",
       "      <td>B_y</td>\n",
       "      <td>3577</td>\n",
       "    </tr>\n",
       "  </tbody>\n",
       "</table>\n",
       "</div>"
      ],
      "text/plain": [
       "  feature_name  feature_importance\n",
       "0          A_z                4316\n",
       "1          B_z                4264\n",
       "2          B_x                4124\n",
       "3          A_x                3984\n",
       "4          A_y                3735\n",
       "5          B_y                3577"
      ]
     },
     "execution_count": 454,
     "metadata": {},
     "output_type": "execute_result"
    }
   ],
   "source": [
    "lgb = plot_feature_importance(model_lgb.feature_importances_, list(X_train), True)\n",
    "lgb.head(6)"
   ]
  },
  {
   "cell_type": "markdown",
   "id": "369e2858-7b37-4a50-8eb0-e27278c32214",
   "metadata": {},
   "source": [
    "#### 4) CatBoost"
   ]
  },
  {
   "cell_type": "code",
   "execution_count": 455,
   "id": "3d3bd2ba-7d06-4016-904f-3b6708f0a244",
   "metadata": {},
   "outputs": [
    {
     "name": "stdout",
     "output_type": "stream",
     "text": [
      "0.81872070581748\n",
      "[[ 921   49   33   22   41    9   19   20]\n",
      " [  73 1042    3    2   13    8   61   19]\n",
      " [  55    4  618   98   80    3    4    6]\n",
      " [  22    1   90  569   32    2    1    8]\n",
      " [ 106    8   87   42  307    2    4    5]\n",
      " [  11    1    2    1    1  880    7   11]\n",
      " [  25   40    8    3    5   24  830   67]\n",
      " [  13    2    0    4    0   11   47  772]]\n",
      "              precision    recall  f1-score   support\n",
      "\n",
      "           1       0.75      0.83      0.79      1114\n",
      "           2       0.91      0.85      0.88      1221\n",
      "           3       0.73      0.71      0.72       868\n",
      "           4       0.77      0.78      0.78       725\n",
      "           5       0.64      0.55      0.59       561\n",
      "           9       0.94      0.96      0.95       914\n",
      "          10       0.85      0.83      0.84      1002\n",
      "          11       0.85      0.91      0.88       849\n",
      "\n",
      "    accuracy                           0.82      7254\n",
      "   macro avg       0.81      0.80      0.80      7254\n",
      "weighted avg       0.82      0.82      0.82      7254\n",
      "\n"
     ]
    }
   ],
   "source": [
    "model_cat = CatBoostClassifier(random_state = 42, task_type = 'GPU', verbose = 0)\n",
    "model_cat.fit(X_train3, y_train3)\n",
    "p_cat_3 = model_cat.predict(X_val3)\n",
    "\n",
    "print(accuracy_score(y_val3, p_cat_3))\n",
    "print(confusion_matrix(y_val3, p_cat_3))\n",
    "print(classification_report(y_val3, p_cat_3))"
   ]
  },
  {
   "cell_type": "code",
   "execution_count": 456,
   "id": "01c7bc20-9240-4fd4-adb2-3e21943d8b32",
   "metadata": {},
   "outputs": [
    {
     "data": {
      "text/html": [
       "<div>\n",
       "<style scoped>\n",
       "    .dataframe tbody tr th:only-of-type {\n",
       "        vertical-align: middle;\n",
       "    }\n",
       "\n",
       "    .dataframe tbody tr th {\n",
       "        vertical-align: top;\n",
       "    }\n",
       "\n",
       "    .dataframe thead th {\n",
       "        text-align: right;\n",
       "    }\n",
       "</style>\n",
       "<table border=\"1\" class=\"dataframe\">\n",
       "  <thead>\n",
       "    <tr style=\"text-align: right;\">\n",
       "      <th></th>\n",
       "      <th>feature_name</th>\n",
       "      <th>feature_importance</th>\n",
       "    </tr>\n",
       "  </thead>\n",
       "  <tbody>\n",
       "    <tr>\n",
       "      <th>0</th>\n",
       "      <td>A_z</td>\n",
       "      <td>30.694694</td>\n",
       "    </tr>\n",
       "    <tr>\n",
       "      <th>1</th>\n",
       "      <td>B_z</td>\n",
       "      <td>17.343239</td>\n",
       "    </tr>\n",
       "    <tr>\n",
       "      <th>2</th>\n",
       "      <td>B_x</td>\n",
       "      <td>13.795918</td>\n",
       "    </tr>\n",
       "    <tr>\n",
       "      <th>3</th>\n",
       "      <td>A_x</td>\n",
       "      <td>13.749006</td>\n",
       "    </tr>\n",
       "    <tr>\n",
       "      <th>4</th>\n",
       "      <td>A_y</td>\n",
       "      <td>12.601959</td>\n",
       "    </tr>\n",
       "    <tr>\n",
       "      <th>5</th>\n",
       "      <td>B_y</td>\n",
       "      <td>11.815184</td>\n",
       "    </tr>\n",
       "  </tbody>\n",
       "</table>\n",
       "</div>"
      ],
      "text/plain": [
       "  feature_name  feature_importance\n",
       "0          A_z           30.694694\n",
       "1          B_z           17.343239\n",
       "2          B_x           13.795918\n",
       "3          A_x           13.749006\n",
       "4          A_y           12.601959\n",
       "5          B_y           11.815184"
      ]
     },
     "execution_count": 456,
     "metadata": {},
     "output_type": "execute_result"
    }
   ],
   "source": [
    "cat = plot_feature_importance(model_cat.feature_importances_, list(X_train), True)\n",
    "cat.head(6)"
   ]
  },
  {
   "cell_type": "code",
   "execution_count": 420,
   "id": "ba3ba4fc-8ec4-4d1f-8fd7-cf19b949123a",
   "metadata": {},
   "outputs": [
    {
     "name": "stdout",
     "output_type": "stream",
     "text": [
      "0 1 2 3 4 5 "
     ]
    }
   ],
   "source": [
    "acc = []\n",
    "for i in range(6) : \n",
    "    top_n_feature = cat.loc[:i, 'feature_name']\n",
    "    X_train_n = X_train3[top_n_feature]\n",
    "    X_val_n = X_val3[top_n_feature]\n",
    "    model_cat.fit(X_train_n, y_train3)\n",
    "    pred = model_cat.predict(X_val_n)\n",
    "    acc.append(accuracy_score(y_val3, pred))\n",
    "    print(i, end = ' ')"
   ]
  },
  {
   "cell_type": "code",
   "execution_count": null,
   "id": "7b75fb94-5220-443f-ad89-97164ae81d2e",
   "metadata": {},
   "outputs": [],
   "source": []
  },
  {
   "cell_type": "code",
   "execution_count": null,
   "id": "68c11307-e59e-4837-bf10-09c8d9f21cb9",
   "metadata": {},
   "outputs": [],
   "source": []
  },
  {
   "cell_type": "markdown",
   "id": "37d3e01f-f11d-47a5-a937-f8072a3a3f6b",
   "metadata": {},
   "source": [
    "# 4. 테스트 데이터 예측"
   ]
  },
  {
   "cell_type": "code",
   "execution_count": 466,
   "id": "b3dbcb8b-6610-4033-8d91-1d9d8c5416c2",
   "metadata": {},
   "outputs": [],
   "source": [
    "def predict_new_data(test_path, sub_path):\n",
    "    # 1. 데이터 로드 및 전처리\n",
    "    submission = pd.read_csv(sub_path)\n",
    "    X_test = pd.read_csv(test_path)\n",
    "    drop_cols = ['Unnamed: 0', 'timestamp' ]\n",
    "    X_test.drop(drop_cols, axis = 1, inplace = True)\n",
    "\n",
    "    # 2. 저장된 모델 로드\n",
    "    model1 = joblib.load('model1.pkl')\n",
    "    model2_1 = joblib.load('model2_1.pkl')\n",
    "    model2_2 = joblib.load('model2_2.pkl')\n",
    "    \n",
    "    # 4. 동적 정적 유무 예측\n",
    "    pred1= model1.predict(X_test)\n",
    "    index_0 = [i for i, value in enumerate(pred1) if value == 0]\n",
    "    index_1 = [i for i, value in enumerate(pred1) if value == 1]\n",
    "\n",
    "    # 5. 동적, 정적 세부 예측\n",
    "    X_test_nd = X_test.loc[index_0, :]\n",
    "    X_test_d = X_test.loc[index_1, :]\n",
    "    pred2_1 = model2_1.predict(X_test_nd)\n",
    "    pred2_2 = model2_2.predict(X_test_d)\n",
    "\n",
    "    # 6. 예측 결과 합치기\n",
    "    pred2_1 = np.ravel(pred2_1)\n",
    "    pred2_2 = np.ravel(pred2_2)\n",
    "    \n",
    "    result_nd = pd.DataFrame({'Index': index_0, 'Prediction': pred2_1})\n",
    "    result_d = pd.DataFrame({'Index': index_1, 'Prediction': pred2_2})\n",
    "    \n",
    "    result_nd = result_nd.set_index('Index')\n",
    "    result_d = result_d.set_index('Index')\n",
    "    \n",
    "    merged_df = pd.concat([result_nd, result_d], axis=0)\n",
    "    merged_df = merged_df.sort_index()\n",
    "    \n",
    "    pred_total = merged_df['Prediction']\n",
    "    submission['label'] = pred_total\n",
    "    return submission"
   ]
  },
  {
   "cell_type": "code",
   "execution_count": 467,
   "id": "91e8c7f0-2964-4681-8b81-7943b9b19984",
   "metadata": {},
   "outputs": [
    {
     "data": {
      "text/html": [
       "<div>\n",
       "<style scoped>\n",
       "    .dataframe tbody tr th:only-of-type {\n",
       "        vertical-align: middle;\n",
       "    }\n",
       "\n",
       "    .dataframe tbody tr th {\n",
       "        vertical-align: top;\n",
       "    }\n",
       "\n",
       "    .dataframe thead th {\n",
       "        text-align: right;\n",
       "    }\n",
       "</style>\n",
       "<table border=\"1\" class=\"dataframe\">\n",
       "  <thead>\n",
       "    <tr style=\"text-align: right;\">\n",
       "      <th></th>\n",
       "      <th>ID</th>\n",
       "      <th>label</th>\n",
       "    </tr>\n",
       "  </thead>\n",
       "  <tbody>\n",
       "    <tr>\n",
       "      <th>0</th>\n",
       "      <td>0</td>\n",
       "      <td>6</td>\n",
       "    </tr>\n",
       "    <tr>\n",
       "      <th>1</th>\n",
       "      <td>1</td>\n",
       "      <td>4</td>\n",
       "    </tr>\n",
       "    <tr>\n",
       "      <th>2</th>\n",
       "      <td>2</td>\n",
       "      <td>11</td>\n",
       "    </tr>\n",
       "    <tr>\n",
       "      <th>3</th>\n",
       "      <td>3</td>\n",
       "      <td>9</td>\n",
       "    </tr>\n",
       "    <tr>\n",
       "      <th>4</th>\n",
       "      <td>4</td>\n",
       "      <td>7</td>\n",
       "    </tr>\n",
       "  </tbody>\n",
       "</table>\n",
       "</div>"
      ],
      "text/plain": [
       "   ID  label\n",
       "0   0      6\n",
       "1   1      4\n",
       "2   2     11\n",
       "3   3      9\n",
       "4   4      7"
      ]
     },
     "execution_count": 467,
     "metadata": {},
     "output_type": "execute_result"
    }
   ],
   "source": [
    "test_path = 'data/test.csv'\n",
    "sub_path = 'data/sample.csv'\n",
    "submission2=predict_new_data(test_path, sub_path)\n",
    "submission2.head() # xgb-> lgb + rf"
   ]
  },
  {
   "cell_type": "code",
   "execution_count": 468,
   "id": "71ce3d00-6806-46ef-9655-5331fc641e0e",
   "metadata": {},
   "outputs": [],
   "source": [
    "submission2.to_csv('submission2.csv',index=False)"
   ]
  },
  {
   "cell_type": "code",
   "execution_count": 369,
   "id": "afa87778-fb92-4019-8563-5c95f98bf42e",
   "metadata": {
    "scrolled": true
   },
   "outputs": [
    {
     "data": {
      "text/html": [
       "<div>\n",
       "<style scoped>\n",
       "    .dataframe tbody tr th:only-of-type {\n",
       "        vertical-align: middle;\n",
       "    }\n",
       "\n",
       "    .dataframe tbody tr th {\n",
       "        vertical-align: top;\n",
       "    }\n",
       "\n",
       "    .dataframe thead th {\n",
       "        text-align: right;\n",
       "    }\n",
       "</style>\n",
       "<table border=\"1\" class=\"dataframe\">\n",
       "  <thead>\n",
       "    <tr style=\"text-align: right;\">\n",
       "      <th></th>\n",
       "      <th>ID</th>\n",
       "      <th>label</th>\n",
       "    </tr>\n",
       "  </thead>\n",
       "  <tbody>\n",
       "    <tr>\n",
       "      <th>0</th>\n",
       "      <td>0</td>\n",
       "      <td>6</td>\n",
       "    </tr>\n",
       "    <tr>\n",
       "      <th>1</th>\n",
       "      <td>1</td>\n",
       "      <td>4</td>\n",
       "    </tr>\n",
       "    <tr>\n",
       "      <th>2</th>\n",
       "      <td>2</td>\n",
       "      <td>11</td>\n",
       "    </tr>\n",
       "    <tr>\n",
       "      <th>3</th>\n",
       "      <td>3</td>\n",
       "      <td>9</td>\n",
       "    </tr>\n",
       "    <tr>\n",
       "      <th>4</th>\n",
       "      <td>4</td>\n",
       "      <td>7</td>\n",
       "    </tr>\n",
       "  </tbody>\n",
       "</table>\n",
       "</div>"
      ],
      "text/plain": [
       "   ID  label\n",
       "0   0      6\n",
       "1   1      4\n",
       "2   2     11\n",
       "3   3      9\n",
       "4   4      7"
      ]
     },
     "execution_count": 369,
     "metadata": {},
     "output_type": "execute_result"
    }
   ],
   "source": [
    "test_path = 'data/test.csv'\n",
    "sub_path = 'data/sample.csv'\n",
    "submission=predict_new_data(test_path, sub_path)\n",
    "submission.head() # rf -> cat + cat"
   ]
  },
  {
   "cell_type": "code",
   "execution_count": 371,
   "id": "da9ec14b-42d2-4ced-acf9-6b3e5b8f5e11",
   "metadata": {},
   "outputs": [],
   "source": [
    "submission.to_csv('submission.csv',index=False)"
   ]
  },
  {
   "cell_type": "code",
   "execution_count": 370,
   "id": "3ac7d02a-3fe7-467b-9aba-d01743f22a4e",
   "metadata": {},
   "outputs": [
    {
     "data": {
      "text/html": [
       "<div>\n",
       "<style scoped>\n",
       "    .dataframe tbody tr th:only-of-type {\n",
       "        vertical-align: middle;\n",
       "    }\n",
       "\n",
       "    .dataframe tbody tr th {\n",
       "        vertical-align: top;\n",
       "    }\n",
       "\n",
       "    .dataframe thead th {\n",
       "        text-align: right;\n",
       "    }\n",
       "</style>\n",
       "<table border=\"1\" class=\"dataframe\">\n",
       "  <thead>\n",
       "    <tr style=\"text-align: right;\">\n",
       "      <th></th>\n",
       "      <th>ID</th>\n",
       "      <th>label</th>\n",
       "    </tr>\n",
       "  </thead>\n",
       "  <tbody>\n",
       "    <tr>\n",
       "      <th>0</th>\n",
       "      <td>0</td>\n",
       "      <td>1</td>\n",
       "    </tr>\n",
       "    <tr>\n",
       "      <th>1</th>\n",
       "      <td>1</td>\n",
       "      <td>4</td>\n",
       "    </tr>\n",
       "    <tr>\n",
       "      <th>2</th>\n",
       "      <td>2</td>\n",
       "      <td>11</td>\n",
       "    </tr>\n",
       "    <tr>\n",
       "      <th>3</th>\n",
       "      <td>3</td>\n",
       "      <td>9</td>\n",
       "    </tr>\n",
       "    <tr>\n",
       "      <th>4</th>\n",
       "      <td>4</td>\n",
       "      <td>7</td>\n",
       "    </tr>\n",
       "  </tbody>\n",
       "</table>\n",
       "</div>"
      ],
      "text/plain": [
       "   ID  label\n",
       "0   0      1\n",
       "1   1      4\n",
       "2   2     11\n",
       "3   3      9\n",
       "4   4      7"
      ]
     },
     "execution_count": 370,
     "metadata": {},
     "output_type": "execute_result"
    }
   ],
   "source": [
    "sub_path = 'data/sample.csv'\n",
    "sub = pd.read_csv(sub_path)\n",
    "sub.head()"
   ]
  },
  {
   "cell_type": "code",
   "execution_count": null,
   "id": "1c5b62a5-c0a8-4010-8b29-5aaece0e0f1c",
   "metadata": {},
   "outputs": [],
   "source": []
  },
  {
   "cell_type": "code",
   "execution_count": null,
   "id": "3af94f0b-6e9f-45eb-98b0-b265f65f7541",
   "metadata": {},
   "outputs": [],
   "source": []
  },
  {
   "cell_type": "code",
   "execution_count": null,
   "id": "13312c51-923a-479f-a3cb-dc8da1b33eb5",
   "metadata": {},
   "outputs": [],
   "source": []
  },
  {
   "cell_type": "code",
   "execution_count": null,
   "id": "355f5bd2-851b-44b3-9b1a-202ee3ad7d94",
   "metadata": {},
   "outputs": [],
   "source": []
  },
  {
   "cell_type": "code",
   "execution_count": null,
   "id": "59e18cf1-30ad-4f82-8577-1e33b3bb0d90",
   "metadata": {},
   "outputs": [],
   "source": []
  },
  {
   "cell_type": "code",
   "execution_count": null,
   "id": "7b04d764-50e0-46de-bb57-9024f1ddbcfb",
   "metadata": {},
   "outputs": [],
   "source": []
  }
 ],
 "metadata": {
  "kernelspec": {
   "display_name": "test3.8",
   "language": "python",
   "name": "test3.8"
  },
  "language_info": {
   "codemirror_mode": {
    "name": "ipython",
    "version": 3
   },
   "file_extension": ".py",
   "mimetype": "text/x-python",
   "name": "python",
   "nbconvert_exporter": "python",
   "pygments_lexer": "ipython3",
   "version": "3.8.18"
  }
 },
 "nbformat": 4,
 "nbformat_minor": 5
}
