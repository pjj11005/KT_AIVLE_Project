{
 "cells": [
  {
   "cell_type": "markdown",
   "metadata": {},
   "source": [
    "# 서울시 공유자전거 '따릉이' 수요 예측 프로젝트\n",
    "## 단계1. 데이터 전처리"
   ]
  },
  {
   "cell_type": "markdown",
   "metadata": {
    "tags": []
   },
   "source": [
    "## 0.프로젝트 소개\n",
    "\n",
    "### (1) 수행 목표 \n",
    "여러분은 서울시 정책 연구원으로써 서울시 공유자전거인 '따릉이'의 수요와 날씨간 연관성을 분석하라는 미션을 부여받았습니다.\n",
    "\n",
    "#### <font color=\"blue\"> 데이터 분석의 주 목적은 가치있는 정보를 찾아내는것!! </font>\n",
    "\n",
    "#### 우리가 풀어야 하는 문제는 무엇인가요?\n",
    "\n",
    " - 기상상황이 따릉이 수요에 주는 영향을 분석해봅시다.\n",
    "\n",
    "    * 1.데이터를 탐색하며 정보 획득\n",
    "        * 날씨 데이터와 서울시 공유 자전거 따릉이의 수요 데이터를 제공해드렸습니다. \n",
    "        * 우리는 따릉이의 수요와 날씨간 어떤 연관성이 있는지 탐색 해 봅시다.\n",
    "    * 2.EDA\n",
    "        * 주어진 데이터의 변수들을 분석해 봅시다. \n",
    "\n",
    "\n",
    "### (2) 데이터 소개\n",
    "\n",
    "#### 1) 기본 데이터\n",
    "\n",
    "        * 학습데이터 : sbikedata.csv\n",
    "\n",
    "#### 2) 데이터셋의 변수 소개\n",
    "\n",
    "        * date : 날짜\n",
    "        * hour : 시간\n",
    "        * temperature : 온도\n",
    "        * precipitation : 강우 여부, 비가 오지 않았으면 0, 비가 오면 1\n",
    "        * windspeed : 풍속(평균)\n",
    "        * humidity : 습도\n",
    "        * visibility : 시정(視程), 시계(視界)(특정 기상 상태에 따른 가시성을 의미) (10m)\n",
    "        * ozone : 오존 수치\n",
    "        * PM10 : 미세먼지 수치(머리카락 굵기의 1/5에서 1/7 크기의 미세먼지)\n",
    "        * PM2.5 : 초미세먼지 수치(머리카락 굵기의 1/20에서 1/30 크기의 미세먼지)\n",
    "        * count : 시간에 따른 따릉이 대여 수\n"
   ]
  },
  {
   "cell_type": "markdown",
   "metadata": {},
   "source": [
    "## 1.환경설정"
   ]
  },
  {
   "cell_type": "markdown",
   "metadata": {},
   "source": [
    "* 세부 요구사항\n",
    "    - 경로 설정 \n",
    "        * 로컬 수행(Ananconda)\n",
    "            * 제공된 압축파일을 다운받아 압축을 풀고\n",
    "            * anaconda의 root directory(보통 C:/Users/< ID > 에 project 폴더를 만들고, 복사해 넣습니다.\n",
    "        \n",
    "    - 기본적으로 필요한 라이브러리를 import 하도록 코드가 작성되어 있습니다. \n",
    "        * 필요하다고 판단되는 라이브러리를 추가하세요."
   ]
  },
  {
   "cell_type": "markdown",
   "metadata": {},
   "source": [
    "### (1) 경로 설정 및 라이브러리 로딩\n",
    "* 이번 프로젝트는 로컬환경에서 진행합니다."
   ]
  },
  {
   "cell_type": "markdown",
   "metadata": {},
   "source": [
    "#### 1) 로컬 수행(Anaconda)\n",
    "* project 폴더에 필요한 파일들을 넣고, 본 파일을 열었다면, 별도 경로 지정이 필요하지 않습니다."
   ]
  },
  {
   "cell_type": "code",
   "execution_count": null,
   "metadata": {},
   "outputs": [],
   "source": [
    "# path = 'C:/Users/User/'"
   ]
  },
  {
   "cell_type": "markdown",
   "metadata": {},
   "source": [
    "#### 2) 라이브러리 로딩"
   ]
  },
  {
   "cell_type": "code",
   "execution_count": 1,
   "metadata": {
    "tags": []
   },
   "outputs": [],
   "source": [
    "import pandas as pd\n",
    "import numpy as np\n",
    "import matplotlib.pyplot as plt\n",
    "import seaborn as sns\n",
    "\n",
    "from statsmodels.graphics.mosaicplot import mosaic\n",
    "from scipy import stats as spst\n",
    "import statsmodels.api as sm\n",
    "import joblib\n",
    "\n",
    "# 더 필요한 라이브러리를 아래에 추가합니다.\n",
    "\n"
   ]
  },
  {
   "cell_type": "markdown",
   "metadata": {},
   "source": [
    "### (2) 데이터 불러오기\n",
    "* 주어진 데이터셋\n",
    "    * 따릉이 수요 및 날씨 데이터 : sbikedata.csv"
   ]
  },
  {
   "cell_type": "markdown",
   "metadata": {},
   "source": [
    "#### 1) 데이터로딩"
   ]
  },
  {
   "cell_type": "code",
   "execution_count": 53,
   "metadata": {
    "tags": []
   },
   "outputs": [],
   "source": [
    "# 아래에 실습코드를 작성하고 결과를 확인합니다.\n",
    "\n",
    "sbikedata = pd.read_csv('sbikedata.csv')"
   ]
  },
  {
   "cell_type": "markdown",
   "metadata": {},
   "source": [
    "#### 2) 기본 정보 조회\n",
    "- 데이터를 head, tail. describe, info 등을 활용하여 확인하세요."
   ]
  },
  {
   "cell_type": "code",
   "execution_count": 3,
   "metadata": {
    "tags": []
   },
   "outputs": [
    {
     "data": {
      "text/html": [
       "<div>\n",
       "<style scoped>\n",
       "    .dataframe tbody tr th:only-of-type {\n",
       "        vertical-align: middle;\n",
       "    }\n",
       "\n",
       "    .dataframe tbody tr th {\n",
       "        vertical-align: top;\n",
       "    }\n",
       "\n",
       "    .dataframe thead th {\n",
       "        text-align: right;\n",
       "    }\n",
       "</style>\n",
       "<table border=\"1\" class=\"dataframe\">\n",
       "  <thead>\n",
       "    <tr style=\"text-align: right;\">\n",
       "      <th></th>\n",
       "      <th>date</th>\n",
       "      <th>hour</th>\n",
       "      <th>PM10</th>\n",
       "      <th>PM2.5</th>\n",
       "      <th>ozone</th>\n",
       "      <th>temperature</th>\n",
       "      <th>precipitation</th>\n",
       "      <th>windspeed</th>\n",
       "      <th>humidity</th>\n",
       "      <th>visibility</th>\n",
       "      <th>count</th>\n",
       "    </tr>\n",
       "  </thead>\n",
       "  <tbody>\n",
       "    <tr>\n",
       "      <th>0</th>\n",
       "      <td>2021-04-01</td>\n",
       "      <td>1</td>\n",
       "      <td>42.0</td>\n",
       "      <td>21.0</td>\n",
       "      <td>0.002</td>\n",
       "      <td>13.1</td>\n",
       "      <td>0</td>\n",
       "      <td>1.4</td>\n",
       "      <td>49</td>\n",
       "      <td>2000</td>\n",
       "      <td>46</td>\n",
       "    </tr>\n",
       "    <tr>\n",
       "      <th>1</th>\n",
       "      <td>2021-04-01</td>\n",
       "      <td>2</td>\n",
       "      <td>41.0</td>\n",
       "      <td>21.0</td>\n",
       "      <td>0.003</td>\n",
       "      <td>12.4</td>\n",
       "      <td>0</td>\n",
       "      <td>2.1</td>\n",
       "      <td>53</td>\n",
       "      <td>2000</td>\n",
       "      <td>40</td>\n",
       "    </tr>\n",
       "    <tr>\n",
       "      <th>2</th>\n",
       "      <td>2021-04-01</td>\n",
       "      <td>3</td>\n",
       "      <td>30.0</td>\n",
       "      <td>13.0</td>\n",
       "      <td>0.023</td>\n",
       "      <td>13.1</td>\n",
       "      <td>0</td>\n",
       "      <td>3.4</td>\n",
       "      <td>43</td>\n",
       "      <td>2000</td>\n",
       "      <td>31</td>\n",
       "    </tr>\n",
       "    <tr>\n",
       "      <th>3</th>\n",
       "      <td>2021-04-01</td>\n",
       "      <td>4</td>\n",
       "      <td>27.0</td>\n",
       "      <td>12.0</td>\n",
       "      <td>0.028</td>\n",
       "      <td>13.0</td>\n",
       "      <td>0</td>\n",
       "      <td>3.1</td>\n",
       "      <td>44</td>\n",
       "      <td>2000</td>\n",
       "      <td>12</td>\n",
       "    </tr>\n",
       "    <tr>\n",
       "      <th>4</th>\n",
       "      <td>2021-04-01</td>\n",
       "      <td>5</td>\n",
       "      <td>29.0</td>\n",
       "      <td>14.0</td>\n",
       "      <td>0.008</td>\n",
       "      <td>13.0</td>\n",
       "      <td>0</td>\n",
       "      <td>2.9</td>\n",
       "      <td>44</td>\n",
       "      <td>2000</td>\n",
       "      <td>30</td>\n",
       "    </tr>\n",
       "  </tbody>\n",
       "</table>\n",
       "</div>"
      ],
      "text/plain": [
       "         date  hour  PM10  PM2.5  ozone  temperature  precipitation  \\\n",
       "0  2021-04-01     1  42.0   21.0  0.002         13.1              0   \n",
       "1  2021-04-01     2  41.0   21.0  0.003         12.4              0   \n",
       "2  2021-04-01     3  30.0   13.0  0.023         13.1              0   \n",
       "3  2021-04-01     4  27.0   12.0  0.028         13.0              0   \n",
       "4  2021-04-01     5  29.0   14.0  0.008         13.0              0   \n",
       "\n",
       "   windspeed  humidity  visibility  count  \n",
       "0        1.4        49        2000     46  \n",
       "1        2.1        53        2000     40  \n",
       "2        3.4        43        2000     31  \n",
       "3        3.1        44        2000     12  \n",
       "4        2.9        44        2000     30  "
      ]
     },
     "execution_count": 3,
     "metadata": {},
     "output_type": "execute_result"
    }
   ],
   "source": [
    "# 아래에 실습코드를 작성하고 결과를 확인합니다.\n",
    "\n",
    "sbikedata.head()"
   ]
  },
  {
   "cell_type": "code",
   "execution_count": 4,
   "metadata": {
    "tags": []
   },
   "outputs": [
    {
     "data": {
      "text/html": [
       "<div>\n",
       "<style scoped>\n",
       "    .dataframe tbody tr th:only-of-type {\n",
       "        vertical-align: middle;\n",
       "    }\n",
       "\n",
       "    .dataframe tbody tr th {\n",
       "        vertical-align: top;\n",
       "    }\n",
       "\n",
       "    .dataframe thead th {\n",
       "        text-align: right;\n",
       "    }\n",
       "</style>\n",
       "<table border=\"1\" class=\"dataframe\">\n",
       "  <thead>\n",
       "    <tr style=\"text-align: right;\">\n",
       "      <th></th>\n",
       "      <th>date</th>\n",
       "      <th>hour</th>\n",
       "      <th>PM10</th>\n",
       "      <th>PM2.5</th>\n",
       "      <th>ozone</th>\n",
       "      <th>temperature</th>\n",
       "      <th>precipitation</th>\n",
       "      <th>windspeed</th>\n",
       "      <th>humidity</th>\n",
       "      <th>visibility</th>\n",
       "      <th>count</th>\n",
       "    </tr>\n",
       "  </thead>\n",
       "  <tbody>\n",
       "    <tr>\n",
       "      <th>5822</th>\n",
       "      <td>2021-11-29</td>\n",
       "      <td>20</td>\n",
       "      <td>74.0</td>\n",
       "      <td>58.0</td>\n",
       "      <td>0.002</td>\n",
       "      <td>9.3</td>\n",
       "      <td>0</td>\n",
       "      <td>0.3</td>\n",
       "      <td>66</td>\n",
       "      <td>1193</td>\n",
       "      <td>273</td>\n",
       "    </tr>\n",
       "    <tr>\n",
       "      <th>5823</th>\n",
       "      <td>2021-11-29</td>\n",
       "      <td>21</td>\n",
       "      <td>65.0</td>\n",
       "      <td>56.0</td>\n",
       "      <td>0.002</td>\n",
       "      <td>8.4</td>\n",
       "      <td>0</td>\n",
       "      <td>2.0</td>\n",
       "      <td>70</td>\n",
       "      <td>1233</td>\n",
       "      <td>228</td>\n",
       "    </tr>\n",
       "    <tr>\n",
       "      <th>5824</th>\n",
       "      <td>2021-11-29</td>\n",
       "      <td>22</td>\n",
       "      <td>51.0</td>\n",
       "      <td>41.0</td>\n",
       "      <td>0.002</td>\n",
       "      <td>8.6</td>\n",
       "      <td>0</td>\n",
       "      <td>1.9</td>\n",
       "      <td>70</td>\n",
       "      <td>1250</td>\n",
       "      <td>215</td>\n",
       "    </tr>\n",
       "    <tr>\n",
       "      <th>5825</th>\n",
       "      <td>2021-11-29</td>\n",
       "      <td>23</td>\n",
       "      <td>43.0</td>\n",
       "      <td>35.0</td>\n",
       "      <td>0.001</td>\n",
       "      <td>8.2</td>\n",
       "      <td>0</td>\n",
       "      <td>2.1</td>\n",
       "      <td>71</td>\n",
       "      <td>1262</td>\n",
       "      <td>125</td>\n",
       "    </tr>\n",
       "    <tr>\n",
       "      <th>5826</th>\n",
       "      <td>2021-11-30</td>\n",
       "      <td>0</td>\n",
       "      <td>39.0</td>\n",
       "      <td>31.0</td>\n",
       "      <td>0.004</td>\n",
       "      <td>7.9</td>\n",
       "      <td>0</td>\n",
       "      <td>2.3</td>\n",
       "      <td>71</td>\n",
       "      <td>1483</td>\n",
       "      <td>95</td>\n",
       "    </tr>\n",
       "  </tbody>\n",
       "</table>\n",
       "</div>"
      ],
      "text/plain": [
       "            date  hour  PM10  PM2.5  ozone  temperature  precipitation  \\\n",
       "5822  2021-11-29    20  74.0   58.0  0.002          9.3              0   \n",
       "5823  2021-11-29    21  65.0   56.0  0.002          8.4              0   \n",
       "5824  2021-11-29    22  51.0   41.0  0.002          8.6              0   \n",
       "5825  2021-11-29    23  43.0   35.0  0.001          8.2              0   \n",
       "5826  2021-11-30     0  39.0   31.0  0.004          7.9              0   \n",
       "\n",
       "      windspeed  humidity  visibility  count  \n",
       "5822        0.3        66        1193    273  \n",
       "5823        2.0        70        1233    228  \n",
       "5824        1.9        70        1250    215  \n",
       "5825        2.1        71        1262    125  \n",
       "5826        2.3        71        1483     95  "
      ]
     },
     "execution_count": 4,
     "metadata": {},
     "output_type": "execute_result"
    }
   ],
   "source": [
    "# 아래에 실습코드를 작성하고 결과를 확인합니다.\n",
    "\n",
    "sbikedata.tail()"
   ]
  },
  {
   "cell_type": "code",
   "execution_count": 5,
   "metadata": {
    "tags": []
   },
   "outputs": [
    {
     "name": "stdout",
     "output_type": "stream",
     "text": [
      "<class 'pandas.core.frame.DataFrame'>\n",
      "RangeIndex: 5827 entries, 0 to 5826\n",
      "Data columns (total 11 columns):\n",
      " #   Column         Non-Null Count  Dtype  \n",
      "---  ------         --------------  -----  \n",
      " 0   date           5827 non-null   object \n",
      " 1   hour           5827 non-null   int64  \n",
      " 2   PM10           5725 non-null   float64\n",
      " 3   PM2.5          5732 non-null   float64\n",
      " 4   ozone          5699 non-null   float64\n",
      " 5   temperature    5827 non-null   float64\n",
      " 6   precipitation  5827 non-null   int64  \n",
      " 7   windspeed      5827 non-null   float64\n",
      " 8   humidity       5827 non-null   int64  \n",
      " 9   visibility     5827 non-null   int64  \n",
      " 10  count          5827 non-null   int64  \n",
      "dtypes: float64(5), int64(5), object(1)\n",
      "memory usage: 500.9+ KB\n"
     ]
    }
   ],
   "source": [
    "# 아래에 실습코드를 작성하고 결과를 확인합니다.\n",
    "\n",
    "sbikedata.info()"
   ]
  },
  {
   "cell_type": "code",
   "execution_count": 7,
   "metadata": {
    "tags": []
   },
   "outputs": [
    {
     "data": {
      "text/html": [
       "<div>\n",
       "<style scoped>\n",
       "    .dataframe tbody tr th:only-of-type {\n",
       "        vertical-align: middle;\n",
       "    }\n",
       "\n",
       "    .dataframe tbody tr th {\n",
       "        vertical-align: top;\n",
       "    }\n",
       "\n",
       "    .dataframe thead th {\n",
       "        text-align: right;\n",
       "    }\n",
       "</style>\n",
       "<table border=\"1\" class=\"dataframe\">\n",
       "  <thead>\n",
       "    <tr style=\"text-align: right;\">\n",
       "      <th></th>\n",
       "      <th>count</th>\n",
       "      <th>mean</th>\n",
       "      <th>std</th>\n",
       "      <th>min</th>\n",
       "      <th>25%</th>\n",
       "      <th>50%</th>\n",
       "      <th>75%</th>\n",
       "      <th>max</th>\n",
       "    </tr>\n",
       "  </thead>\n",
       "  <tbody>\n",
       "    <tr>\n",
       "      <th>hour</th>\n",
       "      <td>5827.0</td>\n",
       "      <td>11.506607</td>\n",
       "      <td>6.921963</td>\n",
       "      <td>0.000</td>\n",
       "      <td>6.000</td>\n",
       "      <td>12.000</td>\n",
       "      <td>18.000</td>\n",
       "      <td>23.000</td>\n",
       "    </tr>\n",
       "    <tr>\n",
       "      <th>PM10</th>\n",
       "      <td>5725.0</td>\n",
       "      <td>31.970655</td>\n",
       "      <td>42.987292</td>\n",
       "      <td>3.000</td>\n",
       "      <td>16.000</td>\n",
       "      <td>25.000</td>\n",
       "      <td>37.000</td>\n",
       "      <td>827.000</td>\n",
       "    </tr>\n",
       "    <tr>\n",
       "      <th>PM2.5</th>\n",
       "      <td>5732.0</td>\n",
       "      <td>15.666609</td>\n",
       "      <td>13.850990</td>\n",
       "      <td>1.000</td>\n",
       "      <td>7.000</td>\n",
       "      <td>13.000</td>\n",
       "      <td>20.000</td>\n",
       "      <td>125.000</td>\n",
       "    </tr>\n",
       "    <tr>\n",
       "      <th>ozone</th>\n",
       "      <td>5699.0</td>\n",
       "      <td>0.031811</td>\n",
       "      <td>0.018277</td>\n",
       "      <td>0.001</td>\n",
       "      <td>0.019</td>\n",
       "      <td>0.031</td>\n",
       "      <td>0.041</td>\n",
       "      <td>0.137</td>\n",
       "    </tr>\n",
       "    <tr>\n",
       "      <th>temperature</th>\n",
       "      <td>5827.0</td>\n",
       "      <td>19.376798</td>\n",
       "      <td>7.501572</td>\n",
       "      <td>-3.500</td>\n",
       "      <td>14.100</td>\n",
       "      <td>20.400</td>\n",
       "      <td>24.900</td>\n",
       "      <td>36.300</td>\n",
       "    </tr>\n",
       "    <tr>\n",
       "      <th>precipitation</th>\n",
       "      <td>5827.0</td>\n",
       "      <td>0.075511</td>\n",
       "      <td>0.264236</td>\n",
       "      <td>0.000</td>\n",
       "      <td>0.000</td>\n",
       "      <td>0.000</td>\n",
       "      <td>0.000</td>\n",
       "      <td>1.000</td>\n",
       "    </tr>\n",
       "    <tr>\n",
       "      <th>windspeed</th>\n",
       "      <td>5827.0</td>\n",
       "      <td>2.237601</td>\n",
       "      <td>1.054516</td>\n",
       "      <td>0.000</td>\n",
       "      <td>1.500</td>\n",
       "      <td>2.200</td>\n",
       "      <td>2.800</td>\n",
       "      <td>8.300</td>\n",
       "    </tr>\n",
       "    <tr>\n",
       "      <th>humidity</th>\n",
       "      <td>5827.0</td>\n",
       "      <td>68.608718</td>\n",
       "      <td>17.277266</td>\n",
       "      <td>19.000</td>\n",
       "      <td>56.000</td>\n",
       "      <td>70.000</td>\n",
       "      <td>82.000</td>\n",
       "      <td>100.000</td>\n",
       "    </tr>\n",
       "    <tr>\n",
       "      <th>visibility</th>\n",
       "      <td>5827.0</td>\n",
       "      <td>1758.438648</td>\n",
       "      <td>490.969394</td>\n",
       "      <td>60.000</td>\n",
       "      <td>1935.500</td>\n",
       "      <td>2000.000</td>\n",
       "      <td>2000.000</td>\n",
       "      <td>2000.000</td>\n",
       "    </tr>\n",
       "    <tr>\n",
       "      <th>count</th>\n",
       "      <td>5827.0</td>\n",
       "      <td>215.117899</td>\n",
       "      <td>185.972900</td>\n",
       "      <td>1.000</td>\n",
       "      <td>53.000</td>\n",
       "      <td>186.000</td>\n",
       "      <td>315.000</td>\n",
       "      <td>1746.000</td>\n",
       "    </tr>\n",
       "  </tbody>\n",
       "</table>\n",
       "</div>"
      ],
      "text/plain": [
       "                count         mean         std     min       25%       50%  \\\n",
       "hour           5827.0    11.506607    6.921963   0.000     6.000    12.000   \n",
       "PM10           5725.0    31.970655   42.987292   3.000    16.000    25.000   \n",
       "PM2.5          5732.0    15.666609   13.850990   1.000     7.000    13.000   \n",
       "ozone          5699.0     0.031811    0.018277   0.001     0.019     0.031   \n",
       "temperature    5827.0    19.376798    7.501572  -3.500    14.100    20.400   \n",
       "precipitation  5827.0     0.075511    0.264236   0.000     0.000     0.000   \n",
       "windspeed      5827.0     2.237601    1.054516   0.000     1.500     2.200   \n",
       "humidity       5827.0    68.608718   17.277266  19.000    56.000    70.000   \n",
       "visibility     5827.0  1758.438648  490.969394  60.000  1935.500  2000.000   \n",
       "count          5827.0   215.117899  185.972900   1.000    53.000   186.000   \n",
       "\n",
       "                    75%       max  \n",
       "hour             18.000    23.000  \n",
       "PM10             37.000   827.000  \n",
       "PM2.5            20.000   125.000  \n",
       "ozone             0.041     0.137  \n",
       "temperature      24.900    36.300  \n",
       "precipitation     0.000     1.000  \n",
       "windspeed         2.800     8.300  \n",
       "humidity         82.000   100.000  \n",
       "visibility     2000.000  2000.000  \n",
       "count           315.000  1746.000  "
      ]
     },
     "execution_count": 7,
     "metadata": {},
     "output_type": "execute_result"
    }
   ],
   "source": [
    "# 아래에 실습코드를 작성하고 결과를 확인합니다.\n",
    "\n",
    "sbikedata.describe().T"
   ]
  },
  {
   "cell_type": "code",
   "execution_count": 54,
   "metadata": {
    "tags": []
   },
   "outputs": [],
   "source": [
    "date = pd.to_datetime(sbikedata['date'])\n",
    "sbikedata['month'] = date.dt.month\n",
    "sbikedata['weekday'] = date.dt.weekday"
   ]
  },
  {
   "cell_type": "code",
   "execution_count": 55,
   "metadata": {
    "tags": []
   },
   "outputs": [
    {
     "name": "stdout",
     "output_type": "stream",
     "text": [
      "<class 'pandas.core.frame.DataFrame'>\n",
      "RangeIndex: 5827 entries, 0 to 5826\n",
      "Data columns (total 13 columns):\n",
      " #   Column         Non-Null Count  Dtype  \n",
      "---  ------         --------------  -----  \n",
      " 0   date           5827 non-null   object \n",
      " 1   hour           5827 non-null   int64  \n",
      " 2   PM10           5725 non-null   float64\n",
      " 3   PM2.5          5732 non-null   float64\n",
      " 4   ozone          5699 non-null   float64\n",
      " 5   temperature    5827 non-null   float64\n",
      " 6   precipitation  5827 non-null   int64  \n",
      " 7   windspeed      5827 non-null   float64\n",
      " 8   humidity       5827 non-null   int64  \n",
      " 9   visibility     5827 non-null   int64  \n",
      " 10  count          5827 non-null   int64  \n",
      " 11  month          5827 non-null   int32  \n",
      " 12  weekday        5827 non-null   int32  \n",
      "dtypes: float64(5), int32(2), int64(5), object(1)\n",
      "memory usage: 546.4+ KB\n"
     ]
    }
   ],
   "source": [
    "sbikedata.info()"
   ]
  },
  {
   "cell_type": "code",
   "execution_count": 56,
   "metadata": {
    "tags": []
   },
   "outputs": [
    {
     "data": {
      "text/plain": [
       "date               0\n",
       "hour               0\n",
       "PM10             102\n",
       "PM2.5             95\n",
       "ozone            128\n",
       "temperature        0\n",
       "precipitation      0\n",
       "windspeed          0\n",
       "humidity           0\n",
       "visibility         0\n",
       "count              0\n",
       "month              0\n",
       "weekday            0\n",
       "dtype: int64"
      ]
     },
     "execution_count": 56,
     "metadata": {},
     "output_type": "execute_result"
    }
   ],
   "source": [
    "sbikedata.isna().sum()"
   ]
  },
  {
   "cell_type": "code",
   "execution_count": 57,
   "metadata": {
    "tags": []
   },
   "outputs": [
    {
     "data": {
      "text/plain": [
       "date             0\n",
       "hour             0\n",
       "PM10             0\n",
       "PM2.5            0\n",
       "ozone            0\n",
       "temperature      0\n",
       "precipitation    0\n",
       "windspeed        0\n",
       "humidity         0\n",
       "visibility       0\n",
       "count            0\n",
       "month            0\n",
       "weekday          0\n",
       "dtype: int64"
      ]
     },
     "execution_count": 57,
     "metadata": {},
     "output_type": "execute_result"
    }
   ],
   "source": [
    "num_features = list(sbikedata)[1:]\n",
    "\n",
    "sbikedata[num_features] = sbikedata[num_features].fillna(sbikedata[num_features].median())\n",
    "\n",
    "sbikedata.isna().sum()"
   ]
  },
  {
   "cell_type": "code",
   "execution_count": 58,
   "metadata": {
    "tags": []
   },
   "outputs": [
    {
     "data": {
      "text/html": [
       "<div>\n",
       "<style scoped>\n",
       "    .dataframe tbody tr th:only-of-type {\n",
       "        vertical-align: middle;\n",
       "    }\n",
       "\n",
       "    .dataframe tbody tr th {\n",
       "        vertical-align: top;\n",
       "    }\n",
       "\n",
       "    .dataframe thead th {\n",
       "        text-align: right;\n",
       "    }\n",
       "</style>\n",
       "<table border=\"1\" class=\"dataframe\">\n",
       "  <thead>\n",
       "    <tr style=\"text-align: right;\">\n",
       "      <th></th>\n",
       "      <th>date</th>\n",
       "      <th>hour</th>\n",
       "      <th>PM10</th>\n",
       "      <th>PM2.5</th>\n",
       "      <th>ozone</th>\n",
       "      <th>temperature</th>\n",
       "      <th>precipitation</th>\n",
       "      <th>windspeed</th>\n",
       "      <th>humidity</th>\n",
       "      <th>visibility</th>\n",
       "      <th>count</th>\n",
       "      <th>month</th>\n",
       "      <th>weekday</th>\n",
       "    </tr>\n",
       "  </thead>\n",
       "  <tbody>\n",
       "    <tr>\n",
       "      <th>0</th>\n",
       "      <td>2021-04-01</td>\n",
       "      <td>1</td>\n",
       "      <td>42.0</td>\n",
       "      <td>21.0</td>\n",
       "      <td>0.002</td>\n",
       "      <td>13.1</td>\n",
       "      <td>0</td>\n",
       "      <td>1.4</td>\n",
       "      <td>49</td>\n",
       "      <td>2000</td>\n",
       "      <td>46</td>\n",
       "      <td>4</td>\n",
       "      <td>3</td>\n",
       "    </tr>\n",
       "    <tr>\n",
       "      <th>1</th>\n",
       "      <td>2021-04-01</td>\n",
       "      <td>2</td>\n",
       "      <td>41.0</td>\n",
       "      <td>21.0</td>\n",
       "      <td>0.003</td>\n",
       "      <td>12.4</td>\n",
       "      <td>0</td>\n",
       "      <td>2.1</td>\n",
       "      <td>53</td>\n",
       "      <td>2000</td>\n",
       "      <td>40</td>\n",
       "      <td>4</td>\n",
       "      <td>3</td>\n",
       "    </tr>\n",
       "    <tr>\n",
       "      <th>2</th>\n",
       "      <td>2021-04-01</td>\n",
       "      <td>3</td>\n",
       "      <td>30.0</td>\n",
       "      <td>13.0</td>\n",
       "      <td>0.023</td>\n",
       "      <td>13.1</td>\n",
       "      <td>0</td>\n",
       "      <td>3.4</td>\n",
       "      <td>43</td>\n",
       "      <td>2000</td>\n",
       "      <td>31</td>\n",
       "      <td>4</td>\n",
       "      <td>3</td>\n",
       "    </tr>\n",
       "    <tr>\n",
       "      <th>3</th>\n",
       "      <td>2021-04-01</td>\n",
       "      <td>4</td>\n",
       "      <td>27.0</td>\n",
       "      <td>12.0</td>\n",
       "      <td>0.028</td>\n",
       "      <td>13.0</td>\n",
       "      <td>0</td>\n",
       "      <td>3.1</td>\n",
       "      <td>44</td>\n",
       "      <td>2000</td>\n",
       "      <td>12</td>\n",
       "      <td>4</td>\n",
       "      <td>3</td>\n",
       "    </tr>\n",
       "    <tr>\n",
       "      <th>4</th>\n",
       "      <td>2021-04-01</td>\n",
       "      <td>5</td>\n",
       "      <td>29.0</td>\n",
       "      <td>14.0</td>\n",
       "      <td>0.008</td>\n",
       "      <td>13.0</td>\n",
       "      <td>0</td>\n",
       "      <td>2.9</td>\n",
       "      <td>44</td>\n",
       "      <td>2000</td>\n",
       "      <td>30</td>\n",
       "      <td>4</td>\n",
       "      <td>3</td>\n",
       "    </tr>\n",
       "  </tbody>\n",
       "</table>\n",
       "</div>"
      ],
      "text/plain": [
       "         date  hour  PM10  PM2.5  ozone  temperature  precipitation  \\\n",
       "0  2021-04-01     1  42.0   21.0  0.002         13.1              0   \n",
       "1  2021-04-01     2  41.0   21.0  0.003         12.4              0   \n",
       "2  2021-04-01     3  30.0   13.0  0.023         13.1              0   \n",
       "3  2021-04-01     4  27.0   12.0  0.028         13.0              0   \n",
       "4  2021-04-01     5  29.0   14.0  0.008         13.0              0   \n",
       "\n",
       "   windspeed  humidity  visibility  count  month  weekday  \n",
       "0        1.4        49        2000     46      4        3  \n",
       "1        2.1        53        2000     40      4        3  \n",
       "2        3.4        43        2000     31      4        3  \n",
       "3        3.1        44        2000     12      4        3  \n",
       "4        2.9        44        2000     30      4        3  "
      ]
     },
     "execution_count": 58,
     "metadata": {},
     "output_type": "execute_result"
    }
   ],
   "source": [
    "sbikedata.head()"
   ]
  },
  {
   "cell_type": "code",
   "execution_count": 61,
   "metadata": {
    "tags": []
   },
   "outputs": [
    {
     "name": "stdout",
     "output_type": "stream",
     "text": [
      "<class 'pandas.core.frame.DataFrame'>\n",
      "RangeIndex: 5827 entries, 0 to 5826\n",
      "Data columns (total 13 columns):\n",
      " #   Column         Non-Null Count  Dtype  \n",
      "---  ------         --------------  -----  \n",
      " 0   date           5827 non-null   object \n",
      " 1   hour           5827 non-null   int64  \n",
      " 2   PM10           5827 non-null   float64\n",
      " 3   PM2.5          5827 non-null   float64\n",
      " 4   ozone          5827 non-null   float64\n",
      " 5   temperature    5827 non-null   float64\n",
      " 6   precipitation  5827 non-null   int64  \n",
      " 7   windspeed      5827 non-null   float64\n",
      " 8   humidity       5827 non-null   int64  \n",
      " 9   visibility     5827 non-null   int64  \n",
      " 10  count          5827 non-null   int64  \n",
      " 11  month          5827 non-null   int32  \n",
      " 12  weekday        5827 non-null   int32  \n",
      "dtypes: float64(5), int32(2), int64(5), object(1)\n",
      "memory usage: 546.4+ KB\n"
     ]
    }
   ],
   "source": [
    "sbikedata.info()"
   ]
  },
  {
   "cell_type": "code",
   "execution_count": 60,
   "metadata": {
    "tags": []
   },
   "outputs": [],
   "source": [
    "sbikedata.to_csv(\"sbikedata_process.csv\", index=False)"
   ]
  },
  {
   "cell_type": "markdown",
   "metadata": {},
   "source": [
    "## 2.EDA 1단계 - 데이터 기본 탐색\n",
    "\n",
    "* 단변량 분석은 데이터분석의 매우 기초적인 분석기법으로, 독립적인 개별 변수가 가지고있는 특성들을 이해하는 과정입니다.\n",
    "\n",
    "    * <span style=\"color: green\"> 개별 변수에 대해 아래 사항들을 분석해보세요. </span>\n",
    "\n",
    "        1. 변수가 내포하고 있는 의미\n",
    "        2. 변수가 수치형인지, 범주형인지\n",
    "        3. 결측치 존재 여부 및 조치 방안\n",
    "        4. 기초 통계량 확인\n",
    "        5. 데이터 분포 확인\n",
    "        6. 위 정보로부터 파악한 내용 정리\n",
    "        7. 추가 분석사항 도출"
   ]
  },
  {
   "cell_type": "markdown",
   "metadata": {},
   "source": [
    "### (1) 수치형 변수들 단변량 분석"
   ]
  },
  {
   "cell_type": "code",
   "execution_count": 66,
   "metadata": {
    "tags": []
   },
   "outputs": [],
   "source": [
    "def eda_1_num(data, var_list, bins = 30):\n",
    "\n",
    "    # 시각화\n",
    "    print('<< 그래프 >>')\n",
    "    plt.figure(figsize = (12,36))\n",
    "        \n",
    "    for i in range(len(var_list)):\n",
    "        plt.subplot(10, 2, (2*i) + 1)\n",
    "        sns.histplot(data[var_list[i]], bins = bins, kde = True)\n",
    "        plt.grid()\n",
    "\n",
    "        plt.subplot(10, 2, (2*i) + 2)\n",
    "        sns.boxplot(x = data[var_list[i]])\n",
    "        plt.grid()\n",
    "        \n",
    "    plt.tight_layout()\n",
    "    plt.show()"
   ]
  },
  {
   "cell_type": "code",
   "execution_count": 67,
   "metadata": {
    "tags": []
   },
   "outputs": [
    {
     "name": "stdout",
     "output_type": "stream",
     "text": [
      "<< 그래프 >>\n"
     ]
    },
    {
     "data": {
      "image/png": "[encoded data removed]",
      "text/plain": [
       "<Figure size 1200x3600 with 20 Axes>"
      ]
     },
     "metadata": {},
     "output_type": "display_data"
    }
   ],
   "source": [
    "var_list = list(sbikedata)[1:11]\n",
    "eda_1_num(sbikedata, var_list, bins = 20)"
   ]
  },
  {
   "cell_type": "markdown",
   "metadata": {},
   "source": [
    "- 'hour': 22시~ 1시, 7시 ~ 8시, 15시~ 16시에서 이용 수가 다른 시간대에 비해서 많았다, 0시 및 일부 중간시간 데이터 비어있음\n",
    "- 'PM10': 0 ~ 50 정도의 수치가 많았다 (대체로 공기질이 좋은 편이었다) -> 결측치 median으로 대체\n",
    "- 'PM2.5': 0 ~ 20 정도의 수치가 많았다 (대체로 공기질이 좋은 편이었다) -> 결측치 median으로 대체\n",
    "- 'ozone': 0 ~ 0.04 수치에 많이 분포 (환경 기준 이하로 오존의 농도도 낮은 편이었다) -> 결측치 median으로 대체\n",
    "    - 오존은 기온 25도 이상, 상대습도 75% 이하, 풍속·초속 4m [참조 링크](https://m.science.ytn.co.kr/program/view.php?mcd=0082&key=202007141654519393)\n",
    "- 'temperature': 10 ~ 15도, 20 ~ 25도에 많이 분포 (여름과 봄, 가을로 평균 기온 이상)\n",
    "- 'precipitation': 비는 거의 오지 않았었다\n",
    "- 'windspeed': 2 ~ 3m/s에 많이 분포 (바람도 적정한 수준으로 불었다)\n",
    "- 'humidity': 60 ~ 80%에 많이 분포 (대체로 습하다 -> 데이터상 여름이 많았기 때문)\n",
    "- 'visibility': 시정 20km에 많이 분포 (날씨가 좋은편이라 가시거리도 높은 편)\n",
    "- 'count' (target): 시간당 0 ~ 250대의 수에 많이 분포 (생각보다는 많이 빌린다)"
   ]
  },
  {
   "cell_type": "markdown",
   "metadata": {},
   "source": [
    "### 2) 범주형 변수 단변량 분석"
   ]
  },
  {
   "cell_type": "code",
   "execution_count": 46,
   "metadata": {
    "tags": []
   },
   "outputs": [
    {
     "data": {
      "text/plain": [
       "date\n",
       "2021-08-01    24\n",
       "2021-09-12    24\n",
       "2021-08-31    24\n",
       "2021-09-01    24\n",
       "2021-09-02    24\n",
       "              ..\n",
       "2021-04-01    23\n",
       "2021-05-21    23\n",
       "2021-09-21    22\n",
       "2021-04-30    22\n",
       "2021-11-30     1\n",
       "Name: count, Length: 244, dtype: int64"
      ]
     },
     "execution_count": 46,
     "metadata": {},
     "output_type": "execute_result"
    }
   ],
   "source": [
    "sbikedata['date'].value_counts()"
   ]
  },
  {
   "cell_type": "code",
   "execution_count": 62,
   "metadata": {
    "tags": []
   },
   "outputs": [
    {
     "data": {
      "text/plain": [
       "hour\n",
       "1     243\n",
       "14    243\n",
       "23    243\n",
       "22    243\n",
       "21    243\n",
       "20    243\n",
       "19    243\n",
       "18    243\n",
       "17    243\n",
       "16    243\n",
       "15    243\n",
       "13    243\n",
       "12    243\n",
       "11    243\n",
       "10    243\n",
       "9     243\n",
       "8     243\n",
       "7     243\n",
       "5     243\n",
       "0     243\n",
       "2     242\n",
       "6     242\n",
       "3     242\n",
       "4     241\n",
       "Name: count, dtype: int64"
      ]
     },
     "execution_count": 62,
     "metadata": {},
     "output_type": "execute_result"
    }
   ],
   "source": [
    "sbikedata['hour'].value_counts()"
   ]
  },
  {
   "cell_type": "code",
   "execution_count": 63,
   "metadata": {
    "tags": []
   },
   "outputs": [
    {
     "data": {
      "text/plain": [
       "month\n",
       "7     744\n",
       "8     744\n",
       "10    744\n",
       "5     743\n",
       "6     720\n",
       "9     718\n",
       "4     717\n",
       "11    697\n",
       "Name: count, dtype: int64"
      ]
     },
     "execution_count": 63,
     "metadata": {},
     "output_type": "execute_result"
    }
   ],
   "source": [
    "sbikedata['month'].value_counts()"
   ]
  },
  {
   "cell_type": "code",
   "execution_count": 64,
   "metadata": {
    "tags": []
   },
   "outputs": [
    {
     "data": {
      "text/plain": [
       "weekday\n",
       "5    840\n",
       "6    840\n",
       "0    840\n",
       "3    839\n",
       "4    837\n",
       "2    816\n",
       "1    815\n",
       "Name: count, dtype: int64"
      ]
     },
     "execution_count": 64,
     "metadata": {},
     "output_type": "execute_result"
    }
   ],
   "source": [
    "sbikedata['weekday'].value_counts()"
   ]
  },
  {
   "cell_type": "code",
   "execution_count": 65,
   "metadata": {
    "tags": []
   },
   "outputs": [
    {
     "data": {
      "image/png": "[encoded data removed]",
      "text/plain": [
       "<Figure size 640x480 with 1 Axes>"
      ]
     },
     "metadata": {},
     "output_type": "display_data"
    }
   ],
   "source": [
    "sns.countplot(x = 'weekday', data = sbikedata)\n",
    "plt.show()"
   ]
  },
  {
   "cell_type": "markdown",
   "metadata": {},
   "source": [
    "- 'date': 날짜별 데이터의 양 거의 동일"
   ]
  },
  {
   "cell_type": "markdown",
   "metadata": {},
   "source": []
  },
  {
   "cell_type": "code",
   "execution_count": null,
   "metadata": {},
   "outputs": [],
   "source": []
  },
  {
   "cell_type": "code",
   "execution_count": null,
   "metadata": {},
   "outputs": [],
   "source": []
  },
  {
   "cell_type": "code",
   "execution_count": null,
   "metadata": {},
   "outputs": [],
   "source": []
  },
  {
   "cell_type": "code",
   "execution_count": null,
   "metadata": {},
   "outputs": [],
   "source": []
  },
  {
   "cell_type": "markdown",
   "metadata": {
    "tags": []
   },
   "source": [
    "#### 1) Feature1 : hour"
   ]
  },
  {
   "cell_type": "code",
   "execution_count": null,
   "metadata": {},
   "outputs": [],
   "source": [
    "# 아래에 실습코드를 작성하고 결과를 확인합니다.\n",
    "\n"
   ]
  },
  {
   "cell_type": "markdown",
   "metadata": {},
   "source": [
    "변수가 내포하고 있는 의미\n",
    "- 시간을 24시로 표현"
   ]
  },
  {
   "cell_type": "markdown",
   "metadata": {},
   "source": [
    "변수가 수치형인지 범주형인지\n",
    "- 시간은 범주형? 수치형?"
   ]
  },
  {
   "cell_type": "code",
   "execution_count": null,
   "metadata": {},
   "outputs": [],
   "source": [
    "# 아래에 실습코드를 작성하고 결과를 확인합니다.\n",
    "\n"
   ]
  },
  {
   "cell_type": "markdown",
   "metadata": {},
   "source": [
    "변수의 결측치 존재 여부 및 조치방안"
   ]
  },
  {
   "cell_type": "code",
   "execution_count": null,
   "metadata": {},
   "outputs": [],
   "source": [
    "# 아래에 실습코드를 작성하고 결과를 확인합니다.\n",
    "\n"
   ]
  },
  {
   "cell_type": "markdown",
   "metadata": {},
   "source": [
    "변수의 기초 통계량 확인"
   ]
  },
  {
   "cell_type": "code",
   "execution_count": null,
   "metadata": {},
   "outputs": [],
   "source": [
    "# 아래에 실습코드를 작성하고 결과를 확인합니다.\n",
    "\n"
   ]
  },
  {
   "cell_type": "markdown",
   "metadata": {},
   "source": [
    "변수의 분포 확인\n",
    "* kdeplot 활용"
   ]
  },
  {
   "cell_type": "code",
   "execution_count": null,
   "metadata": {},
   "outputs": [],
   "source": [
    "# 아래에 실습코드를 작성하고 결과를 확인합니다.\n",
    "\n"
   ]
  },
  {
   "cell_type": "markdown",
   "metadata": {},
   "source": [
    "위 정보로 부터 파악한 내용 정리\n",
    "- 데이터의 '시간' 열은 5827개 row로 구성되어있으며 결측치는 없음\n",
    "- 0시 및 일부 중간시간대 데이터가 비어있음"
   ]
  },
  {
   "cell_type": "markdown",
   "metadata": {},
   "source": [
    "#### 2) Feature2 : temperature"
   ]
  },
  {
   "cell_type": "markdown",
   "metadata": {},
   "source": [
    "변수가 내포하고 있는 의미\n",
    "- 따릉이 대여 시점의 온도\n"
   ]
  },
  {
   "cell_type": "code",
   "execution_count": null,
   "metadata": {},
   "outputs": [],
   "source": [
    "# 아래에 실습코드를 작성하고 결과를 확인합니다.\n",
    "\n"
   ]
  },
  {
   "cell_type": "markdown",
   "metadata": {},
   "source": [
    "변수가 수치형인지 범주형인지\n",
    "- 기온은 수치형? 범주형?"
   ]
  },
  {
   "cell_type": "code",
   "execution_count": null,
   "metadata": {},
   "outputs": [],
   "source": [
    "# 아래에 실습코드를 작성하고 결과를 확인합니다.\n",
    "\n"
   ]
  },
  {
   "cell_type": "markdown",
   "metadata": {},
   "source": [
    "변수의 결측치 존재 여부 및 조치방안"
   ]
  },
  {
   "cell_type": "code",
   "execution_count": null,
   "metadata": {},
   "outputs": [],
   "source": [
    "# 아래에 실습코드를 작성하고 결과를 확인합니다.\n",
    "\n"
   ]
  },
  {
   "cell_type": "markdown",
   "metadata": {},
   "source": [
    "변수의 기초 통계량 확인"
   ]
  },
  {
   "cell_type": "code",
   "execution_count": null,
   "metadata": {},
   "outputs": [],
   "source": [
    "# 아래에 실습코드를 작성하고 결과를 확인합니다.\n",
    "\n"
   ]
  },
  {
   "cell_type": "markdown",
   "metadata": {},
   "source": [
    "변수의 분포 확인"
   ]
  },
  {
   "cell_type": "code",
   "execution_count": null,
   "metadata": {},
   "outputs": [],
   "source": []
  },
  {
   "cell_type": "markdown",
   "metadata": {},
   "source": [
    "위 정보로 부터 파악한 내용 정리\n"
   ]
  },
  {
   "cell_type": "markdown",
   "metadata": {},
   "source": [
    "#### 3) Feature3 : precipitation"
   ]
  },
  {
   "cell_type": "markdown",
   "metadata": {},
   "source": [
    "변수가 내포하고 있는 의미\n",
    "- 따릉이 대여 시점의 강우 여부 (비가 안왔으면 0, 왔으면 1)"
   ]
  },
  {
   "cell_type": "code",
   "execution_count": null,
   "metadata": {},
   "outputs": [],
   "source": [
    "# 아래에 실습코드를 작성하고 결과를 확인합니다.\n",
    "\n"
   ]
  },
  {
   "cell_type": "markdown",
   "metadata": {},
   "source": [
    "변수가 수치형인지 범주형인지\n",
    "- 1시간 전 강우 유무는 범주형? 수치형?"
   ]
  },
  {
   "cell_type": "code",
   "execution_count": null,
   "metadata": {},
   "outputs": [],
   "source": [
    "# 아래에 실습코드를 작성하고 결과를 확인합니다.\n",
    "\n"
   ]
  },
  {
   "cell_type": "markdown",
   "metadata": {},
   "source": [
    "변수의 결측치 존재 여부 및 조치 방안\n"
   ]
  },
  {
   "cell_type": "code",
   "execution_count": null,
   "metadata": {},
   "outputs": [],
   "source": [
    "# 아래에 실습코드를 작성하고 결과를 확인합니다.\n",
    "\n"
   ]
  },
  {
   "cell_type": "markdown",
   "metadata": {},
   "source": [
    "변수의 기초 통계량 확인"
   ]
  },
  {
   "cell_type": "code",
   "execution_count": null,
   "metadata": {},
   "outputs": [],
   "source": [
    "# 아래에 실습코드를 작성하고 결과를 확인합니다.\n",
    "\n"
   ]
  },
  {
   "cell_type": "markdown",
   "metadata": {},
   "source": [
    "변수의 분포 확인"
   ]
  },
  {
   "cell_type": "code",
   "execution_count": null,
   "metadata": {},
   "outputs": [],
   "source": [
    "# 아래에 실습코드를 작성하고 결과를 확인합니다.\n",
    "\n"
   ]
  },
  {
   "cell_type": "markdown",
   "metadata": {},
   "source": [
    "위 정보로 부터 파악한 내용 정리\n"
   ]
  },
  {
   "cell_type": "markdown",
   "metadata": {},
   "source": [
    "#### 4) Feature4 : windspeed"
   ]
  },
  {
   "cell_type": "markdown",
   "metadata": {},
   "source": [
    "변수가 내포하고 있는 의미\n",
    "- 따릉이 대여 시점의 풍속, 풍량"
   ]
  },
  {
   "cell_type": "code",
   "execution_count": null,
   "metadata": {},
   "outputs": [],
   "source": [
    "# 아래에 실습코드를 작성하고 결과를 확인합니다.\n",
    "\n"
   ]
  },
  {
   "cell_type": "markdown",
   "metadata": {},
   "source": [
    "변수가 수치형인지 범주형인지\n"
   ]
  },
  {
   "cell_type": "code",
   "execution_count": null,
   "metadata": {},
   "outputs": [],
   "source": [
    "# 아래에 실습코드를 작성하고 결과를 확인합니다.\n",
    "\n"
   ]
  },
  {
   "cell_type": "markdown",
   "metadata": {},
   "source": [
    "변수의 결측치 존재 여부 및 조치방안"
   ]
  },
  {
   "cell_type": "code",
   "execution_count": null,
   "metadata": {},
   "outputs": [],
   "source": [
    "# 아래에 실습코드를 작성하고 결과를 확인합니다.\n",
    "\n"
   ]
  },
  {
   "cell_type": "markdown",
   "metadata": {},
   "source": [
    "변수의 기초 통계량 확인"
   ]
  },
  {
   "cell_type": "code",
   "execution_count": null,
   "metadata": {},
   "outputs": [],
   "source": [
    "# 아래에 실습코드를 작성하고 결과를 확인합니다.\n",
    "\n"
   ]
  },
  {
   "cell_type": "markdown",
   "metadata": {},
   "source": [
    "변수의 분포 확인"
   ]
  },
  {
   "cell_type": "code",
   "execution_count": null,
   "metadata": {},
   "outputs": [],
   "source": [
    "# 아래에 실습코드를 작성하고 결과를 확인합니다.\n",
    "\n"
   ]
  },
  {
   "cell_type": "markdown",
   "metadata": {},
   "source": [
    "위 정보로 부터 파악한 내용 정리\n"
   ]
  },
  {
   "cell_type": "markdown",
   "metadata": {},
   "source": [
    "#### 5) Feature5 : humidity"
   ]
  },
  {
   "cell_type": "markdown",
   "metadata": {},
   "source": [
    "변수가 내포하고 있는 의미\n",
    "- 따릉이 대여 시점의 습도"
   ]
  },
  {
   "cell_type": "code",
   "execution_count": null,
   "metadata": {},
   "outputs": [],
   "source": [
    "# 아래에 실습코드를 작성하고 결과를 확인합니다.\n",
    "\n"
   ]
  },
  {
   "cell_type": "markdown",
   "metadata": {},
   "source": [
    "변수가 수치형인지 범주형인지\n"
   ]
  },
  {
   "cell_type": "code",
   "execution_count": null,
   "metadata": {},
   "outputs": [],
   "source": [
    "# 아래에 실습코드를 작성하고 결과를 확인합니다.\n",
    "\n"
   ]
  },
  {
   "cell_type": "markdown",
   "metadata": {},
   "source": [
    "변수의 결측치 존재 여부 및 조치방안"
   ]
  },
  {
   "cell_type": "code",
   "execution_count": null,
   "metadata": {},
   "outputs": [],
   "source": [
    "# 아래에 실습코드를 작성하고 결과를 확인합니다.\n",
    "\n"
   ]
  },
  {
   "cell_type": "markdown",
   "metadata": {},
   "source": [
    "변수의 기초 통계량 확인"
   ]
  },
  {
   "cell_type": "code",
   "execution_count": null,
   "metadata": {},
   "outputs": [],
   "source": [
    "# 아래에 실습코드를 작성하고 결과를 확인합니다.\n",
    "\n"
   ]
  },
  {
   "cell_type": "markdown",
   "metadata": {},
   "source": [
    "변수의 분포 확인"
   ]
  },
  {
   "cell_type": "code",
   "execution_count": null,
   "metadata": {},
   "outputs": [],
   "source": [
    "# 아래에 실습코드를 작성하고 결과를 확인합니다.\n",
    "\n"
   ]
  },
  {
   "cell_type": "markdown",
   "metadata": {},
   "source": [
    "위 정보로 부터 파악한 내용 정리\n"
   ]
  },
  {
   "cell_type": "markdown",
   "metadata": {},
   "source": [
    "#### 6) Feature6 : visibility"
   ]
  },
  {
   "cell_type": "markdown",
   "metadata": {},
   "source": [
    "변수가 내포하고 있는 의미\n",
    "- 대여 시점의 시계 (시정 거리)"
   ]
  },
  {
   "cell_type": "code",
   "execution_count": null,
   "metadata": {},
   "outputs": [],
   "source": [
    "# 아래에 실습코드를 작성하고 결과를 확인합니다.\n",
    "\n"
   ]
  },
  {
   "cell_type": "markdown",
   "metadata": {},
   "source": [
    "변수가 수치형인지 범주형인지"
   ]
  },
  {
   "cell_type": "code",
   "execution_count": null,
   "metadata": {},
   "outputs": [],
   "source": [
    "# 아래에 실습코드를 작성하고 결과를 확인합니다.\n",
    "\n"
   ]
  },
  {
   "cell_type": "markdown",
   "metadata": {},
   "source": [
    "변수의 결측치 존재 여부 및 조치방안"
   ]
  },
  {
   "cell_type": "code",
   "execution_count": null,
   "metadata": {},
   "outputs": [],
   "source": [
    "# 아래에 실습코드를 작성하고 결과를 확인합니다.\n",
    "\n"
   ]
  },
  {
   "cell_type": "markdown",
   "metadata": {},
   "source": [
    "변수의 기초 통계량 확인"
   ]
  },
  {
   "cell_type": "code",
   "execution_count": null,
   "metadata": {},
   "outputs": [],
   "source": [
    "# 아래에 실습코드를 작성하고 결과를 확인합니다.\n",
    "\n"
   ]
  },
  {
   "cell_type": "markdown",
   "metadata": {},
   "source": [
    "변수의 분포 확인"
   ]
  },
  {
   "cell_type": "code",
   "execution_count": null,
   "metadata": {},
   "outputs": [],
   "source": [
    "# 아래에 실습코드를 작성하고 결과를 확인합니다.\n",
    "\n"
   ]
  },
  {
   "cell_type": "markdown",
   "metadata": {},
   "source": [
    "위 정보로 부터 파악한 내용 정리\n"
   ]
  },
  {
   "cell_type": "markdown",
   "metadata": {},
   "source": [
    "#### 7) Feature7 : ozone"
   ]
  },
  {
   "cell_type": "markdown",
   "metadata": {},
   "source": [
    "변수가 내포하고 있는 의미\n",
    "- 따릉이 대여 시점의 오존 수치"
   ]
  },
  {
   "cell_type": "code",
   "execution_count": null,
   "metadata": {},
   "outputs": [],
   "source": [
    "# 아래에 실습코드를 작성하고 결과를 확인합니다.\n",
    "\n"
   ]
  },
  {
   "cell_type": "markdown",
   "metadata": {},
   "source": [
    "변수가 수치형인지 범주형인지\n"
   ]
  },
  {
   "cell_type": "code",
   "execution_count": null,
   "metadata": {},
   "outputs": [],
   "source": [
    "# 아래에 실습코드를 작성하고 결과를 확인합니다.\n",
    "\n"
   ]
  },
  {
   "cell_type": "markdown",
   "metadata": {},
   "source": [
    "변수의 결측치 존재 여부 및 조치방안"
   ]
  },
  {
   "cell_type": "code",
   "execution_count": null,
   "metadata": {},
   "outputs": [],
   "source": [
    "# 아래에 실습코드를 작성하고 결과를 확인합니다.\n",
    "\n"
   ]
  },
  {
   "cell_type": "markdown",
   "metadata": {},
   "source": [
    "만약 결측치가 존재한다면?-> 어떻게 처리할 것인가?"
   ]
  },
  {
   "cell_type": "code",
   "execution_count": null,
   "metadata": {},
   "outputs": [],
   "source": [
    "# 아래에 실습코드를 작성하고 결과를 확인합니다.\n",
    "\n"
   ]
  },
  {
   "cell_type": "markdown",
   "metadata": {},
   "source": [
    "변수의 기초 통계량 확인"
   ]
  },
  {
   "cell_type": "code",
   "execution_count": null,
   "metadata": {},
   "outputs": [],
   "source": [
    "# 아래에 실습코드를 작성하고 결과를 확인합니다.\n",
    "\n"
   ]
  },
  {
   "cell_type": "markdown",
   "metadata": {},
   "source": [
    "변수의 분포 확인"
   ]
  },
  {
   "cell_type": "code",
   "execution_count": null,
   "metadata": {},
   "outputs": [],
   "source": [
    "# 아래에 실습코드를 작성하고 결과를 확인합니다.\n",
    "\n"
   ]
  },
  {
   "cell_type": "markdown",
   "metadata": {},
   "source": [
    "위 정보로 부터 파악한 내용 정리\n"
   ]
  },
  {
   "cell_type": "markdown",
   "metadata": {},
   "source": [
    "#### 8) Feature8 : PM10"
   ]
  },
  {
   "cell_type": "markdown",
   "metadata": {},
   "source": [
    "변수가 내포하고 있는 의미\n",
    "- 따릉이 대여 시점의 미세먼지 농도"
   ]
  },
  {
   "cell_type": "code",
   "execution_count": null,
   "metadata": {},
   "outputs": [],
   "source": [
    "# 아래에 실습코드를 작성하고 결과를 확인합니다.\n",
    "\n"
   ]
  },
  {
   "cell_type": "markdown",
   "metadata": {},
   "source": [
    "변수가 수치형인지 범주형인지\n"
   ]
  },
  {
   "cell_type": "code",
   "execution_count": 1,
   "metadata": {},
   "outputs": [],
   "source": [
    "# 아래에 실습코드를 작성하고 결과를 확인합니다.\n",
    "\n"
   ]
  },
  {
   "cell_type": "markdown",
   "metadata": {},
   "source": [
    "변수의 결측치 존재 여부 및 조치방안"
   ]
  },
  {
   "cell_type": "code",
   "execution_count": null,
   "metadata": {},
   "outputs": [],
   "source": [
    "# 아래에 실습코드를 작성하고 결과를 확인합니다.\n",
    "\n"
   ]
  },
  {
   "cell_type": "markdown",
   "metadata": {},
   "source": [
    "변수의 기초 통계량 확인"
   ]
  },
  {
   "cell_type": "code",
   "execution_count": null,
   "metadata": {},
   "outputs": [],
   "source": [
    "# 아래에 실습코드를 작성하고 결과를 확인합니다.\n",
    "\n"
   ]
  },
  {
   "cell_type": "markdown",
   "metadata": {},
   "source": [
    "변수의 분포 확인"
   ]
  },
  {
   "cell_type": "code",
   "execution_count": null,
   "metadata": {},
   "outputs": [],
   "source": [
    "# 아래에 실습코드를 작성하고 결과를 확인합니다.\n",
    "\n"
   ]
  },
  {
   "cell_type": "markdown",
   "metadata": {},
   "source": [
    "위 정보로 부터 파악한 내용 정리\n"
   ]
  },
  {
   "cell_type": "markdown",
   "metadata": {},
   "source": [
    "#### 9) Feature9 : PM2.5"
   ]
  },
  {
   "cell_type": "markdown",
   "metadata": {},
   "source": [
    "변수가 내포하고 있는 의미\n",
    "- 따릉이 대여시점의 초미세먼지 수치"
   ]
  },
  {
   "cell_type": "code",
   "execution_count": null,
   "metadata": {},
   "outputs": [],
   "source": [
    "# 아래에 실습코드를 작성하고 결과를 확인합니다.\n",
    "\n"
   ]
  },
  {
   "cell_type": "markdown",
   "metadata": {},
   "source": [
    "변수가 수치형인지 범주형인지\n"
   ]
  },
  {
   "cell_type": "code",
   "execution_count": null,
   "metadata": {},
   "outputs": [],
   "source": [
    "# 아래에 실습코드를 작성하고 결과를 확인합니다.\n",
    "\n"
   ]
  },
  {
   "cell_type": "markdown",
   "metadata": {},
   "source": [
    "변수의 결측치 존재 여부 및 조치방안"
   ]
  },
  {
   "cell_type": "code",
   "execution_count": null,
   "metadata": {},
   "outputs": [],
   "source": [
    "# 아래에 실습코드를 작성하고 결과를 확인합니다.\n",
    "\n"
   ]
  },
  {
   "cell_type": "markdown",
   "metadata": {},
   "source": [
    "변수의 기초 통계량 확인"
   ]
  },
  {
   "cell_type": "code",
   "execution_count": null,
   "metadata": {},
   "outputs": [],
   "source": [
    "# 아래에 실습코드를 작성하고 결과를 확인합니다.\n",
    "\n"
   ]
  },
  {
   "cell_type": "markdown",
   "metadata": {},
   "source": [
    "변수의 분포 확인"
   ]
  },
  {
   "cell_type": "code",
   "execution_count": null,
   "metadata": {},
   "outputs": [],
   "source": [
    "# 아래에 실습코드를 작성하고 결과를 확인합니다.\n",
    "\n"
   ]
  },
  {
   "cell_type": "markdown",
   "metadata": {},
   "source": [
    "위 정보로 부터 파악한 내용 정리\n"
   ]
  },
  {
   "cell_type": "markdown",
   "metadata": {},
   "source": [
    "#### 10) Count (Target)"
   ]
  },
  {
   "cell_type": "code",
   "execution_count": null,
   "metadata": {},
   "outputs": [],
   "source": [
    "# 아래에 실습코드를 작성하고 결과를 확인합니다.\n",
    "\n"
   ]
  },
  {
   "cell_type": "markdown",
   "metadata": {},
   "source": [
    "변수가 내포하고 있는 의미\n",
    "- 따릉이의 대여량 -> 우리가 예측해야 할 변수!"
   ]
  },
  {
   "cell_type": "code",
   "execution_count": null,
   "metadata": {},
   "outputs": [],
   "source": [
    "# 아래에 실습코드를 작성하고 결과를 확인합니다.\n",
    "\n"
   ]
  },
  {
   "cell_type": "markdown",
   "metadata": {},
   "source": [
    "변수가 수치형인지 범주형인지\n"
   ]
  },
  {
   "cell_type": "markdown",
   "metadata": {},
   "source": [
    "변수의 결측치 존재 여부 및 조치 방안"
   ]
  },
  {
   "cell_type": "code",
   "execution_count": null,
   "metadata": {},
   "outputs": [],
   "source": [
    "# 아래에 실습코드를 작성하고 결과를 확인합니다.\n",
    "\n"
   ]
  },
  {
   "cell_type": "markdown",
   "metadata": {},
   "source": [
    "변수의 기초 통계량 확인"
   ]
  },
  {
   "cell_type": "code",
   "execution_count": null,
   "metadata": {},
   "outputs": [],
   "source": [
    "# 아래에 실습코드를 작성하고 결과를 확인합니다.\n",
    "\n"
   ]
  },
  {
   "cell_type": "markdown",
   "metadata": {},
   "source": [
    "변수의 분포 확인"
   ]
  },
  {
   "cell_type": "code",
   "execution_count": null,
   "metadata": {},
   "outputs": [],
   "source": [
    "# 아래에 실습코드를 작성하고 결과를 확인합니다.\n",
    "\n"
   ]
  },
  {
   "cell_type": "markdown",
   "metadata": {},
   "source": [
    "위 정보로 부터 파악한 내용 정리\n"
   ]
  }
 ],
 "metadata": {
  "colab": {
   "name": "1. 데이터 불러오기 및 분석(EDA).ipynb",
   "provenance": []
  },
  "kernelspec": {
   "display_name": "Python 3",
   "language": "python",
   "name": "python3"
  },
  "language_info": {
   "codemirror_mode": {
    "name": "ipython",
    "version": 3
   },
   "file_extension": ".py",
   "mimetype": "text/x-python",
   "name": "python",
   "nbconvert_exporter": "python",
   "pygments_lexer": "ipython3",
   "version": "3.7.9"
  },
  "vscode": {
   "interpreter": {
    "hash": "cf92aa13fedf815d5c8dd192b8d835913fde3e8bc926b2a0ad6cc74ef2ba3ca2"
   }
  }
 },
 "nbformat": 4,
 "nbformat_minor": 5
}
